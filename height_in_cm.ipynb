{
 "cells": [
  {
   "cell_type": "markdown",
   "source": [
    "Exercise 14: Height Units\n",
    "(Solved—16 Lines) Many people think about their height in feet and inches, even in some countries that primarily use the metric system. Write a program that reads a number of feet from the user, followed by a number of inches. Once these values are read, your program\n",
    "should compute and display the equivalent number of centimeters.\n",
    "Hint: One foot is 12 inches. One inch is 2.54 centimeters."
   ],
   "metadata": {}
  },
  {
   "cell_type": "code",
   "execution_count": 4,
   "source": [
    "# Reading user input\n",
    "foot,inch = [int(x) for x in input(\"Please enter the height in foot inches:\").split()]\n",
    "\n",
    "FOOT = 12 * 2.54\n",
    "INCH = 2.54\n",
    "\n",
    "#Calculating the height in centemeters\n",
    "\n",
    "ht_cm = foot*FOOT + inch*INCH\n",
    "\n",
    "print(f\"Provided height in foot inches : {foot}feet {inch}inches\")\n",
    "print(f\"Calculated Height in Centimeters:{ht_cm}\")"
   ],
   "outputs": [
    {
     "output_type": "stream",
     "name": "stdout",
     "text": [
      "Provided height in foot inches : 4feet 9inches\n",
      "Calculated Height in Centimeters:144.78\n"
     ]
    }
   ],
   "metadata": {}
  }
 ],
 "metadata": {
  "orig_nbformat": 4,
  "language_info": {
   "name": "python",
   "version": "3.8.8",
   "mimetype": "text/x-python",
   "codemirror_mode": {
    "name": "ipython",
    "version": 3
   },
   "pygments_lexer": "ipython3",
   "nbconvert_exporter": "python",
   "file_extension": ".py"
  },
  "kernelspec": {
   "name": "python3",
   "display_name": "Python 3.8.8 64-bit ('base': conda)"
  },
  "interpreter": {
   "hash": "bc63f8f2ffa350c3ac2427cbb8609b6bf013c9708f6500157e16d8b0d940a5de"
  }
 },
 "nbformat": 4,
 "nbformat_minor": 2
}