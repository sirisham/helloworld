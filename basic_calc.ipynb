{
 "cells": [
  {
   "cell_type": "code",
   "execution_count": 2,
   "id": "2a4940c1",
   "metadata": {},
   "outputs": [],
   "source": [
    "def add(a,b):\n",
    "    #Add Function\n",
    "    return a+b\n",
    "def sub(a,b):\n",
    "    #Subtract function \n",
    "    return a+b\n",
    "def mul(a,b):\n",
    "    #Multiply function\n",
    "    return a*b\n",
    "def div(a,b):\n",
    "    #Divide Function\n",
    "    if (b == 0):\n",
    "        raise valueError(\"Divide by zero is not possible\")\n",
    "    return a/b\n",
    "\n",
    "\n"
   ]
  },
  {
   "cell_type": "code",
   "execution_count": null,
   "id": "a53b1cfa",
   "metadata": {},
   "outputs": [],
   "source": []
  },
  {
   "cell_type": "code",
   "execution_count": null,
   "id": "542cf321",
   "metadata": {},
   "outputs": [],
   "source": []
  }
 ],
 "metadata": {
  "kernelspec": {
   "display_name": "Python 3",
   "language": "python",
   "name": "python3"
  },
  "language_info": {
   "codemirror_mode": {
    "name": "ipython",
    "version": 3
   },
   "file_extension": ".py",
   "mimetype": "text/x-python",
   "name": "python",
   "nbconvert_exporter": "python",
   "pygments_lexer": "ipython3",
   "version": "3.8.8"
  }
 },
 "nbformat": 4,
 "nbformat_minor": 5
}
