{
 "cells": [
  {
   "cell_type": "markdown",
   "source": [
    "Current Time\n",
    "(10 Lines) Python includes a library of functions for working with time, including a function called asctime in the time module. It reads the current time from the com- puter’s internal clock and returns it in a human-readable format. Write a program that displays the current time and date. Your program will not require any input from\n",
    "the user."
   ],
   "metadata": {}
  },
  {
   "cell_type": "code",
   "execution_count": 12,
   "source": [
    "\n",
    "from time import asctime \n",
    "#import datetime as dt\n",
    "\n",
    "#using the asctime function of the time module\n",
    "ctoday = asctime()\n",
    "\n",
    "#print the today date and time\n",
    "print(ctoday)\n"
   ],
   "outputs": [
    {
     "output_type": "stream",
     "name": "stdout",
     "text": [
      "Fri Oct 22 00:19:26 2021\n"
     ]
    }
   ],
   "metadata": {}
  }
 ],
 "metadata": {
  "orig_nbformat": 4,
  "language_info": {
   "name": "python",
   "version": "3.8.8",
   "mimetype": "text/x-python",
   "codemirror_mode": {
    "name": "ipython",
    "version": 3
   },
   "pygments_lexer": "ipython3",
   "nbconvert_exporter": "python",
   "file_extension": ".py"
  },
  "kernelspec": {
   "name": "python3",
   "display_name": "Python 3.8.8 64-bit ('base': conda)"
  },
  "interpreter": {
   "hash": "bc63f8f2ffa350c3ac2427cbb8609b6bf013c9708f6500157e16d8b0d940a5de"
  }
 },
 "nbformat": 4,
 "nbformat_minor": 2
}