{
 "cells": [
  {
   "cell_type": "code",
   "execution_count": 9,
   "metadata": {},
   "outputs": [],
   "source": [
    "import os\n",
    "import shutil\n",
    "src = \"/Users/sirisha/Desktop/learning-python-2896241-main/Ch3 - Files/\"\n",
    "os.chdir(src)\n",
    "fil_list = os.listdir()\n",
    "totalbytes = 0\n",
    "for entry in fil_list:\n",
    "    if os.path.isfile(entry):\n",
    "        bytesize = os.path.getsize(entry)\n",
    "        totalbytes += bytesize\n",
    "\n",
    "\n",
    "\n",
    "files = open(\"chal/chall_file.txt\",\"w+\")\n",
    "files.write(\"THe total \" +  str(totalbytes) + \"\\n\")\n",
    "files.write(\"The files in the folder are.\\n\")\n",
    "files.write(\"----------------------------\\n\")\n",
    "\n",
    "for entry in fil_list:\n",
    "    if os.path.isfile(entry):\n",
    "        files.write(entry+\"\\n\")\n",
    "files.close()"
   ]
  }
 ],
 "metadata": {
  "interpreter": {
   "hash": "71bb11fca9f6eef2431e46c4d56bebdc351fc4c97a62ad3aeabb6c3041061f1b"
  },
  "kernelspec": {
   "display_name": "Python 3.8.8 64-bit ('base': conda)",
   "language": "python",
   "name": "python3"
  },
  "language_info": {
   "codemirror_mode": {
    "name": "ipython",
    "version": 3
   },
   "file_extension": ".py",
   "mimetype": "text/x-python",
   "name": "python",
   "nbconvert_exporter": "python",
   "pygments_lexer": "ipython3",
   "version": "3.8.8"
  },
  "orig_nbformat": 4
 },
 "nbformat": 4,
 "nbformat_minor": 2
}
