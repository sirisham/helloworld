{
 "cells": [
  {
   "cell_type": "markdown",
   "metadata": {},
   "source": [
    "Write a program that reads an integer from the user. Then your program should\n",
    "display a message indicating whether the integer is even or odd."
   ]
  },
  {
   "cell_type": "code",
   "execution_count": 1,
   "metadata": {},
   "outputs": [
    {
     "name": "stdout",
     "output_type": "stream",
     "text": [
      "The entered number 5 is a Odd numnber\n"
     ]
    }
   ],
   "source": [
    "number = int(input(\"Please enter a number:\"))\n",
    "\n",
    "if (number % 2 == 0):\n",
    "    print(f\"The entered number {number} is a Even numnber\")\n",
    "else :\n",
    "    print(f\"The entered number {number} is a Odd numnber\")\n"
   ]
  },
  {
   "cell_type": "markdown",
   "metadata": {},
   "source": []
  },
  {
   "cell_type": "markdown",
   "metadata": {},
   "source": [
    "Exercise 35: Dog Years\n",
    "(22 Lines) It is commonly said that one human year is equivalent to 7 dog years. However this simple conversion fails to recognize that dogs reach adulthood in approximately two years. As a result, some people believe that it is better to count each of the first two human years as 10.5 dog years, and then count each additional human year as 4 dog\n",
    "years.\n",
    "©\n",
    "16 2 If Statement Exercises\n",
    " Write a program that implements the conversion from human years to dog years described in the previous paragraph. Ensure that your program works correctly for conversions of less than two human years and for conversions of two or more human years. Your program should display an appropriate error message if the user enters a negative number."
   ]
  },
  {
   "cell_type": "code",
   "execution_count": 6,
   "metadata": {},
   "outputs": [
    {
     "name": "stdout",
     "output_type": "stream",
     "text": [
      "Human age 6 in terms of dog years is 26.5 \n"
     ]
    }
   ],
   "source": [
    "#Data given in the question Constant variables\n",
    "DOG_YEARS_EQ_1 = 7\n",
    "DOG_YEARS_EQ_2 = 10.5\n",
    "DOG_YEARS_GT_2 = 4\n",
    "\n",
    "#Consume input from user\n",
    "age = int(input(\"Please enter the age:\"))\n",
    "\n",
    "#Age less than zero\n",
    "if (age < 0):\n",
    "    print(\"You entered a negative number\")\n",
    "#Age equal to 1\n",
    "elif (age == 1):\n",
    "    print(f\"Human age {age} in terms of dog years is {DOG_YEARS_EQ_1}  \")\n",
    "#Age equal to two\n",
    "elif (age == 2):\n",
    "    print(f\"Human age {age} in terms of dog years is {DOG_YEARS_EQ_2} \")\n",
    "#Age greater than two\n",
    "elif (age > 2):\n",
    "    dog_years = ((age - 2)*DOG_YEARS_GT_2)+10.5\n",
    "    print(f\"Human age {age} in terms of dog years is {dog_years} \")\n",
    "\n",
    "\n",
    "\n"
   ]
  },
  {
   "cell_type": "markdown",
   "metadata": {},
   "source": [
    "\n",
    "Exercise 36: Vowel or Consonant\n",
    "(Solved—16 Lines) In this exercise you will create a program that reads a letter of the alphabet from the user. If the user enters a, e, i, o or u then your program should display a message indicating that the entered letter is a vowel. If the user enters y then your program should display a message indicating that sometimes y is a vowel, and sometimes y is a consonant. Otherwise your program should display a message indicating that the\n",
    "letter is a consonant."
   ]
  },
  {
   "cell_type": "code",
   "execution_count": 17,
   "metadata": {},
   "outputs": [
    {
     "name": "stdout",
     "output_type": "stream",
     "text": [
      "a is a vowel\n"
     ]
    }
   ],
   "source": [
    "#List of vowels\n",
    "vowels = ['a','e','i','o','u','y']\n",
    "\n",
    "#Getting input from user\n",
    "letter = input(\"Please enter a alphabet\")\n",
    "\n",
    "#Converting the input to lowercase we can use lower() also instead of casefold()\n",
    "letter = letter.casefold()\n",
    "\n",
    "#Checking if the alphabet is in the list using the in operator\n",
    "if (letter in vowels):\n",
    "    if(letter == 'y'):\n",
    "        print(\"sometimes y is a vowel, and sometimes y is a consonant\")\n",
    "    else:\n",
    "        print(f\"{letter} is a vowel\")\n",
    "#If not present it will print as consonant\n",
    "else:\n",
    "    print(f\"{letter} is a consonant\")\n"
   ]
  },
  {
   "cell_type": "markdown",
   "metadata": {},
   "source": [
    "Exercise 37: Name that Shape\n",
    "(Solved—31 Lines) Write a program that determines the name of a shape from its number of sides. Read the number of sides from the user and then report the appropriate name as part of a meaningful message. Your program should support shapes with anywhere from 3 up to (and including) 10 sides. If a number of sides outside of this range is entered\n",
    "then your program should display an appropriate error message."
   ]
  },
  {
   "cell_type": "code",
   "execution_count": 32,
   "metadata": {},
   "outputs": [
    {
     "name": "stdout",
     "output_type": "stream",
     "text": [
      "Polygon with 5 sides is a Pentagon\n"
     ]
    }
   ],
   "source": [
    "#Dictonary with list of keys as sides and values as the shape name\n",
    "shape = dict(dict(zip([3,4,5,6,7,8,9,10],['Triangle','Square/Rectangle/Diamond','Pentagon','Hexagon','heptagon','octagon','nonagon','decagon'])))\n",
    "\n",
    "#Taking user input\n",
    "sides = int(input(\"Please enter the polygon sides:\"))\n",
    "\n",
    "#Check if the enter input is in given range else print not in range message\n",
    "if (sides in range(3,11)):\n",
    "    name = shape[sides]\n",
    "    print(f\"Polygon with {sides} sides is a {name}\")\n",
    "else:\n",
    "    print(\"Not in Range. Please enter numbers between(3-10)\")"
   ]
  },
  {
   "cell_type": "markdown",
   "metadata": {},
   "source": [
    "Exercise 38: Month Name to Number of Days\n",
    "(Solved—18 Lines) The length of a month varies from 28 to 31 days. In this exercise you will create a program that reads the name of a month from the user as a string. Then your program should display the number of days in that month. Display “28 or 29 days”\n",
    "for February so that leap years are addressed."
   ]
  },
  {
   "cell_type": "code",
   "execution_count": 74,
   "metadata": {},
   "outputs": [
    {
     "ename": "TypeError",
     "evalue": "'function' object is not iterable",
     "output_type": "error",
     "traceback": [
      "\u001b[0;31m---------------------------------------------------------------------------\u001b[0m",
      "\u001b[0;31mTypeError\u001b[0m                                 Traceback (most recent call last)",
      "\u001b[0;32m<ipython-input-74-851f0336ed8b>\u001b[0m in \u001b[0;36m<module>\u001b[0;34m\u001b[0m\n\u001b[1;32m      7\u001b[0m \u001b[0;34m\u001b[0m\u001b[0m\n\u001b[1;32m      8\u001b[0m \u001b[0mdata1\u001b[0m \u001b[0;34m=\u001b[0m \u001b[0;34m[\u001b[0m\u001b[0mmonth\u001b[0m\u001b[0;34m[\u001b[0m\u001b[0;36m1\u001b[0m\u001b[0;34m]\u001b[0m \u001b[0;32mfor\u001b[0m \u001b[0mmonth\u001b[0m \u001b[0;32min\u001b[0m \u001b[0menumerate\u001b[0m\u001b[0;34m(\u001b[0m\u001b[0mcalendar\u001b[0m\u001b[0;34m.\u001b[0m\u001b[0mmonth_abbr\u001b[0m\u001b[0;34m)\u001b[0m \u001b[0;32mif\u001b[0m \u001b[0mmonth\u001b[0m\u001b[0;34m]\u001b[0m\u001b[0;34m\u001b[0m\u001b[0;34m\u001b[0m\u001b[0m\n\u001b[0;32m----> 9\u001b[0;31m \u001b[0mdata2\u001b[0m \u001b[0;34m=\u001b[0m \u001b[0;34m[\u001b[0m\u001b[0mdays\u001b[0m \u001b[0;32mfor\u001b[0m \u001b[0mdays\u001b[0m \u001b[0;32min\u001b[0m \u001b[0menumerate\u001b[0m\u001b[0;34m(\u001b[0m\u001b[0mcalendar\u001b[0m\u001b[0;34m.\u001b[0m\u001b[0mmonthrange\u001b[0m\u001b[0;34m)\u001b[0m\u001b[0;34m[\u001b[0m\u001b[0;36m1\u001b[0m\u001b[0;34m]\u001b[0m \u001b[0;34m]\u001b[0m\u001b[0;34m\u001b[0m\u001b[0;34m\u001b[0m\u001b[0m\n\u001b[0m\u001b[1;32m     10\u001b[0m \u001b[0;34m\u001b[0m\u001b[0m\n\u001b[1;32m     11\u001b[0m \u001b[0;34m\u001b[0m\u001b[0m\n",
      "\u001b[0;31mTypeError\u001b[0m: 'function' object is not iterable"
     ]
    }
   ],
   "source": [
    "import calendar\n",
    "import datetime \n",
    "\n",
    "currentdate = datetime.datetime.now()\n",
    "\n",
    "dates = currentdate.date()\n",
    "\n",
    "data1 = [month[1] for month in enumerate(calendar.month_abbr) if month]\n",
    "data2 = [days for days in enumerate(calendar.monthrange) ]\n",
    "\n",
    "\n",
    "print(data1)\n",
    "\n",
    "data = {month:days for month,days in enumerate(zip(calendar.month_abbr,calendar.monthrange),1) if month}\n",
    "\n",
    "#print(data)"
   ]
  },
  {
   "cell_type": "code",
   "execution_count": null,
   "metadata": {},
   "outputs": [],
   "source": [
    "Write a program that reads a sound level in decibels from the user. If the user enters a decibel level that matches \n",
    "one of the noises in the table then your program should display a message containing only that noise. \n",
    "If the user enters a number of decibels between the noises listed then your program should display a message \n",
    "indicating which noises the level is between. Ensure that your program also generates \n",
    "reasonable output for a value smaller than the quietest noise in the table, \n",
    "and for a value larger than the loudest noise in the table."
   ]
  },
  {
   "cell_type": "code",
   "execution_count": 15,
   "metadata": {},
   "outputs": [
    {
     "name": "stdout",
     "output_type": "stream",
     "text": [
      "THe noise made is less than the quitest noise\n"
     ]
    }
   ],
   "source": [
    "from datascience import *\n",
    "\n",
    "noise = Table().with_columns(\n",
    "    \"Noise\", make_array('Jackhammer','Gas lawnmower','Alarm clock','Quiet room'),\n",
    "    \"Decibel level (dB)\",make_array(130,106,70,40)\n",
    "\n",
    ")\n",
    "\n",
    "noise\n",
    "ranges = [130,106,70,40]\n",
    "\n",
    "ranges_sort = ranges\n",
    "sound_level = int(input(\"Please enter the sound level:\"))\n",
    "\n",
    "if sound_level in ranges:\n",
    "    a = noise.where('Decibel level (dB)', are.equal_to(sound_level))\n",
    "    print(a.select(\"Noise\"))\n",
    "elif(sound_level < min(ranges)):\n",
    "     print(\"THe noise made is less than the quitest noise\")\n",
    "elif(sound_level > max(ranges)):\n",
    "    print(f\"THe noise made is loudest than than the value {max(ranges)} DB given in the table\")\n",
    "else:\n",
    "    ranges_sort.append(sound_level)\n",
    "    ranges_sort.sort()\n",
    "    pos = ranges_sort.index(sound_level)\n",
    "    left_index = pos-1\n",
    "    right_index = pos+1\n",
    "    a_bet = noise.where('Decibel level (dB)', are.equal_to(ranges_sort[left_index]))\n",
    "    b_bet = noise.where('Decibel level (dB)',are.equal_to(ranges_sort[right_index]))\n",
    "    left_noise_nm = a_bet.column('Noise')\n",
    "    right_noise_nm = b_bet.column('Noise')\n",
    "\n",
    "    print(f\"The given sound level is between {left_noise_nm} and {right_noise_nm}\")"
   ]
  },
  {
   "cell_type": "code",
   "execution_count": null,
   "metadata": {},
   "outputs": [],
   "source": []
  }
 ],
 "metadata": {
  "interpreter": {
   "hash": "bc63f8f2ffa350c3ac2427cbb8609b6bf013c9708f6500157e16d8b0d940a5de"
  },
  "kernelspec": {
   "display_name": "Python 3.8.8 64-bit ('base': conda)",
   "name": "python3"
  },
  "language_info": {
   "codemirror_mode": {
    "name": "ipython",
    "version": 3
   },
   "file_extension": ".py",
   "mimetype": "text/x-python",
   "name": "python",
   "nbconvert_exporter": "python",
   "pygments_lexer": "ipython3",
   "version": "3.8.8"
  },
  "orig_nbformat": 4
 },
 "nbformat": 4,
 "nbformat_minor": 2
}
