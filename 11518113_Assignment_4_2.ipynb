{
 "cells": [
  {
   "cell_type": "markdown",
   "metadata": {},
   "source": [
    "1. Write a Python (with numpy) program to center the data in each row in matrix  \n",
    "  \n",
    "A =  [2    4    6    8\n",
    "      5    6    7    8 ]   "
   ]
  },
  {
   "cell_type": "code",
   "execution_count": 3,
   "metadata": {},
   "outputs": [
    {
     "name": "stdout",
     "output_type": "stream",
     "text": [
      "Shape of matrix is (2, 4)\n",
      "[[2 3 6 8]\n",
      " [5 6 7 8]]\n"
     ]
    }
   ],
   "source": [
    "#importing the numpy module to use the array method and shape method\n",
    "import numpy as np\n",
    "\n",
    "# Creating a 2*2 matix \n",
    "A = np.array([[2,3,6,8],[5,6,7,8]])\n",
    "\n",
    "#Printing the shape of the matrix\n",
    "print(f\"Shape of matrix is {A.shape}\")\n",
    "\n",
    "#Printing the Matrix A\n",
    "\n",
    "\n",
    "\n",
    "print(A)"
   ]
  },
  {
   "cell_type": "markdown",
   "metadata": {},
   "source": [
    "2. Write a Python (with numpy) program to solve the system of linear equations as \n",
    "following, print out the solution if it exists and print “no solution or infinite \n",
    "solution” for no solution/infinite solution:  \n",
    "                                 3x1 + x2 + 4 x3= 3 \n",
    "                                 9x1 + 4x2 +5 x3= 6  \n",
    "                                 9x1 + 4x2 +6 x3= 9 "
   ]
  },
  {
   "cell_type": "code",
   "execution_count": 6,
   "metadata": {},
   "outputs": [
    {
     "name": "stdout",
     "output_type": "stream",
     "text": [
      "Determinent value:3.0\n",
      "Given matrix \n",
      " A = [[3 1 4]\n",
      " [9 4 5]\n",
      " [9 4 6]] \n",
      " Solution: [-9. 18.  3.]\n"
     ]
    }
   ],
   "source": [
    "#Importing the numpy module\n",
    "import numpy as np \n",
    "\n",
    "#Creating a numpy array to hold the linear equations\n",
    "a = np.array([[3,1,4],[9,4,5],[9,4,6]])\n",
    "b = np.array([3,6,9])\n",
    "#calculate the determinent\n",
    "det_val = np.linalg.det(a)\n",
    "print(f\"Determinent value:{round(det_val,2)}\")\n",
    "\n",
    "#Solution exisist only if determinent is not equal to zero\n",
    "if(det_val != 0):\n",
    "   #Using the linalg solve method to solve the equations\n",
    "   x = np.linalg.solve(a,b)\n",
    "   if (x.size != 0):\n",
    "    print(f\"Given matrix \\n A = {a} \\n Solution: {x}\")\n",
    "else:\n",
    "   print(\"No solution\")\n"
   ]
  }
 ],
 "metadata": {
  "interpreter": {
   "hash": "bc63f8f2ffa350c3ac2427cbb8609b6bf013c9708f6500157e16d8b0d940a5de"
  },
  "kernelspec": {
   "display_name": "Python 3.8.8 64-bit ('base': conda)",
   "name": "python3"
  },
  "language_info": {
   "codemirror_mode": {
    "name": "ipython",
    "version": 3
   },
   "file_extension": ".py",
   "mimetype": "text/x-python",
   "name": "python",
   "nbconvert_exporter": "python",
   "pygments_lexer": "ipython3",
   "version": "3.8.8"
  },
  "orig_nbformat": 4
 },
 "nbformat": 4,
 "nbformat_minor": 2
}
