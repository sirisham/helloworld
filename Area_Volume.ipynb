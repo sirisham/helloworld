{
 "cells": [
  {
   "cell_type": "markdown",
   "source": [
    "Exercise 16: Area and Volume\n",
    "(15 Lines) Write a program that begins by reading a radius, r , from the user. The program will continue by computing and displaying the area of a circle with radius r and the volume of a sphere with radius r . Use the pi constant in the math module in your\n",
    "calculations.\n",
    "Hint: The area of a circle is computed using the formula area = πr2. The volume of a sphere is computed using the formula volume = 43πr3.\n"
   ],
   "metadata": {}
  },
  {
   "cell_type": "code",
   "execution_count": 19,
   "source": [
    "\n",
    "#import modules\n",
    "from math import pi \n",
    "\n",
    "#Read r,h value from he user\n",
    "r = int(input(\"Please provide the radius of the circle:\"))\n",
    "h = int(input(\"Please provide the height of the cylinder:\"))\n",
    "h_triangle = int(input(\"Please provide the height of the triangle:\"))\n",
    "b_triangle = int(input(\"Please provide the base of the triangle:\"))\n",
    "\n",
    "# Calculate the area of circle and the volume of sphere \n",
    "a_circle = pi*r**2\n",
    "v_sphere = 4//3*pi*r**3\n",
    "v_cyclinder = (pi*r**2*h)\n",
    "A_triangle = (0.5*h_triangle*b_triangle)\n",
    "\n",
    "print(f'Area of circle with radius :{r}: {round(A_circle,1)}')\n",
    "print(f'Volume of Sphere with radius :{r}: {round(v_sphere,1)}')\n",
    "print(f'Volume of Cylinder with radius:{r} and height {h} : {round(v_cyclinder,1)}')\n",
    "print(f'Area of triangle with height:{h_triangle} and base:{b_triangle}: {round(A_triangle,1)}')"
   ],
   "outputs": [
    {
     "output_type": "stream",
     "name": "stdout",
     "text": [
      "Area of circle with radius :10: 78.5\n",
      "Volume of Sphere with radius :10: 3141.6\n",
      "Volume of Cylinder with radius:10 and height 5 : 1570.8\n",
      "Area of triangle with height:5 and base:7: 17.5\n"
     ]
    }
   ],
   "metadata": {}
  }
 ],
 "metadata": {
  "orig_nbformat": 4,
  "language_info": {
   "name": "python",
   "version": "3.8.8",
   "mimetype": "text/x-python",
   "codemirror_mode": {
    "name": "ipython",
    "version": 3
   },
   "pygments_lexer": "ipython3",
   "nbconvert_exporter": "python",
   "file_extension": ".py"
  },
  "kernelspec": {
   "name": "python3",
   "display_name": "Python 3.8.8 64-bit ('base': conda)"
  },
  "interpreter": {
   "hash": "bc63f8f2ffa350c3ac2427cbb8609b6bf013c9708f6500157e16d8b0d940a5de"
  }
 },
 "nbformat": 4,
 "nbformat_minor": 2
}