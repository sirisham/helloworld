{
 "cells": [
  {
   "cell_type": "markdown",
   "source": [
    "Exercise 31: Sum of the Digits in an Integer\n",
    "(18 Lines) Develop a program that reads a four-digit integer from the user and displays the sum of the digits in the number. For example, if the user enters 3141 then your program\n",
    "should display 3+1+4+1=9."
   ],
   "metadata": {}
  },
  {
   "cell_type": "code",
   "execution_count": 1,
   "source": [
    "\n",
    "# read the number to be summed\n",
    "a = input(\"Please enter a number\")\n",
    "\n",
    "sum = 0\n",
    "\n",
    "# read each element in the string and convert as int to perform the sum\n",
    "for i in a:\n",
    "    sum = sum + int(i)\n",
    "\n",
    "# The sum of the number is printed below\n",
    "print(f'The Sum of {a} is: {sum}')"
   ],
   "outputs": [
    {
     "output_type": "stream",
     "name": "stdout",
     "text": [
      "The Sum of 1234 is: 10\n"
     ]
    }
   ],
   "metadata": {}
  },
  {
   "cell_type": "markdown",
   "source": [],
   "metadata": {}
  }
 ],
 "metadata": {
  "orig_nbformat": 4,
  "language_info": {
   "name": "python",
   "version": "3.8.8",
   "mimetype": "text/x-python",
   "codemirror_mode": {
    "name": "ipython",
    "version": 3
   },
   "pygments_lexer": "ipython3",
   "nbconvert_exporter": "python",
   "file_extension": ".py"
  },
  "kernelspec": {
   "name": "python3",
   "display_name": "Python 3.8.8 64-bit ('base': conda)"
  },
  "interpreter": {
   "hash": "bc63f8f2ffa350c3ac2427cbb8609b6bf013c9708f6500157e16d8b0d940a5de"
  }
 },
 "nbformat": 4,
 "nbformat_minor": 2
}