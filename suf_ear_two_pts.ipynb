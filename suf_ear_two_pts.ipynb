{
 "cells": [
  {
   "cell_type": "markdown",
   "source": [
    "Question : \n",
    "\n",
    "'''\n",
    "The surface of the Earth is curved, and the distance between degrees of longitude varies with latitude. As a result, finding the distance between two points on the surface\n",
    "of the Earth is more complicated than simply using the Pythagorean theorem.\n",
    "Let (t1, g1) and (t2, g2) be the latitude and longitude of two points on the Earth’s surface. The distance between these points, following the surface of the Earth, in\n",
    "kilometers is:\n",
    "distance = 6371.01 × arccos(sin(t1) × sin(t2) + cos(t1) × cos(t2) × cos(g1 − g2))\n",
    "The value 6371.01 in the previous equation wasn’t selected at random. It is the average radius of the Earth in kilometers.\n",
    "Create a program that allows the user to enter the latitude and longitude of two points on the Earth in degrees. Your program should display the distance between the points, following the surface of the earth, in kilometers.\n",
    "'''"
   ],
   "metadata": {}
  },
  {
   "cell_type": "code",
   "execution_count": 9,
   "source": [
    "import math as mt\n",
    "\n",
    "#Reads inout from the user\n",
    "t1,g1 = [int(x) for x in input('Please enter the latitude and logitude of two points(t1,g1').split()]\n",
    "t2,g2 = [int(x) for x in input('Please enter the latitude and logitude of two points(t2,g2').split()]\n",
    "\n",
    "t1_rad = mt.radians(t1)\n",
    "t2_rad = mt.radians(t2)\n",
    "g1_rad = mt.radians(g1)\n",
    "g2_rad = mt.radians(g2)\n",
    "\n",
    "#calculates the distance from the user\n",
    "distance = 6371.01 * mt.acos(mt.sin(t1_rad) * mt.sin(t2_rad) + mt.cos(t1_rad) * mt.cos(t2_rad) * mt.cos(g1_rad - g2_rad))\n",
    "\n",
    "print (f\"distance between the points {t1,g1} and {t2,g2}: {distance}km\")"
   ],
   "outputs": [
    {
     "output_type": "stream",
     "name": "stdout",
     "text": [
      "distance between the points (30, 60) and (60, 90): 4013.896413830214km\n"
     ]
    }
   ],
   "metadata": {}
  }
 ],
 "metadata": {
  "orig_nbformat": 4,
  "language_info": {
   "name": "python",
   "version": "3.8.8",
   "mimetype": "text/x-python",
   "codemirror_mode": {
    "name": "ipython",
    "version": 3
   },
   "pygments_lexer": "ipython3",
   "nbconvert_exporter": "python",
   "file_extension": ".py"
  },
  "kernelspec": {
   "name": "python3",
   "display_name": "Python 3.8.8 64-bit ('base': conda)"
  },
  "interpreter": {
   "hash": "bc63f8f2ffa350c3ac2427cbb8609b6bf013c9708f6500157e16d8b0d940a5de"
  }
 },
 "nbformat": 4,
 "nbformat_minor": 2
}