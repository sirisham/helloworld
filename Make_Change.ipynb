{
 "cells": [
  {
   "cell_type": "markdown",
   "source": [
    "Consider the software that runs on a self-checkout machine. One task that it must be able to perform is to determine how much change to provide when the shopper pays\n",
    "for a purchase with cash.\n",
    "Write a program that begins by reading a number of cents from the user as an\n",
    "integer. Then your program should compute and display the denominations of the coins that should be used to give that amount of change to the shopper. The change should be given using as few coins as possible. Assume that the machine is loaded with pennies, nickels, dimes, quarters, loonies and toonies."
   ],
   "metadata": {}
  },
  {
   "cell_type": "code",
   "execution_count": 3,
   "source": [
    "#Reading user input\n",
    "user_input = int(input(\"PLease enter the number of cents:\"))\n",
    "\n",
    "#Constant Variable\n",
    "CENTS_PER_TOONIE = 200\n",
    "CENTS_PER_LOONIE = 100\n",
    "CENTS_PER_QUATER = 25\n",
    "CENTS_PER_DIME = 10\n",
    "CENTS_PER_NICKEL = 5\n",
    "\n",
    "#Do divide the input by 200 to get then number of loonies\n",
    "\n",
    "print(f'{user_input // CENTS_PER_TOONIE} toonies')\n",
    "#Re assigning the input to get the differece(ie., Reminder )\n",
    "user_input = user_input % CENTS_PER_TOONIE\n",
    "\n",
    "\n",
    "#Repeat it for Loonoes,Quater,Dime,Nickel,penny\n",
    "\n",
    "print(f'{user_input // CENTS_PER_LOONIE} loonies')\n",
    "\n",
    "#Re assigning the input to get the differece(ie., Reminder )\n",
    "user_input = user_input % CENTS_PER_LOONIE\n",
    "\n",
    "print(f'{user_input // CENTS_PER_QUATER} Quaters')\n",
    "user_input = user_input % CENTS_PER_QUATER\n",
    "\n",
    "print(f'{user_input // CENTS_PER_DIME} dimes')\n",
    "user_input = user_input % CENTS_PER_DIME\n",
    "\n",
    "print(f'{user_input // CENTS_PER_NICKEL} nickel')\n",
    "user_input = user_input % CENTS_PER_NICKEL\n",
    "\n",
    "print(f'{user_input} pennies')\n"
   ],
   "outputs": [
    {
     "output_type": "stream",
     "name": "stdout",
     "text": [
      "2 toonies\n",
      "0 loonies\n",
      "2 Quaters\n",
      "0 dimes\n",
      "1 nickel\n",
      "1 pennies\n"
     ]
    }
   ],
   "metadata": {}
  },
  {
   "cell_type": "code",
   "execution_count": null,
   "source": [],
   "outputs": [],
   "metadata": {}
  }
 ],
 "metadata": {
  "orig_nbformat": 4,
  "language_info": {
   "name": "python",
   "version": "3.8.8",
   "mimetype": "text/x-python",
   "codemirror_mode": {
    "name": "ipython",
    "version": 3
   },
   "pygments_lexer": "ipython3",
   "nbconvert_exporter": "python",
   "file_extension": ".py"
  },
  "kernelspec": {
   "name": "python3",
   "display_name": "Python 3.8.8 64-bit ('base': conda)"
  },
  "interpreter": {
   "hash": "bc63f8f2ffa350c3ac2427cbb8609b6bf013c9708f6500157e16d8b0d940a5de"
  }
 },
 "nbformat": 4,
 "nbformat_minor": 2
}