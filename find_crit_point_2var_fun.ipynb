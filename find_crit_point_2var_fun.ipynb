{
  "nbformat": 4,
  "nbformat_minor": 0,
  "metadata": {
    "colab": {
      "name": "find_crit_point_2var_fun.ipynb",
      "provenance": [],
      "collapsed_sections": [],
      "mount_file_id": "1t-ZmDXcStsC2PDlUROj_wUYqbfL5cmuk",
      "authorship_tag": "ABX9TyP3fUyD52FT9PAvImp91qP8"
    },
    "kernelspec": {
      "name": "python3",
      "display_name": "Python 3"
    },
    "language_info": {
      "name": "python"
    }
  },
  "cells": [
    {
      "cell_type": "code",
      "metadata": {
        "colab": {
          "base_uri": "https://localhost:8080/"
        },
        "id": "DEr5kyzFEvbs",
        "outputId": "19393830-b121-4de9-b00e-5f3df1245b6c"
      },
      "source": [
        "#Write a Python (with Sympy) program to find the critical points of the function f(x, y)=4 x**2 + xy + 4𝑥**2𝑦**2\n",
        "\n",
        "from sympy import *\n",
        "\n",
        "x = symbols('x')\n",
        "y = symbols('y')\n",
        "\n",
        "expr = x**2+x*y+4*x**2*y**2\n",
        "\n",
        "expr_derx = Derivative(expr,x)\n",
        "\n",
        "expr_dery = Derivative(expr,y)\n",
        "\n",
        "\n",
        "dery = expr_dery.doit()\n",
        "\n",
        "derx = expr_derx.doit()\n",
        "\n",
        "crit_x = solve(derx,x,dict = True)\n",
        "\n",
        "crit_y = solve(dery,y,dict = True)\n",
        "\n",
        "print (crit_x,crit_y)"
      ],
      "execution_count": 2,
      "outputs": [
        {
          "output_type": "stream",
          "name": "stdout",
          "text": [
            "[{x: -y/(8*y**2 + 2)}] [{y: -1/(8*x)}]\n"
          ]
        }
      ]
    },
    {
      "cell_type": "code",
      "metadata": {
        "id": "kMNKMQkXahcv"
      },
      "source": [
        ""
      ],
      "execution_count": null,
      "outputs": []
    }
  ]
}