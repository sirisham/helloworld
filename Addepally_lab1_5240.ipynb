{
 "cells": [
  {
   "cell_type": "code",
   "execution_count": 133,
   "id": "e6339381",
   "metadata": {},
   "outputs": [],
   "source": [
    "import pandas as pd\n",
    "import numpy as np\n",
    "import matplotlib.pyplot as plt "
   ]
  },
  {
   "cell_type": "code",
   "execution_count": 2,
   "id": "c95bcaa5",
   "metadata": {},
   "outputs": [
    {
     "data": {
      "text/html": [
       "<div>\n",
       "<style scoped>\n",
       "    .dataframe tbody tr th:only-of-type {\n",
       "        vertical-align: middle;\n",
       "    }\n",
       "\n",
       "    .dataframe tbody tr th {\n",
       "        vertical-align: top;\n",
       "    }\n",
       "\n",
       "    .dataframe thead th {\n",
       "        text-align: right;\n",
       "    }\n",
       "</style>\n",
       "<table border=\"1\" class=\"dataframe\">\n",
       "  <thead>\n",
       "    <tr style=\"text-align: right;\">\n",
       "      <th></th>\n",
       "      <th>age</th>\n",
       "      <th>sex</th>\n",
       "      <th>on thyroxine</th>\n",
       "      <th>query on thyroxine</th>\n",
       "      <th>on antithyroid medication</th>\n",
       "      <th>sick</th>\n",
       "      <th>pregnant</th>\n",
       "      <th>thyroid surgery</th>\n",
       "      <th>I131 treatment</th>\n",
       "      <th>query hypothyroid</th>\n",
       "      <th>...</th>\n",
       "      <th>TT4 measured</th>\n",
       "      <th>TT4</th>\n",
       "      <th>T4U measured</th>\n",
       "      <th>T4U</th>\n",
       "      <th>FTI measured</th>\n",
       "      <th>FTI</th>\n",
       "      <th>TBG measured</th>\n",
       "      <th>TBG</th>\n",
       "      <th>referral source</th>\n",
       "      <th>y</th>\n",
       "    </tr>\n",
       "  </thead>\n",
       "  <tbody>\n",
       "    <tr>\n",
       "      <th>0</th>\n",
       "      <td>29</td>\n",
       "      <td>F</td>\n",
       "      <td>f</td>\n",
       "      <td>f</td>\n",
       "      <td>f</td>\n",
       "      <td>f</td>\n",
       "      <td>f</td>\n",
       "      <td>f</td>\n",
       "      <td>f</td>\n",
       "      <td>t</td>\n",
       "      <td>...</td>\n",
       "      <td>f</td>\n",
       "      <td>?</td>\n",
       "      <td>f</td>\n",
       "      <td>?</td>\n",
       "      <td>f</td>\n",
       "      <td>?</td>\n",
       "      <td>f</td>\n",
       "      <td>?</td>\n",
       "      <td>other</td>\n",
       "      <td>0</td>\n",
       "    </tr>\n",
       "    <tr>\n",
       "      <th>1</th>\n",
       "      <td>29</td>\n",
       "      <td>F</td>\n",
       "      <td>f</td>\n",
       "      <td>f</td>\n",
       "      <td>f</td>\n",
       "      <td>f</td>\n",
       "      <td>f</td>\n",
       "      <td>f</td>\n",
       "      <td>f</td>\n",
       "      <td>f</td>\n",
       "      <td>...</td>\n",
       "      <td>t</td>\n",
       "      <td>128</td>\n",
       "      <td>f</td>\n",
       "      <td>?</td>\n",
       "      <td>f</td>\n",
       "      <td>?</td>\n",
       "      <td>f</td>\n",
       "      <td>?</td>\n",
       "      <td>other</td>\n",
       "      <td>0</td>\n",
       "    </tr>\n",
       "    <tr>\n",
       "      <th>2</th>\n",
       "      <td>41</td>\n",
       "      <td>F</td>\n",
       "      <td>f</td>\n",
       "      <td>f</td>\n",
       "      <td>f</td>\n",
       "      <td>f</td>\n",
       "      <td>f</td>\n",
       "      <td>f</td>\n",
       "      <td>f</td>\n",
       "      <td>f</td>\n",
       "      <td>...</td>\n",
       "      <td>f</td>\n",
       "      <td>?</td>\n",
       "      <td>f</td>\n",
       "      <td>?</td>\n",
       "      <td>f</td>\n",
       "      <td>?</td>\n",
       "      <td>t</td>\n",
       "      <td>11</td>\n",
       "      <td>other</td>\n",
       "      <td>0</td>\n",
       "    </tr>\n",
       "    <tr>\n",
       "      <th>3</th>\n",
       "      <td>36</td>\n",
       "      <td>F</td>\n",
       "      <td>f</td>\n",
       "      <td>f</td>\n",
       "      <td>f</td>\n",
       "      <td>f</td>\n",
       "      <td>f</td>\n",
       "      <td>f</td>\n",
       "      <td>f</td>\n",
       "      <td>f</td>\n",
       "      <td>...</td>\n",
       "      <td>f</td>\n",
       "      <td>?</td>\n",
       "      <td>f</td>\n",
       "      <td>?</td>\n",
       "      <td>f</td>\n",
       "      <td>?</td>\n",
       "      <td>t</td>\n",
       "      <td>26</td>\n",
       "      <td>other</td>\n",
       "      <td>0</td>\n",
       "    </tr>\n",
       "    <tr>\n",
       "      <th>4</th>\n",
       "      <td>32</td>\n",
       "      <td>F</td>\n",
       "      <td>f</td>\n",
       "      <td>f</td>\n",
       "      <td>f</td>\n",
       "      <td>f</td>\n",
       "      <td>f</td>\n",
       "      <td>f</td>\n",
       "      <td>f</td>\n",
       "      <td>f</td>\n",
       "      <td>...</td>\n",
       "      <td>f</td>\n",
       "      <td>?</td>\n",
       "      <td>f</td>\n",
       "      <td>?</td>\n",
       "      <td>f</td>\n",
       "      <td>?</td>\n",
       "      <td>t</td>\n",
       "      <td>36</td>\n",
       "      <td>other</td>\n",
       "      <td>1</td>\n",
       "    </tr>\n",
       "    <tr>\n",
       "      <th>...</th>\n",
       "      <td>...</td>\n",
       "      <td>...</td>\n",
       "      <td>...</td>\n",
       "      <td>...</td>\n",
       "      <td>...</td>\n",
       "      <td>...</td>\n",
       "      <td>...</td>\n",
       "      <td>...</td>\n",
       "      <td>...</td>\n",
       "      <td>...</td>\n",
       "      <td>...</td>\n",
       "      <td>...</td>\n",
       "      <td>...</td>\n",
       "      <td>...</td>\n",
       "      <td>...</td>\n",
       "      <td>...</td>\n",
       "      <td>...</td>\n",
       "      <td>...</td>\n",
       "      <td>...</td>\n",
       "      <td>...</td>\n",
       "      <td>...</td>\n",
       "    </tr>\n",
       "    <tr>\n",
       "      <th>9167</th>\n",
       "      <td>56</td>\n",
       "      <td>M</td>\n",
       "      <td>f</td>\n",
       "      <td>f</td>\n",
       "      <td>f</td>\n",
       "      <td>f</td>\n",
       "      <td>f</td>\n",
       "      <td>f</td>\n",
       "      <td>f</td>\n",
       "      <td>f</td>\n",
       "      <td>...</td>\n",
       "      <td>t</td>\n",
       "      <td>64</td>\n",
       "      <td>t</td>\n",
       "      <td>0.83</td>\n",
       "      <td>t</td>\n",
       "      <td>77</td>\n",
       "      <td>f</td>\n",
       "      <td>?</td>\n",
       "      <td>SVI</td>\n",
       "      <td>0</td>\n",
       "    </tr>\n",
       "    <tr>\n",
       "      <th>9168</th>\n",
       "      <td>22</td>\n",
       "      <td>M</td>\n",
       "      <td>f</td>\n",
       "      <td>f</td>\n",
       "      <td>f</td>\n",
       "      <td>f</td>\n",
       "      <td>f</td>\n",
       "      <td>f</td>\n",
       "      <td>f</td>\n",
       "      <td>f</td>\n",
       "      <td>...</td>\n",
       "      <td>t</td>\n",
       "      <td>91</td>\n",
       "      <td>t</td>\n",
       "      <td>0.92</td>\n",
       "      <td>t</td>\n",
       "      <td>99</td>\n",
       "      <td>f</td>\n",
       "      <td>?</td>\n",
       "      <td>SVI</td>\n",
       "      <td>0</td>\n",
       "    </tr>\n",
       "    <tr>\n",
       "      <th>9169</th>\n",
       "      <td>69</td>\n",
       "      <td>M</td>\n",
       "      <td>f</td>\n",
       "      <td>f</td>\n",
       "      <td>f</td>\n",
       "      <td>f</td>\n",
       "      <td>f</td>\n",
       "      <td>f</td>\n",
       "      <td>f</td>\n",
       "      <td>f</td>\n",
       "      <td>...</td>\n",
       "      <td>t</td>\n",
       "      <td>113</td>\n",
       "      <td>t</td>\n",
       "      <td>1.27</td>\n",
       "      <td>t</td>\n",
       "      <td>89</td>\n",
       "      <td>f</td>\n",
       "      <td>?</td>\n",
       "      <td>SVI</td>\n",
       "      <td>1</td>\n",
       "    </tr>\n",
       "    <tr>\n",
       "      <th>9170</th>\n",
       "      <td>47</td>\n",
       "      <td>F</td>\n",
       "      <td>f</td>\n",
       "      <td>f</td>\n",
       "      <td>f</td>\n",
       "      <td>f</td>\n",
       "      <td>f</td>\n",
       "      <td>f</td>\n",
       "      <td>f</td>\n",
       "      <td>f</td>\n",
       "      <td>...</td>\n",
       "      <td>t</td>\n",
       "      <td>75</td>\n",
       "      <td>t</td>\n",
       "      <td>0.85</td>\n",
       "      <td>t</td>\n",
       "      <td>88</td>\n",
       "      <td>f</td>\n",
       "      <td>?</td>\n",
       "      <td>other</td>\n",
       "      <td>0</td>\n",
       "    </tr>\n",
       "    <tr>\n",
       "      <th>9171</th>\n",
       "      <td>31</td>\n",
       "      <td>M</td>\n",
       "      <td>f</td>\n",
       "      <td>f</td>\n",
       "      <td>f</td>\n",
       "      <td>f</td>\n",
       "      <td>f</td>\n",
       "      <td>f</td>\n",
       "      <td>f</td>\n",
       "      <td>t</td>\n",
       "      <td>...</td>\n",
       "      <td>t</td>\n",
       "      <td>66</td>\n",
       "      <td>t</td>\n",
       "      <td>1.02</td>\n",
       "      <td>t</td>\n",
       "      <td>65</td>\n",
       "      <td>f</td>\n",
       "      <td>?</td>\n",
       "      <td>other</td>\n",
       "      <td>0</td>\n",
       "    </tr>\n",
       "  </tbody>\n",
       "</table>\n",
       "<p>9172 rows × 30 columns</p>\n",
       "</div>"
      ],
      "text/plain": [
       "      age sex on thyroxine query on thyroxine on antithyroid medication sick  \\\n",
       "0      29   F            f                  f                         f    f   \n",
       "1      29   F            f                  f                         f    f   \n",
       "2      41   F            f                  f                         f    f   \n",
       "3      36   F            f                  f                         f    f   \n",
       "4      32   F            f                  f                         f    f   \n",
       "...   ...  ..          ...                ...                       ...  ...   \n",
       "9167   56   M            f                  f                         f    f   \n",
       "9168   22   M            f                  f                         f    f   \n",
       "9169   69   M            f                  f                         f    f   \n",
       "9170   47   F            f                  f                         f    f   \n",
       "9171   31   M            f                  f                         f    f   \n",
       "\n",
       "     pregnant thyroid surgery I131 treatment query hypothyroid  ...  \\\n",
       "0           f               f              f                 t  ...   \n",
       "1           f               f              f                 f  ...   \n",
       "2           f               f              f                 f  ...   \n",
       "3           f               f              f                 f  ...   \n",
       "4           f               f              f                 f  ...   \n",
       "...       ...             ...            ...               ...  ...   \n",
       "9167        f               f              f                 f  ...   \n",
       "9168        f               f              f                 f  ...   \n",
       "9169        f               f              f                 f  ...   \n",
       "9170        f               f              f                 f  ...   \n",
       "9171        f               f              f                 t  ...   \n",
       "\n",
       "     TT4 measured  TT4 T4U measured   T4U FTI measured FTI TBG measured TBG  \\\n",
       "0               f    ?            f     ?            f   ?            f   ?   \n",
       "1               t  128            f     ?            f   ?            f   ?   \n",
       "2               f    ?            f     ?            f   ?            t  11   \n",
       "3               f    ?            f     ?            f   ?            t  26   \n",
       "4               f    ?            f     ?            f   ?            t  36   \n",
       "...           ...  ...          ...   ...          ...  ..          ...  ..   \n",
       "9167            t   64            t  0.83            t  77            f   ?   \n",
       "9168            t   91            t  0.92            t  99            f   ?   \n",
       "9169            t  113            t  1.27            t  89            f   ?   \n",
       "9170            t   75            t  0.85            t  88            f   ?   \n",
       "9171            t   66            t  1.02            t  65            f   ?   \n",
       "\n",
       "     referral source  y  \n",
       "0              other  0  \n",
       "1              other  0  \n",
       "2              other  0  \n",
       "3              other  0  \n",
       "4              other  1  \n",
       "...              ... ..  \n",
       "9167             SVI  0  \n",
       "9168             SVI  0  \n",
       "9169             SVI  1  \n",
       "9170           other  0  \n",
       "9171           other  0  \n",
       "\n",
       "[9172 rows x 30 columns]"
      ]
     },
     "execution_count": 2,
     "metadata": {},
     "output_type": "execute_result"
    }
   ],
   "source": [
    "# Read CSV file into the pandas dataframe\n",
    "\n",
    "df = pd.read_csv('thyroid.csv')\n",
    "df"
   ]
  },
  {
   "cell_type": "code",
   "execution_count": 3,
   "id": "1b6f6546",
   "metadata": {},
   "outputs": [
    {
     "data": {
      "text/plain": [
       "(9172, 30)"
      ]
     },
     "execution_count": 3,
     "metadata": {},
     "output_type": "execute_result"
    }
   ],
   "source": [
    "#Shows the rows and columns of the dataframe\n",
    "df.shape"
   ]
  },
  {
   "cell_type": "code",
   "execution_count": 4,
   "id": "a6233505",
   "metadata": {},
   "outputs": [
    {
     "data": {
      "text/plain": [
       "0    73.82\n",
       "1    26.18\n",
       "Name: y, dtype: float64"
      ]
     },
     "execution_count": 4,
     "metadata": {},
     "output_type": "execute_result"
    }
   ],
   "source": [
    "#returns the value count in column 'y' percentage between 0 - 100 \n",
    "round(df['y'].value_counts(normalize = True)*100,2)"
   ]
  },
  {
   "cell_type": "code",
   "execution_count": 5,
   "id": "9c192e69",
   "metadata": {},
   "outputs": [
    {
     "data": {
      "text/plain": [
       "F    66.21\n",
       "M    30.44\n",
       "?     3.35\n",
       "Name: sex, dtype: float64"
      ]
     },
     "execution_count": 5,
     "metadata": {},
     "output_type": "execute_result"
    }
   ],
   "source": [
    "# Sex column has 'Male' and 'Female' classification .  Calculating the percentage of females\n",
    "round(df['sex'].value_counts(normalize = True)*100,2)"
   ]
  },
  {
   "cell_type": "code",
   "execution_count": 6,
   "id": "09779ead",
   "metadata": {},
   "outputs": [
    {
     "data": {
      "text/html": [
       "<div>\n",
       "<style scoped>\n",
       "    .dataframe tbody tr th:only-of-type {\n",
       "        vertical-align: middle;\n",
       "    }\n",
       "\n",
       "    .dataframe tbody tr th {\n",
       "        vertical-align: top;\n",
       "    }\n",
       "\n",
       "    .dataframe thead th {\n",
       "        text-align: right;\n",
       "    }\n",
       "</style>\n",
       "<table border=\"1\" class=\"dataframe\">\n",
       "  <thead>\n",
       "    <tr style=\"text-align: right;\">\n",
       "      <th></th>\n",
       "      <th>age</th>\n",
       "      <th>y</th>\n",
       "    </tr>\n",
       "  </thead>\n",
       "  <tbody>\n",
       "    <tr>\n",
       "      <th>count</th>\n",
       "      <td>9172.000000</td>\n",
       "      <td>9172.000000</td>\n",
       "    </tr>\n",
       "    <tr>\n",
       "      <th>mean</th>\n",
       "      <td>73.555822</td>\n",
       "      <td>0.261775</td>\n",
       "    </tr>\n",
       "    <tr>\n",
       "      <th>std</th>\n",
       "      <td>1183.976718</td>\n",
       "      <td>0.439625</td>\n",
       "    </tr>\n",
       "    <tr>\n",
       "      <th>min</th>\n",
       "      <td>1.000000</td>\n",
       "      <td>0.000000</td>\n",
       "    </tr>\n",
       "    <tr>\n",
       "      <th>25%</th>\n",
       "      <td>37.000000</td>\n",
       "      <td>0.000000</td>\n",
       "    </tr>\n",
       "    <tr>\n",
       "      <th>50%</th>\n",
       "      <td>55.000000</td>\n",
       "      <td>0.000000</td>\n",
       "    </tr>\n",
       "    <tr>\n",
       "      <th>75%</th>\n",
       "      <td>68.000000</td>\n",
       "      <td>1.000000</td>\n",
       "    </tr>\n",
       "    <tr>\n",
       "      <th>max</th>\n",
       "      <td>65526.000000</td>\n",
       "      <td>1.000000</td>\n",
       "    </tr>\n",
       "  </tbody>\n",
       "</table>\n",
       "</div>"
      ],
      "text/plain": [
       "                age            y\n",
       "count   9172.000000  9172.000000\n",
       "mean      73.555822     0.261775\n",
       "std     1183.976718     0.439625\n",
       "min        1.000000     0.000000\n",
       "25%       37.000000     0.000000\n",
       "50%       55.000000     0.000000\n",
       "75%       68.000000     1.000000\n",
       "max    65526.000000     1.000000"
      ]
     },
     "execution_count": 6,
     "metadata": {},
     "output_type": "execute_result"
    }
   ],
   "source": [
    "#Statistica Analysis parameters\n",
    "df.describe()"
   ]
  },
  {
   "cell_type": "code",
   "execution_count": 7,
   "id": "29c700eb",
   "metadata": {},
   "outputs": [
    {
     "data": {
      "text/plain": [
       "73.56"
      ]
     },
     "execution_count": 7,
     "metadata": {},
     "output_type": "execute_result"
    }
   ],
   "source": [
    "#Averae age of all patients in the dataframe\n",
    "round(df['age'].mean(),2)"
   ]
  },
  {
   "cell_type": "code",
   "execution_count": 8,
   "id": "7adbf15f",
   "metadata": {},
   "outputs": [
    {
     "data": {
      "text/plain": [
       "6"
      ]
     },
     "execution_count": 8,
     "metadata": {},
     "output_type": "execute_result"
    }
   ],
   "source": [
    "# Number of unique values in the referral source column\n",
    "len(df['referral source'].unique())"
   ]
  },
  {
   "cell_type": "code",
   "execution_count": 9,
   "id": "9e2f963d",
   "metadata": {},
   "outputs": [
    {
     "data": {
      "text/plain": [
       "other    5493\n",
       "SVI      2394\n",
       "SVHC      956\n",
       "STMW      255\n",
       "SVHD       71\n",
       "WEST        3\n",
       "Name: referral source, dtype: int64"
      ]
     },
     "execution_count": 9,
     "metadata": {},
     "output_type": "execute_result"
    }
   ],
   "source": [
    "#highest frequency in the referral source column\n",
    "df['referral source'].value_counts(ascending = False)"
   ]
  },
  {
   "cell_type": "code",
   "execution_count": 10,
   "id": "5e929f83",
   "metadata": {},
   "outputs": [],
   "source": [
    "import numpy as np\n",
    "\n",
    "pd.set_option('display.max_columns' ,30)\n",
    "\n",
    "#Replace the dataset with sentinel values \n",
    "df.replace({\"?\" : np.nan},inplace = True)"
   ]
  },
  {
   "cell_type": "code",
   "execution_count": 11,
   "id": "5cb71214",
   "metadata": {},
   "outputs": [
    {
     "data": {
      "text/plain": [
       "5.32"
      ]
     },
     "execution_count": 11,
     "metadata": {},
     "output_type": "execute_result"
    }
   ],
   "source": [
    "#Now, replace all the sentinel values with np.nan. What percentage of all cells is marked with np.nan? Enter the answer as a value between 0 and 100, and two digits after the decimal point and without the percent sign.\n",
    "\n",
    "total_na = df.isnull().sum().sum()\n",
    "total_cell = df.size\n",
    "\n",
    "round((total_na/total_cell)*100,2)"
   ]
  },
  {
   "cell_type": "code",
   "execution_count": 12,
   "id": "fe7874e4",
   "metadata": {},
   "outputs": [
    {
     "data": {
      "text/plain": [
       "99.78"
      ]
     },
     "execution_count": 12,
     "metadata": {},
     "output_type": "execute_result"
    }
   ],
   "source": [
    "#What percentage of the rows in this data frame have at least one attribute flagged as a missing value. cEnter the answer as a value between 0 and 100, and two digits after the decimal point and without the percent sign.\n",
    "\n",
    "#no of rows has the nan values\n",
    "\n",
    "na_rows = (df.transpose().isnull().sum() != 0).sum()\n",
    "\n",
    "total_rows = df.shape[0]\n",
    "\n",
    "round((na_rows/total_rows)*100,2)"
   ]
  },
  {
   "cell_type": "code",
   "execution_count": 13,
   "id": "4535bc6c",
   "metadata": {},
   "outputs": [
    {
     "data": {
      "text/plain": [
       "1.59"
      ]
     },
     "execution_count": 13,
     "metadata": {},
     "output_type": "execute_result"
    }
   ],
   "source": [
    "#What is the average number of missing values in all the data frame rows? Enter the answer as a number with two digits after the decimal point.\n",
    "\n",
    "count_na_each_row = df.transpose().isnull().sum()\n",
    "\n",
    "avg_mis_a_row = count_na_each_row.mean()\n",
    "\n",
    "round(avg_mis_a_row,2)"
   ]
  },
  {
   "cell_type": "code",
   "execution_count": 14,
   "id": "b50ff6ec",
   "metadata": {},
   "outputs": [
    {
     "data": {
      "text/plain": [
       "F    6380\n",
       "M    2792\n",
       "Name: sex, dtype: int64"
      ]
     },
     "execution_count": 14,
     "metadata": {},
     "output_type": "execute_result"
    }
   ],
   "source": [
    "#validation for fillna there are 307 NA values in Sex column. \n",
    "df_sex = df['sex'].fillna(value = df['sex'].mode()[0])\n",
    "\n",
    "#expectation is to merge them with Female value as its the most repeated value in the column\n",
    "df_sex.value_counts()"
   ]
  },
  {
   "cell_type": "code",
   "execution_count": 15,
   "id": "6aa4cff4",
   "metadata": {},
   "outputs": [
    {
     "name": "stdout",
     "output_type": "stream",
     "text": [
      "The most frequent class of column sex is F\n",
      "------------------------------\n",
      "After Filling na's the column output\n",
      "------------------------------\n",
      "F    6380\n",
      "M    2792\n",
      "Name: sex, dtype: int64\n",
      "------------------------------\n",
      "Replacing the Female - 0 , male - 1 in the dataframe\n",
      "------------------------------\n",
      "1    6380\n",
      "0    2792\n",
      "Name: sex, dtype: int64\n",
      "------------------------------\n",
      "Mean of values in the column : 0.7\n"
     ]
    }
   ],
   "source": [
    "#Replace all the missing values in the column sex with the value of the most frequent class. Then properly transform this column to a numerical column. What is the mean() of all the values in this column after the feature transformation? Enter the answer with two digits after the decimal point.\n",
    "\n",
    "#Get the frequent class from \n",
    "freq_class_val = df['sex'].mode()[0]\n",
    "\n",
    "print(f\"The most frequent class of column sex is {freq_class_val}\")\n",
    "\n",
    "\n",
    "df['sex'].fillna(value = freq_class_val, inplace = True)\n",
    "print('-'*30)\n",
    "print(\"After Filling na's the column output\")\n",
    "print('-'*30)\n",
    "print(df['sex'].value_counts())\n",
    "print('-'*30)\n",
    "\n",
    "print(\"Replacing the Female - 0 , male - 1 in the dataframe\")\n",
    "df['sex'].replace({\"F\" : 1,\"M\" : 0},inplace = True)\n",
    "print('-'*30)\n",
    "print(df['sex'].value_counts())\n",
    "print('-'*30)\n",
    "\n",
    "df['sex'] = df['sex'].astype(int)\n",
    "\n",
    "print(f\"Mean of values in the column : {round(df['sex'].mean(),2)}\")"
   ]
  },
  {
   "cell_type": "code",
   "execution_count": 16,
   "id": "1314def3",
   "metadata": {},
   "outputs": [
    {
     "data": {
      "text/plain": [
       "f    7932\n",
       "t    1240\n",
       "Name: on thyroxine, dtype: int64"
      ]
     },
     "execution_count": 16,
     "metadata": {},
     "output_type": "execute_result"
    }
   ],
   "source": [
    "df['on thyroxine'].value_counts(dropna = False)"
   ]
  },
  {
   "cell_type": "code",
   "execution_count": 17,
   "id": "2875f376",
   "metadata": {},
   "outputs": [
    {
     "data": {
      "text/plain": [
       "f    9019\n",
       "t     153\n",
       "Name: query on thyroxine, dtype: int64"
      ]
     },
     "execution_count": 17,
     "metadata": {},
     "output_type": "execute_result"
    }
   ],
   "source": [
    "df['query on thyroxine'].value_counts(dropna = False)"
   ]
  },
  {
   "cell_type": "code",
   "execution_count": 18,
   "id": "ba584e99",
   "metadata": {},
   "outputs": [
    {
     "name": "stdout",
     "output_type": "stream",
     "text": [
      "1345\n"
     ]
    }
   ],
   "source": [
    "#How many instances in this data frame have different values on 'on thyroxine' and 'query on thyroxine'?\n",
    "count = 0\n",
    "for i in range(1,df.shape[0]):\n",
    "  \n",
    "    if(df.loc[i,'on thyroxine'] != df.loc[i,'query on thyroxine']):\n",
    "        count+=1\n",
    "print(count)"
   ]
  },
  {
   "cell_type": "code",
   "execution_count": 19,
   "id": "b78bdf75",
   "metadata": {},
   "outputs": [
    {
     "name": "stdout",
     "output_type": "stream",
     "text": [
      "<class 'pandas.core.frame.DataFrame'>\n",
      "RangeIndex: 9172 entries, 0 to 9171\n",
      "Data columns (total 30 columns):\n",
      " #   Column                     Non-Null Count  Dtype \n",
      "---  ------                     --------------  ----- \n",
      " 0   age                        9172 non-null   int64 \n",
      " 1   sex                        9172 non-null   int64 \n",
      " 2   on thyroxine               9172 non-null   object\n",
      " 3   query on thyroxine         9172 non-null   object\n",
      " 4   on antithyroid medication  9172 non-null   object\n",
      " 5   sick                       9172 non-null   object\n",
      " 6   pregnant                   9172 non-null   object\n",
      " 7   thyroid surgery            9172 non-null   object\n",
      " 8   I131 treatment             9172 non-null   object\n",
      " 9   query hypothyroid          9172 non-null   object\n",
      " 10  query hyperthyroid         9172 non-null   object\n",
      " 11  lithium                    9172 non-null   object\n",
      " 12  goitre                     9172 non-null   object\n",
      " 13  tumor                      9172 non-null   object\n",
      " 14  hypopituitary              9172 non-null   object\n",
      " 15  psych                      9172 non-null   object\n",
      " 16  TSH measured               9172 non-null   object\n",
      " 17  TSH                        8330 non-null   object\n",
      " 18  T3 measured                9172 non-null   object\n",
      " 19  T3                         6568 non-null   object\n",
      " 20  TT4 measured               9172 non-null   object\n",
      " 21  TT4                        8730 non-null   object\n",
      " 22  T4U measured               9172 non-null   object\n",
      " 23  T4U                        8363 non-null   object\n",
      " 24  FTI measured               9172 non-null   object\n",
      " 25  FTI                        8370 non-null   object\n",
      " 26  TBG measured               9172 non-null   object\n",
      " 27  TBG                        349 non-null    object\n",
      " 28  referral source            9172 non-null   object\n",
      " 29  y                          9172 non-null   int64 \n",
      "dtypes: int64(3), object(27)\n",
      "memory usage: 2.1+ MB\n",
      "None\n",
      "Two Columns removed from the data frame and the Dataframe has:  28\n"
     ]
    }
   ],
   "source": [
    "#Thyroxine, also known as T4, is a type of thyroid hormone. This test measures the level of T4 in blood. Too much or too little T4 can indicate thyroid disease. Since we have other columns holding similar data, we will drop columns 'query on thyroxine',and 'on thyroxine' from the current data frame. After dropping these two columns, how many columns do you have in your data frame?\n",
    "print(df.info())\n",
    "no_of_columns_raw = df.shape[1]\n",
    "\n",
    "df.drop(columns = ['query on thyroxine','on thyroxine'] , inplace = True)\n",
    "\n",
    "no_of_columns_removed = 2\n",
    "\n",
    "no_of_colummns_df = no_of_columns_raw - no_of_columns_removed\n",
    "\n",
    "if(no_of_colummns_df == df.shape[1]):\n",
    "    print(\"Two Columns removed from the data frame and the Dataframe has: \",df.shape[1])\n",
    "else : \n",
    "    print(\"Execute complete file again\")"
   ]
  },
  {
   "cell_type": "code",
   "execution_count": 20,
   "id": "9edb9b4b",
   "metadata": {},
   "outputs": [
    {
     "name": "stdout",
     "output_type": "stream",
     "text": [
      "Values in column : on antithyroid medicationm are  ['f' 't']\n",
      "Values in column : sick are  ['f' 't']\n",
      "[[ 1.         -0.02234132]\n",
      " [-0.02234132  1.        ]]\n"
     ]
    }
   ],
   "source": [
    "#Apply a proper data transformation on the columns 'on antithyroid medication' and 'sick' to transform them into numerical columns. Then use a correlation function np.corrcoef to find the linear correlation coefficient of these two columns. You can read about this function here[https://numpy.org/doc/stable/reference/generated/numpy.corrcoef.html]. Enter the correlation coefficient with two digits after the decimal point.\n",
    "\n",
    "anti_df = df['on antithyroid medication'].unique()  \n",
    "sick_df = df['sick'].unique()  \n",
    "print ( \"Values in column : on antithyroid medicationm are \",anti_df)\n",
    "print ( \"Values in column : sick are \",sick_df)\n",
    "\n",
    "df['on antithyroid medication'].replace({\"f\" : 1 , \"t\" : 0} , inplace = True)\n",
    "df['sick'].replace({\"f\" : 1 , \"t\" : 0} , inplace = True)\n",
    "\n",
    "xarr = df['on antithyroid medication']\n",
    "yarr = df['sick']\n",
    "\n",
    "my_cor = np.corrcoef(xarr,yarr)\n",
    "print(my_cor)"
   ]
  },
  {
   "cell_type": "code",
   "execution_count": 21,
   "id": "0ac09545",
   "metadata": {},
   "outputs": [
    {
     "data": {
      "text/plain": [
       "(3, 2)"
      ]
     },
     "execution_count": 21,
     "metadata": {},
     "output_type": "execute_result"
    }
   ],
   "source": [
    "x = np.array([[0, 2], [1, 1], [2, 0]])\n",
    "x.shape"
   ]
  },
  {
   "cell_type": "code",
   "execution_count": 22,
   "id": "5aef52b0",
   "metadata": {},
   "outputs": [
    {
     "data": {
      "text/plain": [
       "array(['f', 't'], dtype=object)"
      ]
     },
     "execution_count": 22,
     "metadata": {},
     "output_type": "execute_result"
    }
   ],
   "source": [
    "df['I131 treatment'].unique()"
   ]
  },
  {
   "cell_type": "code",
   "execution_count": 23,
   "id": "eeb322ab",
   "metadata": {},
   "outputs": [
    {
     "data": {
      "text/plain": [
       "f    9003\n",
       "t     169\n",
       "Name: I131 treatment, dtype: int64"
      ]
     },
     "execution_count": 23,
     "metadata": {},
     "output_type": "execute_result"
    }
   ],
   "source": [
    "#What is a proper data transformation on the column 'I131 treatment'? Apply the transformation on your data frame.\n",
    "df['I131 treatment'].value_counts(dropna = False)"
   ]
  },
  {
   "cell_type": "code",
   "execution_count": 24,
   "id": "86ca5e5e",
   "metadata": {},
   "outputs": [
    {
     "data": {
      "text/plain": [
       "1    9003\n",
       "0     169\n",
       "Name: I131 treatment, dtype: int64"
      ]
     },
     "execution_count": 24,
     "metadata": {},
     "output_type": "execute_result"
    }
   ],
   "source": [
    "df['I131 treatment'].replace({\"f\" : 1 , \"t\" : 0} , inplace = True)\n",
    "df['I131 treatment'].value_counts(dropna = False)"
   ]
  },
  {
   "cell_type": "code",
   "execution_count": 25,
   "id": "a9bbc08e",
   "metadata": {
    "scrolled": true
   },
   "outputs": [
    {
     "data": {
      "text/plain": [
       "f    9038\n",
       "t     134\n",
       "Name: thyroid surgery, dtype: int64"
      ]
     },
     "execution_count": 25,
     "metadata": {},
     "output_type": "execute_result"
    }
   ],
   "source": [
    "#What is a proper data transformation on the column 'thyroid surgery'? Apply the transformation on your data frame.\n",
    "df['thyroid surgery'].value_counts(dropna = False)"
   ]
  },
  {
   "cell_type": "code",
   "execution_count": 26,
   "id": "07a4858a",
   "metadata": {},
   "outputs": [
    {
     "data": {
      "text/plain": [
       "1    9038\n",
       "0     134\n",
       "Name: thyroid surgery, dtype: int64"
      ]
     },
     "execution_count": 26,
     "metadata": {},
     "output_type": "execute_result"
    }
   ],
   "source": [
    "df['thyroid surgery'].replace({\"f\" : 1 , \"t\" : 0} , inplace = True)\n",
    "df['thyroid surgery'].value_counts(dropna = False)"
   ]
  },
  {
   "cell_type": "code",
   "execution_count": 27,
   "id": "e1b09725",
   "metadata": {},
   "outputs": [
    {
     "name": "stdout",
     "output_type": "stream",
     "text": [
      "<class 'pandas.core.frame.DataFrame'>\n",
      "RangeIndex: 9172 entries, 0 to 9171\n",
      "Data columns (total 28 columns):\n",
      " #   Column                     Non-Null Count  Dtype \n",
      "---  ------                     --------------  ----- \n",
      " 0   age                        9172 non-null   int64 \n",
      " 1   sex                        9172 non-null   int64 \n",
      " 2   on antithyroid medication  9172 non-null   int64 \n",
      " 3   sick                       9172 non-null   int64 \n",
      " 4   pregnant                   9172 non-null   object\n",
      " 5   thyroid surgery            9172 non-null   int64 \n",
      " 6   I131 treatment             9172 non-null   int64 \n",
      " 7   query hypothyroid          9172 non-null   object\n",
      " 8   query hyperthyroid         9172 non-null   object\n",
      " 9   lithium                    9172 non-null   object\n",
      " 10  goitre                     9172 non-null   object\n",
      " 11  tumor                      9172 non-null   object\n",
      " 12  hypopituitary              9172 non-null   object\n",
      " 13  psych                      9172 non-null   object\n",
      " 14  TSH measured               9172 non-null   object\n",
      " 15  TSH                        8330 non-null   object\n",
      " 16  T3 measured                9172 non-null   object\n",
      " 17  T3                         6568 non-null   object\n",
      " 18  TT4 measured               9172 non-null   object\n",
      " 19  TT4                        8730 non-null   object\n",
      " 20  T4U measured               9172 non-null   object\n",
      " 21  T4U                        8363 non-null   object\n",
      " 22  FTI measured               9172 non-null   object\n",
      " 23  FTI                        8370 non-null   object\n",
      " 24  TBG measured               9172 non-null   object\n",
      " 25  TBG                        349 non-null    object\n",
      " 26  referral source            9172 non-null   object\n",
      " 27  y                          9172 non-null   int64 \n",
      "dtypes: int64(7), object(21)\n",
      "memory usage: 2.0+ MB\n"
     ]
    }
   ],
   "source": [
    "df.info()"
   ]
  },
  {
   "cell_type": "code",
   "execution_count": 28,
   "id": "a0383fec",
   "metadata": {
    "scrolled": false
   },
   "outputs": [
    {
     "data": {
      "text/plain": [
       "f    9065\n",
       "t     107\n",
       "Name: pregnant, dtype: int64"
      ]
     },
     "execution_count": 28,
     "metadata": {},
     "output_type": "execute_result"
    }
   ],
   "source": [
    "#What is a proper data transformation on the column 'pregnant'? Apply the transformation on your data frame.\n",
    "df['pregnant'].value_counts()"
   ]
  },
  {
   "cell_type": "code",
   "execution_count": 29,
   "id": "c7334683",
   "metadata": {},
   "outputs": [
    {
     "data": {
      "text/plain": [
       "1    9065\n",
       "0     107\n",
       "Name: pregnant, dtype: int64"
      ]
     },
     "execution_count": 29,
     "metadata": {},
     "output_type": "execute_result"
    }
   ],
   "source": [
    "df['pregnant'].replace({\"f\" : 1 , \"t\" : 0} , inplace = True)\n",
    "df['pregnant'].value_counts()"
   ]
  },
  {
   "cell_type": "code",
   "execution_count": 30,
   "id": "d19a6b6a",
   "metadata": {},
   "outputs": [
    {
     "data": {
      "text/plain": [
       "f    8542\n",
       "t     630\n",
       "Name: query hypothyroid, dtype: int64"
      ]
     },
     "execution_count": 30,
     "metadata": {},
     "output_type": "execute_result"
    }
   ],
   "source": [
    "#What is a proper data transformation on the column 'query hypothyroid'? Apply the transformation on your data frame.\n",
    "df['query hypothyroid'].value_counts() "
   ]
  },
  {
   "cell_type": "code",
   "execution_count": 31,
   "id": "40144721",
   "metadata": {},
   "outputs": [
    {
     "data": {
      "text/plain": [
       "1    8542\n",
       "0     630\n",
       "Name: query hypothyroid, dtype: int64"
      ]
     },
     "execution_count": 31,
     "metadata": {},
     "output_type": "execute_result"
    }
   ],
   "source": [
    "df['query hypothyroid'].replace({\"f\" : 1 , \"t\" : 0} , inplace = True)\n",
    "df['query hypothyroid'].value_counts()"
   ]
  },
  {
   "cell_type": "code",
   "execution_count": 32,
   "id": "94795e82",
   "metadata": {},
   "outputs": [
    {
     "data": {
      "text/plain": [
       "f    8521\n",
       "t     651\n",
       "Name: query hyperthyroid, dtype: int64"
      ]
     },
     "execution_count": 32,
     "metadata": {},
     "output_type": "execute_result"
    }
   ],
   "source": [
    "#What is a proper data transformation on the column  'query hyperthyroid'? Apply the transformation on your data frame.\n",
    "df['query hyperthyroid'].value_counts()"
   ]
  },
  {
   "cell_type": "code",
   "execution_count": 33,
   "id": "d4e00520",
   "metadata": {},
   "outputs": [
    {
     "data": {
      "text/plain": [
       "1    8521\n",
       "0     651\n",
       "Name: query hyperthyroid, dtype: int64"
      ]
     },
     "execution_count": 33,
     "metadata": {},
     "output_type": "execute_result"
    }
   ],
   "source": [
    "df['query hyperthyroid'].replace({\"f\" : 1 , \"t\" : 0} , inplace = True)\n",
    "df['query hyperthyroid'].value_counts()"
   ]
  },
  {
   "cell_type": "code",
   "execution_count": 34,
   "id": "da7c779a",
   "metadata": {},
   "outputs": [
    {
     "data": {
      "text/plain": [
       "f    9079\n",
       "t      93\n",
       "Name: lithium, dtype: int64"
      ]
     },
     "execution_count": 34,
     "metadata": {},
     "output_type": "execute_result"
    }
   ],
   "source": [
    "#What is a proper data transformation on the column  'lithium'? Apply the transformation on your data frame.\n",
    "df['lithium'].value_counts()"
   ]
  },
  {
   "cell_type": "code",
   "execution_count": 35,
   "id": "9c2339ee",
   "metadata": {},
   "outputs": [
    {
     "data": {
      "text/plain": [
       "1    9079\n",
       "0      93\n",
       "Name: lithium, dtype: int64"
      ]
     },
     "execution_count": 35,
     "metadata": {},
     "output_type": "execute_result"
    }
   ],
   "source": [
    "df['lithium'].replace({\"f\" : 1 , \"t\" : 0} , inplace = True)\n",
    "df['lithium'].value_counts()"
   ]
  },
  {
   "cell_type": "code",
   "execution_count": 36,
   "id": "ff4986ad",
   "metadata": {},
   "outputs": [
    {
     "data": {
      "text/plain": [
       "f    9088\n",
       "t      84\n",
       "Name: goitre, dtype: int64"
      ]
     },
     "execution_count": 36,
     "metadata": {},
     "output_type": "execute_result"
    }
   ],
   "source": [
    "#What is a proper data transformation on the column 'goitre'? Apply the transformation on your data frame.\n",
    "df['goitre'].value_counts()"
   ]
  },
  {
   "cell_type": "code",
   "execution_count": 37,
   "id": "42128a84",
   "metadata": {},
   "outputs": [
    {
     "data": {
      "text/plain": [
       "1    9088\n",
       "0      84\n",
       "Name: goitre, dtype: int64"
      ]
     },
     "execution_count": 37,
     "metadata": {},
     "output_type": "execute_result"
    }
   ],
   "source": [
    "df['goitre'].replace({\"f\" : 1 , \"t\" : 0} , inplace = True)\n",
    "df['goitre'].value_counts()"
   ]
  },
  {
   "cell_type": "code",
   "execution_count": 38,
   "id": "65d07dfd",
   "metadata": {},
   "outputs": [
    {
     "data": {
      "text/plain": [
       "f    8931\n",
       "t     241\n",
       "Name: tumor, dtype: int64"
      ]
     },
     "execution_count": 38,
     "metadata": {},
     "output_type": "execute_result"
    }
   ],
   "source": [
    "#What is a proper data transformation on the column  'tumor'? Apply the transformation on your data frame.\n",
    "df['tumor'].value_counts()"
   ]
  },
  {
   "cell_type": "code",
   "execution_count": 39,
   "id": "410012c3",
   "metadata": {},
   "outputs": [
    {
     "data": {
      "text/plain": [
       "1    8931\n",
       "0     241\n",
       "Name: tumor, dtype: int64"
      ]
     },
     "execution_count": 39,
     "metadata": {},
     "output_type": "execute_result"
    }
   ],
   "source": [
    "df['tumor'].replace({\"f\" : 1 , \"t\" : 0} , inplace = True)\n",
    "df['tumor'].value_counts()"
   ]
  },
  {
   "cell_type": "code",
   "execution_count": 40,
   "id": "da3e8262",
   "metadata": {},
   "outputs": [
    {
     "data": {
      "text/plain": [
       "f    9170\n",
       "t       2\n",
       "Name: hypopituitary, dtype: int64"
      ]
     },
     "execution_count": 40,
     "metadata": {},
     "output_type": "execute_result"
    }
   ],
   "source": [
    "#Column 'hypopituitary' has value 'f' except in two instances. In this case, dropping this column and lowering the dimensionality is the best choice.\n",
    "\n",
    "df['hypopituitary'].value_counts()"
   ]
  },
  {
   "cell_type": "code",
   "execution_count": 127,
   "id": "3b3ea4e6",
   "metadata": {},
   "outputs": [],
   "source": [
    "df[df['hypopituitary'] == 't']\n",
    "\n",
    "df.drop('hypopituitary',axis = 1,inplace = True)"
   ]
  },
  {
   "cell_type": "code",
   "execution_count": 42,
   "id": "82d8d60f",
   "metadata": {},
   "outputs": [
    {
     "data": {
      "text/plain": [
       "f    8754\n",
       "t     418\n",
       "Name: psych, dtype: int64"
      ]
     },
     "execution_count": 42,
     "metadata": {},
     "output_type": "execute_result"
    }
   ],
   "source": [
    "# What is a proper data transformation on the column  'psych'? Apply the transformation on your data frame.\n",
    "df['psych'].value_counts()"
   ]
  },
  {
   "cell_type": "code",
   "execution_count": 43,
   "id": "e4dad98f",
   "metadata": {},
   "outputs": [
    {
     "data": {
      "text/plain": [
       "1    8754\n",
       "0     418\n",
       "Name: psych, dtype: int64"
      ]
     },
     "execution_count": 43,
     "metadata": {},
     "output_type": "execute_result"
    }
   ],
   "source": [
    "df['psych'].replace({\"f\" : 1 , \"t\" : 0} , inplace = True)\n",
    "df['psych'].value_counts()"
   ]
  },
  {
   "cell_type": "code",
   "execution_count": 44,
   "id": "c6a44410",
   "metadata": {},
   "outputs": [
    {
     "data": {
      "text/plain": [
       "t    8330\n",
       "f     842\n",
       "Name: TSH measured, dtype: int64"
      ]
     },
     "execution_count": 44,
     "metadata": {},
     "output_type": "execute_result"
    }
   ],
   "source": [
    "#What is a proper data transformation on the column  'TSH measured'? Apply the transformation on your data frame.\n",
    "df['TSH measured'].value_counts()"
   ]
  },
  {
   "cell_type": "code",
   "execution_count": 45,
   "id": "4208c21f",
   "metadata": {},
   "outputs": [
    {
     "data": {
      "text/plain": [
       "1    8330\n",
       "0     842\n",
       "Name: TSH measured, dtype: int64"
      ]
     },
     "execution_count": 45,
     "metadata": {},
     "output_type": "execute_result"
    }
   ],
   "source": [
    "df['TSH measured'].replace({\"t\" : 1 , \"f\" : 0} , inplace = True)\n",
    "df['TSH measured'].value_counts()"
   ]
  },
  {
   "cell_type": "code",
   "execution_count": 46,
   "id": "e15501b4",
   "metadata": {},
   "outputs": [
    {
     "data": {
      "text/plain": [
       "NaN          842\n",
       "0.1          303\n",
       "1.3          246\n",
       "1.1          234\n",
       "1.4          233\n",
       "            ... \n",
       "13.299999      1\n",
       "67             1\n",
       "117            1\n",
       "14.299999      1\n",
       "74             1\n",
       "Name: TSH, Length: 370, dtype: int64"
      ]
     },
     "execution_count": 46,
     "metadata": {},
     "output_type": "execute_result"
    }
   ],
   "source": [
    "#If you study the data frame carefully, you can see that instances with 'TSH measured' value as 'f', have NaN values under the column 'TSH.' To impute missing values in this column, we will replace all the NaN values with 0. What is the column 'TSH' average after this data transformation? Enter the answer with two digits after the decimal point\n",
    "df['TSH'].value_counts(dropna = False)"
   ]
  },
  {
   "cell_type": "code",
   "execution_count": 47,
   "id": "283ff1fa",
   "metadata": {},
   "outputs": [],
   "source": [
    "df['TSH'].fillna(value=0 , inplace = True)"
   ]
  },
  {
   "cell_type": "code",
   "execution_count": 48,
   "id": "aac1d072",
   "metadata": {},
   "outputs": [
    {
     "data": {
      "text/plain": [
       "0            842\n",
       "0.1          303\n",
       "1.3          246\n",
       "1.1          234\n",
       "1.4          233\n",
       "            ... \n",
       "13.299999      1\n",
       "67             1\n",
       "117            1\n",
       "14.299999      1\n",
       "74             1\n",
       "Name: TSH, Length: 370, dtype: int64"
      ]
     },
     "execution_count": 48,
     "metadata": {},
     "output_type": "execute_result"
    }
   ],
   "source": [
    "df['TSH'].value_counts(dropna = False)"
   ]
  },
  {
   "cell_type": "code",
   "execution_count": 49,
   "id": "a3201332",
   "metadata": {},
   "outputs": [
    {
     "name": "stdout",
     "output_type": "stream",
     "text": [
      "<class 'pandas.core.frame.DataFrame'>\n",
      "RangeIndex: 9172 entries, 0 to 9171\n",
      "Data columns (total 28 columns):\n",
      " #   Column                     Non-Null Count  Dtype \n",
      "---  ------                     --------------  ----- \n",
      " 0   age                        9172 non-null   int64 \n",
      " 1   sex                        9172 non-null   int64 \n",
      " 2   on antithyroid medication  9172 non-null   int64 \n",
      " 3   sick                       9172 non-null   int64 \n",
      " 4   pregnant                   9172 non-null   int64 \n",
      " 5   thyroid surgery            9172 non-null   int64 \n",
      " 6   I131 treatment             9172 non-null   int64 \n",
      " 7   query hypothyroid          9172 non-null   int64 \n",
      " 8   query hyperthyroid         9172 non-null   int64 \n",
      " 9   lithium                    9172 non-null   int64 \n",
      " 10  goitre                     9172 non-null   int64 \n",
      " 11  tumor                      9172 non-null   int64 \n",
      " 12  hypopituitary              9172 non-null   object\n",
      " 13  psych                      9172 non-null   int64 \n",
      " 14  TSH measured               9172 non-null   int64 \n",
      " 15  TSH                        9172 non-null   object\n",
      " 16  T3 measured                9172 non-null   object\n",
      " 17  T3                         6568 non-null   object\n",
      " 18  TT4 measured               9172 non-null   object\n",
      " 19  TT4                        8730 non-null   object\n",
      " 20  T4U measured               9172 non-null   object\n",
      " 21  T4U                        8363 non-null   object\n",
      " 22  FTI measured               9172 non-null   object\n",
      " 23  FTI                        8370 non-null   object\n",
      " 24  TBG measured               9172 non-null   object\n",
      " 25  TBG                        349 non-null    object\n",
      " 26  referral source            9172 non-null   object\n",
      " 27  y                          9172 non-null   int64 \n",
      "dtypes: int64(15), object(13)\n",
      "memory usage: 2.0+ MB\n"
     ]
    }
   ],
   "source": [
    "df.info()"
   ]
  },
  {
   "cell_type": "code",
   "execution_count": 50,
   "id": "e14de1b7",
   "metadata": {},
   "outputs": [],
   "source": [
    "df['TSH'] = df['TSH'].astype(float)"
   ]
  },
  {
   "cell_type": "code",
   "execution_count": 51,
   "id": "c30506bd",
   "metadata": {},
   "outputs": [
    {
     "name": "stdout",
     "output_type": "stream",
     "text": [
      "<class 'pandas.core.frame.DataFrame'>\n",
      "RangeIndex: 9172 entries, 0 to 9171\n",
      "Data columns (total 28 columns):\n",
      " #   Column                     Non-Null Count  Dtype  \n",
      "---  ------                     --------------  -----  \n",
      " 0   age                        9172 non-null   int64  \n",
      " 1   sex                        9172 non-null   int64  \n",
      " 2   on antithyroid medication  9172 non-null   int64  \n",
      " 3   sick                       9172 non-null   int64  \n",
      " 4   pregnant                   9172 non-null   int64  \n",
      " 5   thyroid surgery            9172 non-null   int64  \n",
      " 6   I131 treatment             9172 non-null   int64  \n",
      " 7   query hypothyroid          9172 non-null   int64  \n",
      " 8   query hyperthyroid         9172 non-null   int64  \n",
      " 9   lithium                    9172 non-null   int64  \n",
      " 10  goitre                     9172 non-null   int64  \n",
      " 11  tumor                      9172 non-null   int64  \n",
      " 12  hypopituitary              9172 non-null   object \n",
      " 13  psych                      9172 non-null   int64  \n",
      " 14  TSH measured               9172 non-null   int64  \n",
      " 15  TSH                        9172 non-null   float64\n",
      " 16  T3 measured                9172 non-null   object \n",
      " 17  T3                         6568 non-null   object \n",
      " 18  TT4 measured               9172 non-null   object \n",
      " 19  TT4                        8730 non-null   object \n",
      " 20  T4U measured               9172 non-null   object \n",
      " 21  T4U                        8363 non-null   object \n",
      " 22  FTI measured               9172 non-null   object \n",
      " 23  FTI                        8370 non-null   object \n",
      " 24  TBG measured               9172 non-null   object \n",
      " 25  TBG                        349 non-null    object \n",
      " 26  referral source            9172 non-null   object \n",
      " 27  y                          9172 non-null   int64  \n",
      "dtypes: float64(1), int64(15), object(12)\n",
      "memory usage: 2.0+ MB\n"
     ]
    }
   ],
   "source": [
    "df.info()"
   ]
  },
  {
   "cell_type": "code",
   "execution_count": 52,
   "id": "f94d9a6b",
   "metadata": {},
   "outputs": [
    {
     "data": {
      "text/plain": [
       "4.739347463911888"
      ]
     },
     "execution_count": 52,
     "metadata": {},
     "output_type": "execute_result"
    }
   ],
   "source": [
    "df['TSH'].mean()"
   ]
  },
  {
   "cell_type": "code",
   "execution_count": 53,
   "id": "70b2b32f",
   "metadata": {},
   "outputs": [
    {
     "name": "stdout",
     "output_type": "stream",
     "text": [
      "<class 'pandas.core.frame.DataFrame'>\n",
      "RangeIndex: 9172 entries, 0 to 9171\n",
      "Data columns (total 28 columns):\n",
      " #   Column                     Non-Null Count  Dtype  \n",
      "---  ------                     --------------  -----  \n",
      " 0   age                        9172 non-null   int64  \n",
      " 1   sex                        9172 non-null   int64  \n",
      " 2   on antithyroid medication  9172 non-null   int64  \n",
      " 3   sick                       9172 non-null   int64  \n",
      " 4   pregnant                   9172 non-null   int64  \n",
      " 5   thyroid surgery            9172 non-null   int64  \n",
      " 6   I131 treatment             9172 non-null   int64  \n",
      " 7   query hypothyroid          9172 non-null   int64  \n",
      " 8   query hyperthyroid         9172 non-null   int64  \n",
      " 9   lithium                    9172 non-null   int64  \n",
      " 10  goitre                     9172 non-null   int64  \n",
      " 11  tumor                      9172 non-null   int64  \n",
      " 12  hypopituitary              9172 non-null   object \n",
      " 13  psych                      9172 non-null   int64  \n",
      " 14  TSH measured               9172 non-null   int64  \n",
      " 15  TSH                        9172 non-null   float64\n",
      " 16  T3 measured                9172 non-null   object \n",
      " 17  T3                         6568 non-null   object \n",
      " 18  TT4 measured               9172 non-null   object \n",
      " 19  TT4                        8730 non-null   object \n",
      " 20  T4U measured               9172 non-null   object \n",
      " 21  T4U                        8363 non-null   object \n",
      " 22  FTI measured               9172 non-null   object \n",
      " 23  FTI                        8370 non-null   object \n",
      " 24  TBG measured               9172 non-null   object \n",
      " 25  TBG                        349 non-null    object \n",
      " 26  referral source            9172 non-null   object \n",
      " 27  y                          9172 non-null   int64  \n",
      "dtypes: float64(1), int64(15), object(12)\n",
      "memory usage: 2.0+ MB\n"
     ]
    }
   ],
   "source": [
    "df.info()"
   ]
  },
  {
   "cell_type": "code",
   "execution_count": 54,
   "id": "6ab5b608",
   "metadata": {},
   "outputs": [
    {
     "data": {
      "text/plain": [
       "t    8730\n",
       "f     442\n",
       "Name: TT4 measured, dtype: int64"
      ]
     },
     "execution_count": 54,
     "metadata": {},
     "output_type": "execute_result"
    }
   ],
   "source": [
    "df['TT4 measured'].value_counts(dropna = False)"
   ]
  },
  {
   "cell_type": "code",
   "execution_count": 55,
   "id": "b8dda012",
   "metadata": {},
   "outputs": [],
   "source": [
    "df['TT4 measured'].replace({\"t\" : 1 , \"f\" : 0} ,inplace = True)"
   ]
  },
  {
   "cell_type": "code",
   "execution_count": 56,
   "id": "21dcc1e1",
   "metadata": {},
   "outputs": [
    {
     "name": "stdout",
     "output_type": "stream",
     "text": [
      "<class 'pandas.core.frame.DataFrame'>\n",
      "RangeIndex: 9172 entries, 0 to 9171\n",
      "Data columns (total 28 columns):\n",
      " #   Column                     Non-Null Count  Dtype  \n",
      "---  ------                     --------------  -----  \n",
      " 0   age                        9172 non-null   int64  \n",
      " 1   sex                        9172 non-null   int64  \n",
      " 2   on antithyroid medication  9172 non-null   int64  \n",
      " 3   sick                       9172 non-null   int64  \n",
      " 4   pregnant                   9172 non-null   int64  \n",
      " 5   thyroid surgery            9172 non-null   int64  \n",
      " 6   I131 treatment             9172 non-null   int64  \n",
      " 7   query hypothyroid          9172 non-null   int64  \n",
      " 8   query hyperthyroid         9172 non-null   int64  \n",
      " 9   lithium                    9172 non-null   int64  \n",
      " 10  goitre                     9172 non-null   int64  \n",
      " 11  tumor                      9172 non-null   int64  \n",
      " 12  hypopituitary              9172 non-null   object \n",
      " 13  psych                      9172 non-null   int64  \n",
      " 14  TSH measured               9172 non-null   int64  \n",
      " 15  TSH                        9172 non-null   float64\n",
      " 16  T3 measured                9172 non-null   object \n",
      " 17  T3                         6568 non-null   object \n",
      " 18  TT4 measured               9172 non-null   int64  \n",
      " 19  TT4                        8730 non-null   object \n",
      " 20  T4U measured               9172 non-null   object \n",
      " 21  T4U                        8363 non-null   object \n",
      " 22  FTI measured               9172 non-null   object \n",
      " 23  FTI                        8370 non-null   object \n",
      " 24  TBG measured               9172 non-null   object \n",
      " 25  TBG                        349 non-null    object \n",
      " 26  referral source            9172 non-null   object \n",
      " 27  y                          9172 non-null   int64  \n",
      "dtypes: float64(1), int64(16), object(11)\n",
      "memory usage: 2.0+ MB\n"
     ]
    }
   ],
   "source": [
    "df.info()"
   ]
  },
  {
   "cell_type": "code",
   "execution_count": 57,
   "id": "2891ef41",
   "metadata": {},
   "outputs": [
    {
     "data": {
      "text/plain": [
       "NaN    442\n",
       "101    157\n",
       "98     147\n",
       "93     146\n",
       "91     135\n",
       "      ... \n",
       "600      1\n",
       "242      1\n",
       "359      1\n",
       "7.5      1\n",
       "247      1\n",
       "Name: TT4, Length: 288, dtype: int64"
      ]
     },
     "execution_count": 57,
     "metadata": {},
     "output_type": "execute_result"
    }
   ],
   "source": [
    "df[\"TT4\"].value_counts(dropna = False)"
   ]
  },
  {
   "cell_type": "code",
   "execution_count": 58,
   "id": "27d24d77",
   "metadata": {},
   "outputs": [],
   "source": [
    "df[\"TT4\"].fillna(value = 0,inplace = True )"
   ]
  },
  {
   "cell_type": "code",
   "execution_count": 59,
   "id": "5be8cae3",
   "metadata": {},
   "outputs": [
    {
     "data": {
      "text/plain": [
       "0      442\n",
       "101    157\n",
       "98     147\n",
       "93     146\n",
       "91     135\n",
       "      ... \n",
       "600      1\n",
       "242      1\n",
       "359      1\n",
       "7.5      1\n",
       "247      1\n",
       "Name: TT4, Length: 288, dtype: int64"
      ]
     },
     "execution_count": 59,
     "metadata": {},
     "output_type": "execute_result"
    }
   ],
   "source": [
    "df[\"TT4\"].value_counts(dropna = False)"
   ]
  },
  {
   "cell_type": "code",
   "execution_count": 60,
   "id": "29833cfe",
   "metadata": {},
   "outputs": [
    {
     "name": "stdout",
     "output_type": "stream",
     "text": [
      "<class 'pandas.core.frame.DataFrame'>\n",
      "RangeIndex: 9172 entries, 0 to 9171\n",
      "Data columns (total 28 columns):\n",
      " #   Column                     Non-Null Count  Dtype  \n",
      "---  ------                     --------------  -----  \n",
      " 0   age                        9172 non-null   int64  \n",
      " 1   sex                        9172 non-null   int64  \n",
      " 2   on antithyroid medication  9172 non-null   int64  \n",
      " 3   sick                       9172 non-null   int64  \n",
      " 4   pregnant                   9172 non-null   int64  \n",
      " 5   thyroid surgery            9172 non-null   int64  \n",
      " 6   I131 treatment             9172 non-null   int64  \n",
      " 7   query hypothyroid          9172 non-null   int64  \n",
      " 8   query hyperthyroid         9172 non-null   int64  \n",
      " 9   lithium                    9172 non-null   int64  \n",
      " 10  goitre                     9172 non-null   int64  \n",
      " 11  tumor                      9172 non-null   int64  \n",
      " 12  hypopituitary              9172 non-null   object \n",
      " 13  psych                      9172 non-null   int64  \n",
      " 14  TSH measured               9172 non-null   int64  \n",
      " 15  TSH                        9172 non-null   float64\n",
      " 16  T3 measured                9172 non-null   object \n",
      " 17  T3                         6568 non-null   object \n",
      " 18  TT4 measured               9172 non-null   int64  \n",
      " 19  TT4                        9172 non-null   object \n",
      " 20  T4U measured               9172 non-null   object \n",
      " 21  T4U                        8363 non-null   object \n",
      " 22  FTI measured               9172 non-null   object \n",
      " 23  FTI                        8370 non-null   object \n",
      " 24  TBG measured               9172 non-null   object \n",
      " 25  TBG                        349 non-null    object \n",
      " 26  referral source            9172 non-null   object \n",
      " 27  y                          9172 non-null   int64  \n",
      "dtypes: float64(1), int64(16), object(11)\n",
      "memory usage: 2.0+ MB\n"
     ]
    }
   ],
   "source": [
    "df.info()"
   ]
  },
  {
   "cell_type": "code",
   "execution_count": 61,
   "id": "df86a07f",
   "metadata": {},
   "outputs": [],
   "source": [
    "df[\"TT4\"] = df[\"TT4\"].astype(float)"
   ]
  },
  {
   "cell_type": "code",
   "execution_count": 62,
   "id": "85b6174a",
   "metadata": {},
   "outputs": [
    {
     "name": "stdout",
     "output_type": "stream",
     "text": [
      "<class 'pandas.core.frame.DataFrame'>\n",
      "RangeIndex: 9172 entries, 0 to 9171\n",
      "Data columns (total 28 columns):\n",
      " #   Column                     Non-Null Count  Dtype  \n",
      "---  ------                     --------------  -----  \n",
      " 0   age                        9172 non-null   int64  \n",
      " 1   sex                        9172 non-null   int64  \n",
      " 2   on antithyroid medication  9172 non-null   int64  \n",
      " 3   sick                       9172 non-null   int64  \n",
      " 4   pregnant                   9172 non-null   int64  \n",
      " 5   thyroid surgery            9172 non-null   int64  \n",
      " 6   I131 treatment             9172 non-null   int64  \n",
      " 7   query hypothyroid          9172 non-null   int64  \n",
      " 8   query hyperthyroid         9172 non-null   int64  \n",
      " 9   lithium                    9172 non-null   int64  \n",
      " 10  goitre                     9172 non-null   int64  \n",
      " 11  tumor                      9172 non-null   int64  \n",
      " 12  hypopituitary              9172 non-null   object \n",
      " 13  psych                      9172 non-null   int64  \n",
      " 14  TSH measured               9172 non-null   int64  \n",
      " 15  TSH                        9172 non-null   float64\n",
      " 16  T3 measured                9172 non-null   object \n",
      " 17  T3                         6568 non-null   object \n",
      " 18  TT4 measured               9172 non-null   int64  \n",
      " 19  TT4                        9172 non-null   float64\n",
      " 20  T4U measured               9172 non-null   object \n",
      " 21  T4U                        8363 non-null   object \n",
      " 22  FTI measured               9172 non-null   object \n",
      " 23  FTI                        8370 non-null   object \n",
      " 24  TBG measured               9172 non-null   object \n",
      " 25  TBG                        349 non-null    object \n",
      " 26  referral source            9172 non-null   object \n",
      " 27  y                          9172 non-null   int64  \n",
      "dtypes: float64(2), int64(16), object(10)\n",
      "memory usage: 2.0+ MB\n"
     ]
    }
   ],
   "source": [
    "df.info()"
   ]
  },
  {
   "cell_type": "code",
   "execution_count": 63,
   "id": "00690b70",
   "metadata": {},
   "outputs": [
    {
     "data": {
      "text/plain": [
       "103.46"
      ]
     },
     "execution_count": 63,
     "metadata": {},
     "output_type": "execute_result"
    }
   ],
   "source": [
    "round(df[\"TT4\"].mean(),2)"
   ]
  },
  {
   "cell_type": "code",
   "execution_count": 64,
   "id": "8b3fe8f0",
   "metadata": {},
   "outputs": [
    {
     "data": {
      "text/plain": [
       "t    6568\n",
       "f    2604\n",
       "Name: T3 measured, dtype: int64"
      ]
     },
     "execution_count": 64,
     "metadata": {},
     "output_type": "execute_result"
    }
   ],
   "source": [
    "#What is a proper data transformation on the column 'T3 measured'? Apply the transformation on your data frame.\n",
    "df['T3 measured'].value_counts(dropna = False)"
   ]
  },
  {
   "cell_type": "code",
   "execution_count": 65,
   "id": "90e789fe",
   "metadata": {},
   "outputs": [],
   "source": [
    "df['T3 measured'].replace({\"t\" : 1 , \"f\" : 0} ,inplace = True)"
   ]
  },
  {
   "cell_type": "code",
   "execution_count": 66,
   "id": "479646b8",
   "metadata": {},
   "outputs": [
    {
     "data": {
      "text/plain": [
       "1    6568\n",
       "0    2604\n",
       "Name: T3 measured, dtype: int64"
      ]
     },
     "execution_count": 66,
     "metadata": {},
     "output_type": "execute_result"
    }
   ],
   "source": [
    "df['T3 measured'].value_counts(dropna = False)"
   ]
  },
  {
   "cell_type": "code",
   "execution_count": 67,
   "id": "69da4840",
   "metadata": {},
   "outputs": [
    {
     "data": {
      "text/plain": [
       "NaN         2604\n",
       "1.8          452\n",
       "2            452\n",
       "1.9          408\n",
       "2.1          396\n",
       "            ... \n",
       "6.9            1\n",
       "7.3            1\n",
       "0.93           1\n",
       "8.599999       1\n",
       "1.44           1\n",
       "Name: T3, Length: 86, dtype: int64"
      ]
     },
     "execution_count": 67,
     "metadata": {},
     "output_type": "execute_result"
    }
   ],
   "source": [
    "#If you study the data frame carefully, you can see that instances with 'T3 measured' value as 'f', have NaN values under the column 'T3' To impute missing values in this column, we will replace all the NaN values with 0. What is the column 'T3' average after this data transformation? Enter the answer with two digits after the decimal point.\n",
    "df['T3'].value_counts(dropna = False)"
   ]
  },
  {
   "cell_type": "code",
   "execution_count": 68,
   "id": "69ae0a94",
   "metadata": {},
   "outputs": [],
   "source": [
    "df['T3'].fillna(value = 0 , inplace = True)"
   ]
  },
  {
   "cell_type": "code",
   "execution_count": 69,
   "id": "57a954e6",
   "metadata": {},
   "outputs": [
    {
     "data": {
      "text/plain": [
       "0           2604\n",
       "1.8          452\n",
       "2            452\n",
       "1.9          408\n",
       "2.1          396\n",
       "            ... \n",
       "6.9            1\n",
       "7.3            1\n",
       "0.93           1\n",
       "8.599999       1\n",
       "1.44           1\n",
       "Name: T3, Length: 86, dtype: int64"
      ]
     },
     "execution_count": 69,
     "metadata": {},
     "output_type": "execute_result"
    }
   ],
   "source": [
    "df['T3'].value_counts(dropna = False)"
   ]
  },
  {
   "cell_type": "code",
   "execution_count": 70,
   "id": "50e3800f",
   "metadata": {},
   "outputs": [],
   "source": [
    "df['T3'] = df['T3'].astype(float)"
   ]
  },
  {
   "cell_type": "code",
   "execution_count": 71,
   "id": "39f09aee",
   "metadata": {},
   "outputs": [
    {
     "data": {
      "text/plain": [
       "1.41"
      ]
     },
     "execution_count": 71,
     "metadata": {},
     "output_type": "execute_result"
    }
   ],
   "source": [
    "round(df['T3'].mean(),2)"
   ]
  },
  {
   "cell_type": "code",
   "execution_count": 72,
   "id": "935d64cc",
   "metadata": {},
   "outputs": [
    {
     "data": {
      "text/plain": [
       "t    8363\n",
       "f     809\n",
       "Name: T4U measured, dtype: int64"
      ]
     },
     "execution_count": 72,
     "metadata": {},
     "output_type": "execute_result"
    }
   ],
   "source": [
    "#What is a proper data transformation on the column 'T4U measured'? Apply the transformation on your datarame.\n",
    "df['T4U measured'].value_counts(dropna = False)"
   ]
  },
  {
   "cell_type": "code",
   "execution_count": 73,
   "id": "bc144196",
   "metadata": {},
   "outputs": [],
   "source": [
    "df['T4U measured'].replace({\"t\" : 1 , \"f\" : 0} ,inplace = True)"
   ]
  },
  {
   "cell_type": "code",
   "execution_count": 74,
   "id": "4a61f4a2",
   "metadata": {},
   "outputs": [
    {
     "data": {
      "text/plain": [
       "1    8363\n",
       "0     809\n",
       "Name: T4U measured, dtype: int64"
      ]
     },
     "execution_count": 74,
     "metadata": {},
     "output_type": "execute_result"
    }
   ],
   "source": [
    "df['T4U measured'].value_counts(dropna = False)"
   ]
  },
  {
   "cell_type": "code",
   "execution_count": 75,
   "id": "73c239bf",
   "metadata": {},
   "outputs": [
    {
     "data": {
      "text/plain": [
       "NaN      809\n",
       "0.96     228\n",
       "0.91     227\n",
       "0.99     226\n",
       "0.93     226\n",
       "        ... \n",
       "0.944      1\n",
       "1.87       1\n",
       "0.3        1\n",
       "2.12       1\n",
       "2.32       1\n",
       "Name: T4U, Length: 177, dtype: int64"
      ]
     },
     "execution_count": 75,
     "metadata": {},
     "output_type": "execute_result"
    }
   ],
   "source": [
    "#If you study the data frame carefully, you can see that instances with 'T4U measured' value as 'f', have NaN values under the column 'T3' To impute missing values in this column, we will replace all the NaN values with 0. What is the column 'T4U' average after this data transformation? Enter the answer with two digits after the decimal point.\n",
    "df['T4U'].value_counts(dropna = False)"
   ]
  },
  {
   "cell_type": "code",
   "execution_count": 76,
   "id": "a451b1e7",
   "metadata": {},
   "outputs": [],
   "source": [
    "df['T4U'].fillna(value = 0 , inplace = True)"
   ]
  },
  {
   "cell_type": "code",
   "execution_count": 77,
   "id": "aad676f8",
   "metadata": {},
   "outputs": [
    {
     "data": {
      "text/plain": [
       "0        809\n",
       "0.96     228\n",
       "0.91     227\n",
       "0.99     226\n",
       "0.93     226\n",
       "        ... \n",
       "0.944      1\n",
       "1.87       1\n",
       "0.3        1\n",
       "2.12       1\n",
       "2.32       1\n",
       "Name: T4U, Length: 177, dtype: int64"
      ]
     },
     "execution_count": 77,
     "metadata": {},
     "output_type": "execute_result"
    }
   ],
   "source": [
    "df['T4U'].value_counts(dropna = False)"
   ]
  },
  {
   "cell_type": "code",
   "execution_count": 78,
   "id": "309a50d0",
   "metadata": {},
   "outputs": [],
   "source": [
    "df['T4U']=df['T4U'].astype(float)"
   ]
  },
  {
   "cell_type": "code",
   "execution_count": 79,
   "id": "21db1baa",
   "metadata": {},
   "outputs": [
    {
     "data": {
      "text/plain": [
       "0.89"
      ]
     },
     "execution_count": 79,
     "metadata": {},
     "output_type": "execute_result"
    }
   ],
   "source": [
    "round(df['T4U'].mean(),2)"
   ]
  },
  {
   "cell_type": "code",
   "execution_count": 80,
   "id": "a61f41fb",
   "metadata": {},
   "outputs": [
    {
     "data": {
      "text/plain": [
       "t    8370\n",
       "f     802\n",
       "Name: FTI measured, dtype: int64"
      ]
     },
     "execution_count": 80,
     "metadata": {},
     "output_type": "execute_result"
    }
   ],
   "source": [
    "#What is a proper data transformation on the column 'FTI measured'? Apply the transformation on your data frame.\n",
    "df['FTI measured'].value_counts(dropna = False)"
   ]
  },
  {
   "cell_type": "code",
   "execution_count": 81,
   "id": "d41a1b62",
   "metadata": {},
   "outputs": [],
   "source": [
    "df['FTI measured'].replace({\"t\" : 1 , \"f\" : 0} ,inplace = True)"
   ]
  },
  {
   "cell_type": "code",
   "execution_count": 82,
   "id": "992f66b7",
   "metadata": {},
   "outputs": [
    {
     "data": {
      "text/plain": [
       "1    8370\n",
       "0     802\n",
       "Name: FTI measured, dtype: int64"
      ]
     },
     "execution_count": 82,
     "metadata": {},
     "output_type": "execute_result"
    }
   ],
   "source": [
    "df['FTI measured'].value_counts(dropna = False)"
   ]
  },
  {
   "cell_type": "code",
   "execution_count": 83,
   "id": "7686ef5b",
   "metadata": {},
   "outputs": [
    {
     "data": {
      "text/plain": [
       "NaN    802\n",
       "107    157\n",
       "100    152\n",
       "104    145\n",
       "114    142\n",
       "      ... \n",
       "550      1\n",
       "2.8      1\n",
       "316      1\n",
       "255      1\n",
       "347      1\n",
       "Name: FTI, Length: 324, dtype: int64"
      ]
     },
     "execution_count": 83,
     "metadata": {},
     "output_type": "execute_result"
    }
   ],
   "source": [
    "#If you study the data frame carefully, you can see that instances with 'FTI measured' value as 'f', have NaN values under the column 'FTI' To impute missing values in this column, we will replace all the NaN values with 0. What is the column 'FTI' average after this data transformation? Enter the answer with two digits after the decimal point.\n",
    "df['FTI'].value_counts(dropna = False)"
   ]
  },
  {
   "cell_type": "code",
   "execution_count": 84,
   "id": "07d9a0c4",
   "metadata": {},
   "outputs": [],
   "source": [
    "df['FTI'].fillna(value = 0 , inplace = True)"
   ]
  },
  {
   "cell_type": "code",
   "execution_count": 85,
   "id": "3de2cca5",
   "metadata": {},
   "outputs": [
    {
     "data": {
      "text/plain": [
       "0      802\n",
       "107    157\n",
       "100    152\n",
       "104    145\n",
       "114    142\n",
       "      ... \n",
       "8.4      1\n",
       "208      1\n",
       "349      1\n",
       "839      1\n",
       "2.8      1\n",
       "Name: FTI, Length: 324, dtype: int64"
      ]
     },
     "execution_count": 85,
     "metadata": {},
     "output_type": "execute_result"
    }
   ],
   "source": [
    "df['FTI'].value_counts(dropna = False)"
   ]
  },
  {
   "cell_type": "code",
   "execution_count": 86,
   "id": "1350c971",
   "metadata": {},
   "outputs": [],
   "source": [
    "df['FTI'] = df['FTI'].astype(float)"
   ]
  },
  {
   "cell_type": "code",
   "execution_count": 87,
   "id": "8106d337",
   "metadata": {},
   "outputs": [
    {
     "data": {
      "text/plain": [
       "103.7"
      ]
     },
     "execution_count": 87,
     "metadata": {},
     "output_type": "execute_result"
    }
   ],
   "source": [
    "round(df['FTI'].mean(),2)"
   ]
  },
  {
   "cell_type": "code",
   "execution_count": 88,
   "id": "fa91a6ca",
   "metadata": {},
   "outputs": [
    {
     "data": {
      "text/plain": [
       "f    8823\n",
       "t     349\n",
       "Name: TBG measured, dtype: int64"
      ]
     },
     "execution_count": 88,
     "metadata": {},
     "output_type": "execute_result"
    }
   ],
   "source": [
    "#What is a proper data transformation on the column 'TBG measured'? Apply the transformation on your data frame.\n",
    "df['TBG measured'].value_counts(dropna = False)"
   ]
  },
  {
   "cell_type": "code",
   "execution_count": 89,
   "id": "18379abb",
   "metadata": {},
   "outputs": [],
   "source": [
    "df['TBG measured'].replace({\"f\" : 1 , \"t\" : 0} ,inplace = True)"
   ]
  },
  {
   "cell_type": "code",
   "execution_count": 90,
   "id": "d5f223fb",
   "metadata": {},
   "outputs": [
    {
     "data": {
      "text/plain": [
       "1    8823\n",
       "0     349\n",
       "Name: TBG measured, dtype: int64"
      ]
     },
     "execution_count": 90,
     "metadata": {},
     "output_type": "execute_result"
    }
   ],
   "source": [
    "df['TBG measured'].value_counts(dropna = False)"
   ]
  },
  {
   "cell_type": "code",
   "execution_count": 91,
   "id": "64fcbf0d",
   "metadata": {},
   "outputs": [
    {
     "data": {
      "text/plain": [
       "NaN         8823\n",
       "24            23\n",
       "27            22\n",
       "20            20\n",
       "28            19\n",
       "            ... \n",
       "63             1\n",
       "53             1\n",
       "9.599999       1\n",
       "116            1\n",
       "135            1\n",
       "Name: TBG, Length: 67, dtype: int64"
      ]
     },
     "execution_count": 91,
     "metadata": {},
     "output_type": "execute_result"
    }
   ],
   "source": [
    "#If you study the data frame carefully, you can see that instances with 'TBG measured' value as 'f', have NaN values under the column 'TBG' To impute missing values in this column, we will replace all the NaN values with 0. What is the column 'TBG' average after this data transformation? Enter the answer with two digits after the decimal point.\n",
    "df['TBG'].value_counts(dropna = False)"
   ]
  },
  {
   "cell_type": "code",
   "execution_count": 92,
   "id": "b4f5bdb8",
   "metadata": {},
   "outputs": [],
   "source": [
    "df['TBG'].fillna(value = 0 , inplace = True)"
   ]
  },
  {
   "cell_type": "code",
   "execution_count": 93,
   "id": "5b575be3",
   "metadata": {},
   "outputs": [
    {
     "data": {
      "text/plain": [
       "0           8823\n",
       "24            23\n",
       "27            22\n",
       "20            20\n",
       "28            19\n",
       "            ... \n",
       "63             1\n",
       "53             1\n",
       "9.599999       1\n",
       "116            1\n",
       "135            1\n",
       "Name: TBG, Length: 67, dtype: int64"
      ]
     },
     "execution_count": 93,
     "metadata": {},
     "output_type": "execute_result"
    }
   ],
   "source": [
    "df['TBG'].value_counts(dropna = False)"
   ]
  },
  {
   "cell_type": "code",
   "execution_count": 94,
   "id": "1f02cc0c",
   "metadata": {},
   "outputs": [],
   "source": [
    "df['TBG'] = df['TBG'].astype(float)"
   ]
  },
  {
   "cell_type": "code",
   "execution_count": 95,
   "id": "eca80da6",
   "metadata": {},
   "outputs": [
    {
     "data": {
      "text/plain": [
       "1.14"
      ]
     },
     "execution_count": 95,
     "metadata": {},
     "output_type": "execute_result"
    }
   ],
   "source": [
    "round(df['TBG'].mean(),2)"
   ]
  },
  {
   "cell_type": "code",
   "execution_count": 96,
   "id": "4eee5e47",
   "metadata": {},
   "outputs": [
    {
     "data": {
      "text/plain": [
       "other    5493\n",
       "SVI      2394\n",
       "SVHC      956\n",
       "STMW      255\n",
       "SVHD       71\n",
       "WEST        3\n",
       "Name: referral source, dtype: int64"
      ]
     },
     "execution_count": 96,
     "metadata": {},
     "output_type": "execute_result"
    }
   ],
   "source": [
    "#Sort the classes in the column Sort the classes in the column 'referral source' according to their frequency. The class with the highest frequency should be on the top and the lowest frequency on the bottom. according to their frequency. The class with the highest frequency should be on the top and the lowest frequency on the bottom.\n",
    "df['referral source'].value_counts()"
   ]
  },
  {
   "cell_type": "code",
   "execution_count": 97,
   "id": "41c4c3a3",
   "metadata": {},
   "outputs": [
    {
     "data": {
      "text/html": [
       "<div>\n",
       "<style scoped>\n",
       "    .dataframe tbody tr th:only-of-type {\n",
       "        vertical-align: middle;\n",
       "    }\n",
       "\n",
       "    .dataframe tbody tr th {\n",
       "        vertical-align: top;\n",
       "    }\n",
       "\n",
       "    .dataframe thead th {\n",
       "        text-align: right;\n",
       "    }\n",
       "</style>\n",
       "<table border=\"1\" class=\"dataframe\">\n",
       "  <thead>\n",
       "    <tr style=\"text-align: right;\">\n",
       "      <th></th>\n",
       "      <th>Referral_STMW</th>\n",
       "      <th>Referral_SVHC</th>\n",
       "      <th>Referral_SVHD</th>\n",
       "      <th>Referral_SVI</th>\n",
       "      <th>Referral_WEST</th>\n",
       "      <th>Referral_other</th>\n",
       "    </tr>\n",
       "  </thead>\n",
       "  <tbody>\n",
       "    <tr>\n",
       "      <th>0</th>\n",
       "      <td>0</td>\n",
       "      <td>0</td>\n",
       "      <td>0</td>\n",
       "      <td>0</td>\n",
       "      <td>0</td>\n",
       "      <td>1</td>\n",
       "    </tr>\n",
       "    <tr>\n",
       "      <th>1</th>\n",
       "      <td>0</td>\n",
       "      <td>0</td>\n",
       "      <td>0</td>\n",
       "      <td>0</td>\n",
       "      <td>0</td>\n",
       "      <td>1</td>\n",
       "    </tr>\n",
       "    <tr>\n",
       "      <th>2</th>\n",
       "      <td>0</td>\n",
       "      <td>0</td>\n",
       "      <td>0</td>\n",
       "      <td>0</td>\n",
       "      <td>0</td>\n",
       "      <td>1</td>\n",
       "    </tr>\n",
       "    <tr>\n",
       "      <th>3</th>\n",
       "      <td>0</td>\n",
       "      <td>0</td>\n",
       "      <td>0</td>\n",
       "      <td>0</td>\n",
       "      <td>0</td>\n",
       "      <td>1</td>\n",
       "    </tr>\n",
       "    <tr>\n",
       "      <th>4</th>\n",
       "      <td>0</td>\n",
       "      <td>0</td>\n",
       "      <td>0</td>\n",
       "      <td>0</td>\n",
       "      <td>0</td>\n",
       "      <td>1</td>\n",
       "    </tr>\n",
       "    <tr>\n",
       "      <th>...</th>\n",
       "      <td>...</td>\n",
       "      <td>...</td>\n",
       "      <td>...</td>\n",
       "      <td>...</td>\n",
       "      <td>...</td>\n",
       "      <td>...</td>\n",
       "    </tr>\n",
       "    <tr>\n",
       "      <th>9167</th>\n",
       "      <td>0</td>\n",
       "      <td>0</td>\n",
       "      <td>0</td>\n",
       "      <td>1</td>\n",
       "      <td>0</td>\n",
       "      <td>0</td>\n",
       "    </tr>\n",
       "    <tr>\n",
       "      <th>9168</th>\n",
       "      <td>0</td>\n",
       "      <td>0</td>\n",
       "      <td>0</td>\n",
       "      <td>1</td>\n",
       "      <td>0</td>\n",
       "      <td>0</td>\n",
       "    </tr>\n",
       "    <tr>\n",
       "      <th>9169</th>\n",
       "      <td>0</td>\n",
       "      <td>0</td>\n",
       "      <td>0</td>\n",
       "      <td>1</td>\n",
       "      <td>0</td>\n",
       "      <td>0</td>\n",
       "    </tr>\n",
       "    <tr>\n",
       "      <th>9170</th>\n",
       "      <td>0</td>\n",
       "      <td>0</td>\n",
       "      <td>0</td>\n",
       "      <td>0</td>\n",
       "      <td>0</td>\n",
       "      <td>1</td>\n",
       "    </tr>\n",
       "    <tr>\n",
       "      <th>9171</th>\n",
       "      <td>0</td>\n",
       "      <td>0</td>\n",
       "      <td>0</td>\n",
       "      <td>0</td>\n",
       "      <td>0</td>\n",
       "      <td>1</td>\n",
       "    </tr>\n",
       "  </tbody>\n",
       "</table>\n",
       "<p>9172 rows × 6 columns</p>\n",
       "</div>"
      ],
      "text/plain": [
       "      Referral_STMW  Referral_SVHC  Referral_SVHD  Referral_SVI  \\\n",
       "0                 0              0              0             0   \n",
       "1                 0              0              0             0   \n",
       "2                 0              0              0             0   \n",
       "3                 0              0              0             0   \n",
       "4                 0              0              0             0   \n",
       "...             ...            ...            ...           ...   \n",
       "9167              0              0              0             1   \n",
       "9168              0              0              0             1   \n",
       "9169              0              0              0             1   \n",
       "9170              0              0              0             0   \n",
       "9171              0              0              0             0   \n",
       "\n",
       "      Referral_WEST  Referral_other  \n",
       "0                 0               1  \n",
       "1                 0               1  \n",
       "2                 0               1  \n",
       "3                 0               1  \n",
       "4                 0               1  \n",
       "...             ...             ...  \n",
       "9167              0               0  \n",
       "9168              0               0  \n",
       "9169              0               0  \n",
       "9170              0               1  \n",
       "9171              0               1  \n",
       "\n",
       "[9172 rows x 6 columns]"
      ]
     },
     "execution_count": 97,
     "metadata": {},
     "output_type": "execute_result"
    }
   ],
   "source": [
    "#What is a proper data transformation on the column 'referral source'? Apply the transformation to your data frame.\n",
    "df_referral_Source = pd.get_dummies(df['referral source'],prefix = 'Referral')\n",
    "df_referral_Source"
   ]
  },
  {
   "cell_type": "code",
   "execution_count": 98,
   "id": "2bb2312c",
   "metadata": {},
   "outputs": [],
   "source": [
    "df[df_referral_Source.columns] = df_referral_Source"
   ]
  },
  {
   "cell_type": "code",
   "execution_count": 99,
   "id": "d2b583af",
   "metadata": {},
   "outputs": [
    {
     "data": {
      "text/html": [
       "<div>\n",
       "<style scoped>\n",
       "    .dataframe tbody tr th:only-of-type {\n",
       "        vertical-align: middle;\n",
       "    }\n",
       "\n",
       "    .dataframe tbody tr th {\n",
       "        vertical-align: top;\n",
       "    }\n",
       "\n",
       "    .dataframe thead th {\n",
       "        text-align: right;\n",
       "    }\n",
       "</style>\n",
       "<table border=\"1\" class=\"dataframe\">\n",
       "  <thead>\n",
       "    <tr style=\"text-align: right;\">\n",
       "      <th></th>\n",
       "      <th>age</th>\n",
       "      <th>sex</th>\n",
       "      <th>on antithyroid medication</th>\n",
       "      <th>sick</th>\n",
       "      <th>pregnant</th>\n",
       "      <th>thyroid surgery</th>\n",
       "      <th>I131 treatment</th>\n",
       "      <th>query hypothyroid</th>\n",
       "      <th>query hyperthyroid</th>\n",
       "      <th>lithium</th>\n",
       "      <th>goitre</th>\n",
       "      <th>tumor</th>\n",
       "      <th>hypopituitary</th>\n",
       "      <th>psych</th>\n",
       "      <th>TSH measured</th>\n",
       "      <th>...</th>\n",
       "      <th>TT4</th>\n",
       "      <th>T4U measured</th>\n",
       "      <th>T4U</th>\n",
       "      <th>FTI measured</th>\n",
       "      <th>FTI</th>\n",
       "      <th>TBG measured</th>\n",
       "      <th>TBG</th>\n",
       "      <th>referral source</th>\n",
       "      <th>y</th>\n",
       "      <th>Referral_STMW</th>\n",
       "      <th>Referral_SVHC</th>\n",
       "      <th>Referral_SVHD</th>\n",
       "      <th>Referral_SVI</th>\n",
       "      <th>Referral_WEST</th>\n",
       "      <th>Referral_other</th>\n",
       "    </tr>\n",
       "  </thead>\n",
       "  <tbody>\n",
       "    <tr>\n",
       "      <th>0</th>\n",
       "      <td>29</td>\n",
       "      <td>1</td>\n",
       "      <td>1</td>\n",
       "      <td>1</td>\n",
       "      <td>1</td>\n",
       "      <td>1</td>\n",
       "      <td>1</td>\n",
       "      <td>0</td>\n",
       "      <td>1</td>\n",
       "      <td>1</td>\n",
       "      <td>1</td>\n",
       "      <td>1</td>\n",
       "      <td>f</td>\n",
       "      <td>1</td>\n",
       "      <td>1</td>\n",
       "      <td>...</td>\n",
       "      <td>0.0</td>\n",
       "      <td>0</td>\n",
       "      <td>0.0</td>\n",
       "      <td>0</td>\n",
       "      <td>0.0</td>\n",
       "      <td>1</td>\n",
       "      <td>0.0</td>\n",
       "      <td>other</td>\n",
       "      <td>0</td>\n",
       "      <td>0</td>\n",
       "      <td>0</td>\n",
       "      <td>0</td>\n",
       "      <td>0</td>\n",
       "      <td>0</td>\n",
       "      <td>1</td>\n",
       "    </tr>\n",
       "    <tr>\n",
       "      <th>1</th>\n",
       "      <td>29</td>\n",
       "      <td>1</td>\n",
       "      <td>1</td>\n",
       "      <td>1</td>\n",
       "      <td>1</td>\n",
       "      <td>1</td>\n",
       "      <td>1</td>\n",
       "      <td>1</td>\n",
       "      <td>1</td>\n",
       "      <td>1</td>\n",
       "      <td>1</td>\n",
       "      <td>1</td>\n",
       "      <td>f</td>\n",
       "      <td>1</td>\n",
       "      <td>1</td>\n",
       "      <td>...</td>\n",
       "      <td>128.0</td>\n",
       "      <td>0</td>\n",
       "      <td>0.0</td>\n",
       "      <td>0</td>\n",
       "      <td>0.0</td>\n",
       "      <td>1</td>\n",
       "      <td>0.0</td>\n",
       "      <td>other</td>\n",
       "      <td>0</td>\n",
       "      <td>0</td>\n",
       "      <td>0</td>\n",
       "      <td>0</td>\n",
       "      <td>0</td>\n",
       "      <td>0</td>\n",
       "      <td>1</td>\n",
       "    </tr>\n",
       "    <tr>\n",
       "      <th>2</th>\n",
       "      <td>41</td>\n",
       "      <td>1</td>\n",
       "      <td>1</td>\n",
       "      <td>1</td>\n",
       "      <td>1</td>\n",
       "      <td>1</td>\n",
       "      <td>1</td>\n",
       "      <td>1</td>\n",
       "      <td>0</td>\n",
       "      <td>1</td>\n",
       "      <td>1</td>\n",
       "      <td>1</td>\n",
       "      <td>f</td>\n",
       "      <td>1</td>\n",
       "      <td>0</td>\n",
       "      <td>...</td>\n",
       "      <td>0.0</td>\n",
       "      <td>0</td>\n",
       "      <td>0.0</td>\n",
       "      <td>0</td>\n",
       "      <td>0.0</td>\n",
       "      <td>0</td>\n",
       "      <td>11.0</td>\n",
       "      <td>other</td>\n",
       "      <td>0</td>\n",
       "      <td>0</td>\n",
       "      <td>0</td>\n",
       "      <td>0</td>\n",
       "      <td>0</td>\n",
       "      <td>0</td>\n",
       "      <td>1</td>\n",
       "    </tr>\n",
       "    <tr>\n",
       "      <th>3</th>\n",
       "      <td>36</td>\n",
       "      <td>1</td>\n",
       "      <td>1</td>\n",
       "      <td>1</td>\n",
       "      <td>1</td>\n",
       "      <td>1</td>\n",
       "      <td>1</td>\n",
       "      <td>1</td>\n",
       "      <td>1</td>\n",
       "      <td>1</td>\n",
       "      <td>1</td>\n",
       "      <td>1</td>\n",
       "      <td>f</td>\n",
       "      <td>1</td>\n",
       "      <td>0</td>\n",
       "      <td>...</td>\n",
       "      <td>0.0</td>\n",
       "      <td>0</td>\n",
       "      <td>0.0</td>\n",
       "      <td>0</td>\n",
       "      <td>0.0</td>\n",
       "      <td>0</td>\n",
       "      <td>26.0</td>\n",
       "      <td>other</td>\n",
       "      <td>0</td>\n",
       "      <td>0</td>\n",
       "      <td>0</td>\n",
       "      <td>0</td>\n",
       "      <td>0</td>\n",
       "      <td>0</td>\n",
       "      <td>1</td>\n",
       "    </tr>\n",
       "    <tr>\n",
       "      <th>4</th>\n",
       "      <td>32</td>\n",
       "      <td>1</td>\n",
       "      <td>1</td>\n",
       "      <td>1</td>\n",
       "      <td>1</td>\n",
       "      <td>1</td>\n",
       "      <td>1</td>\n",
       "      <td>1</td>\n",
       "      <td>1</td>\n",
       "      <td>1</td>\n",
       "      <td>1</td>\n",
       "      <td>1</td>\n",
       "      <td>f</td>\n",
       "      <td>1</td>\n",
       "      <td>0</td>\n",
       "      <td>...</td>\n",
       "      <td>0.0</td>\n",
       "      <td>0</td>\n",
       "      <td>0.0</td>\n",
       "      <td>0</td>\n",
       "      <td>0.0</td>\n",
       "      <td>0</td>\n",
       "      <td>36.0</td>\n",
       "      <td>other</td>\n",
       "      <td>1</td>\n",
       "      <td>0</td>\n",
       "      <td>0</td>\n",
       "      <td>0</td>\n",
       "      <td>0</td>\n",
       "      <td>0</td>\n",
       "      <td>1</td>\n",
       "    </tr>\n",
       "  </tbody>\n",
       "</table>\n",
       "<p>5 rows × 34 columns</p>\n",
       "</div>"
      ],
      "text/plain": [
       "   age  sex  on antithyroid medication  sick  pregnant  thyroid surgery  \\\n",
       "0   29    1                          1     1         1                1   \n",
       "1   29    1                          1     1         1                1   \n",
       "2   41    1                          1     1         1                1   \n",
       "3   36    1                          1     1         1                1   \n",
       "4   32    1                          1     1         1                1   \n",
       "\n",
       "   I131 treatment  query hypothyroid  query hyperthyroid  lithium  goitre  \\\n",
       "0               1                  0                   1        1       1   \n",
       "1               1                  1                   1        1       1   \n",
       "2               1                  1                   0        1       1   \n",
       "3               1                  1                   1        1       1   \n",
       "4               1                  1                   1        1       1   \n",
       "\n",
       "   tumor hypopituitary  psych  TSH measured  ...    TT4  T4U measured  T4U  \\\n",
       "0      1             f      1             1  ...    0.0             0  0.0   \n",
       "1      1             f      1             1  ...  128.0             0  0.0   \n",
       "2      1             f      1             0  ...    0.0             0  0.0   \n",
       "3      1             f      1             0  ...    0.0             0  0.0   \n",
       "4      1             f      1             0  ...    0.0             0  0.0   \n",
       "\n",
       "   FTI measured  FTI  TBG measured   TBG  referral source  y  Referral_STMW  \\\n",
       "0             0  0.0             1   0.0            other  0              0   \n",
       "1             0  0.0             1   0.0            other  0              0   \n",
       "2             0  0.0             0  11.0            other  0              0   \n",
       "3             0  0.0             0  26.0            other  0              0   \n",
       "4             0  0.0             0  36.0            other  1              0   \n",
       "\n",
       "   Referral_SVHC Referral_SVHD  Referral_SVI  Referral_WEST  Referral_other  \n",
       "0              0             0             0              0               1  \n",
       "1              0             0             0              0               1  \n",
       "2              0             0             0              0               1  \n",
       "3              0             0             0              0               1  \n",
       "4              0             0             0              0               1  \n",
       "\n",
       "[5 rows x 34 columns]"
      ]
     },
     "execution_count": 99,
     "metadata": {},
     "output_type": "execute_result"
    }
   ],
   "source": [
    "df.head()"
   ]
  },
  {
   "cell_type": "code",
   "execution_count": 100,
   "id": "e568a6a2",
   "metadata": {},
   "outputs": [],
   "source": [
    "df.drop('referral source',axis = 1 , inplace = True)"
   ]
  },
  {
   "cell_type": "code",
   "execution_count": 101,
   "id": "a6f83d35",
   "metadata": {},
   "outputs": [
    {
     "data": {
      "text/html": [
       "<div>\n",
       "<style scoped>\n",
       "    .dataframe tbody tr th:only-of-type {\n",
       "        vertical-align: middle;\n",
       "    }\n",
       "\n",
       "    .dataframe tbody tr th {\n",
       "        vertical-align: top;\n",
       "    }\n",
       "\n",
       "    .dataframe thead th {\n",
       "        text-align: right;\n",
       "    }\n",
       "</style>\n",
       "<table border=\"1\" class=\"dataframe\">\n",
       "  <thead>\n",
       "    <tr style=\"text-align: right;\">\n",
       "      <th></th>\n",
       "      <th>age</th>\n",
       "      <th>sex</th>\n",
       "      <th>on antithyroid medication</th>\n",
       "      <th>sick</th>\n",
       "      <th>pregnant</th>\n",
       "      <th>thyroid surgery</th>\n",
       "      <th>I131 treatment</th>\n",
       "      <th>query hypothyroid</th>\n",
       "      <th>query hyperthyroid</th>\n",
       "      <th>lithium</th>\n",
       "      <th>goitre</th>\n",
       "      <th>tumor</th>\n",
       "      <th>hypopituitary</th>\n",
       "      <th>psych</th>\n",
       "      <th>TSH measured</th>\n",
       "      <th>...</th>\n",
       "      <th>TT4 measured</th>\n",
       "      <th>TT4</th>\n",
       "      <th>T4U measured</th>\n",
       "      <th>T4U</th>\n",
       "      <th>FTI measured</th>\n",
       "      <th>FTI</th>\n",
       "      <th>TBG measured</th>\n",
       "      <th>TBG</th>\n",
       "      <th>y</th>\n",
       "      <th>Referral_STMW</th>\n",
       "      <th>Referral_SVHC</th>\n",
       "      <th>Referral_SVHD</th>\n",
       "      <th>Referral_SVI</th>\n",
       "      <th>Referral_WEST</th>\n",
       "      <th>Referral_other</th>\n",
       "    </tr>\n",
       "  </thead>\n",
       "  <tbody>\n",
       "    <tr>\n",
       "      <th>0</th>\n",
       "      <td>29</td>\n",
       "      <td>1</td>\n",
       "      <td>1</td>\n",
       "      <td>1</td>\n",
       "      <td>1</td>\n",
       "      <td>1</td>\n",
       "      <td>1</td>\n",
       "      <td>0</td>\n",
       "      <td>1</td>\n",
       "      <td>1</td>\n",
       "      <td>1</td>\n",
       "      <td>1</td>\n",
       "      <td>f</td>\n",
       "      <td>1</td>\n",
       "      <td>1</td>\n",
       "      <td>...</td>\n",
       "      <td>0</td>\n",
       "      <td>0.0</td>\n",
       "      <td>0</td>\n",
       "      <td>0.0</td>\n",
       "      <td>0</td>\n",
       "      <td>0.0</td>\n",
       "      <td>1</td>\n",
       "      <td>0.0</td>\n",
       "      <td>0</td>\n",
       "      <td>0</td>\n",
       "      <td>0</td>\n",
       "      <td>0</td>\n",
       "      <td>0</td>\n",
       "      <td>0</td>\n",
       "      <td>1</td>\n",
       "    </tr>\n",
       "    <tr>\n",
       "      <th>1</th>\n",
       "      <td>29</td>\n",
       "      <td>1</td>\n",
       "      <td>1</td>\n",
       "      <td>1</td>\n",
       "      <td>1</td>\n",
       "      <td>1</td>\n",
       "      <td>1</td>\n",
       "      <td>1</td>\n",
       "      <td>1</td>\n",
       "      <td>1</td>\n",
       "      <td>1</td>\n",
       "      <td>1</td>\n",
       "      <td>f</td>\n",
       "      <td>1</td>\n",
       "      <td>1</td>\n",
       "      <td>...</td>\n",
       "      <td>1</td>\n",
       "      <td>128.0</td>\n",
       "      <td>0</td>\n",
       "      <td>0.0</td>\n",
       "      <td>0</td>\n",
       "      <td>0.0</td>\n",
       "      <td>1</td>\n",
       "      <td>0.0</td>\n",
       "      <td>0</td>\n",
       "      <td>0</td>\n",
       "      <td>0</td>\n",
       "      <td>0</td>\n",
       "      <td>0</td>\n",
       "      <td>0</td>\n",
       "      <td>1</td>\n",
       "    </tr>\n",
       "    <tr>\n",
       "      <th>2</th>\n",
       "      <td>41</td>\n",
       "      <td>1</td>\n",
       "      <td>1</td>\n",
       "      <td>1</td>\n",
       "      <td>1</td>\n",
       "      <td>1</td>\n",
       "      <td>1</td>\n",
       "      <td>1</td>\n",
       "      <td>0</td>\n",
       "      <td>1</td>\n",
       "      <td>1</td>\n",
       "      <td>1</td>\n",
       "      <td>f</td>\n",
       "      <td>1</td>\n",
       "      <td>0</td>\n",
       "      <td>...</td>\n",
       "      <td>0</td>\n",
       "      <td>0.0</td>\n",
       "      <td>0</td>\n",
       "      <td>0.0</td>\n",
       "      <td>0</td>\n",
       "      <td>0.0</td>\n",
       "      <td>0</td>\n",
       "      <td>11.0</td>\n",
       "      <td>0</td>\n",
       "      <td>0</td>\n",
       "      <td>0</td>\n",
       "      <td>0</td>\n",
       "      <td>0</td>\n",
       "      <td>0</td>\n",
       "      <td>1</td>\n",
       "    </tr>\n",
       "    <tr>\n",
       "      <th>3</th>\n",
       "      <td>36</td>\n",
       "      <td>1</td>\n",
       "      <td>1</td>\n",
       "      <td>1</td>\n",
       "      <td>1</td>\n",
       "      <td>1</td>\n",
       "      <td>1</td>\n",
       "      <td>1</td>\n",
       "      <td>1</td>\n",
       "      <td>1</td>\n",
       "      <td>1</td>\n",
       "      <td>1</td>\n",
       "      <td>f</td>\n",
       "      <td>1</td>\n",
       "      <td>0</td>\n",
       "      <td>...</td>\n",
       "      <td>0</td>\n",
       "      <td>0.0</td>\n",
       "      <td>0</td>\n",
       "      <td>0.0</td>\n",
       "      <td>0</td>\n",
       "      <td>0.0</td>\n",
       "      <td>0</td>\n",
       "      <td>26.0</td>\n",
       "      <td>0</td>\n",
       "      <td>0</td>\n",
       "      <td>0</td>\n",
       "      <td>0</td>\n",
       "      <td>0</td>\n",
       "      <td>0</td>\n",
       "      <td>1</td>\n",
       "    </tr>\n",
       "    <tr>\n",
       "      <th>4</th>\n",
       "      <td>32</td>\n",
       "      <td>1</td>\n",
       "      <td>1</td>\n",
       "      <td>1</td>\n",
       "      <td>1</td>\n",
       "      <td>1</td>\n",
       "      <td>1</td>\n",
       "      <td>1</td>\n",
       "      <td>1</td>\n",
       "      <td>1</td>\n",
       "      <td>1</td>\n",
       "      <td>1</td>\n",
       "      <td>f</td>\n",
       "      <td>1</td>\n",
       "      <td>0</td>\n",
       "      <td>...</td>\n",
       "      <td>0</td>\n",
       "      <td>0.0</td>\n",
       "      <td>0</td>\n",
       "      <td>0.0</td>\n",
       "      <td>0</td>\n",
       "      <td>0.0</td>\n",
       "      <td>0</td>\n",
       "      <td>36.0</td>\n",
       "      <td>1</td>\n",
       "      <td>0</td>\n",
       "      <td>0</td>\n",
       "      <td>0</td>\n",
       "      <td>0</td>\n",
       "      <td>0</td>\n",
       "      <td>1</td>\n",
       "    </tr>\n",
       "  </tbody>\n",
       "</table>\n",
       "<p>5 rows × 33 columns</p>\n",
       "</div>"
      ],
      "text/plain": [
       "   age  sex  on antithyroid medication  sick  pregnant  thyroid surgery  \\\n",
       "0   29    1                          1     1         1                1   \n",
       "1   29    1                          1     1         1                1   \n",
       "2   41    1                          1     1         1                1   \n",
       "3   36    1                          1     1         1                1   \n",
       "4   32    1                          1     1         1                1   \n",
       "\n",
       "   I131 treatment  query hypothyroid  query hyperthyroid  lithium  goitre  \\\n",
       "0               1                  0                   1        1       1   \n",
       "1               1                  1                   1        1       1   \n",
       "2               1                  1                   0        1       1   \n",
       "3               1                  1                   1        1       1   \n",
       "4               1                  1                   1        1       1   \n",
       "\n",
       "   tumor hypopituitary  psych  TSH measured  ...  TT4 measured    TT4  \\\n",
       "0      1             f      1             1  ...             0    0.0   \n",
       "1      1             f      1             1  ...             1  128.0   \n",
       "2      1             f      1             0  ...             0    0.0   \n",
       "3      1             f      1             0  ...             0    0.0   \n",
       "4      1             f      1             0  ...             0    0.0   \n",
       "\n",
       "   T4U measured  T4U  FTI measured  FTI  TBG measured   TBG  y  Referral_STMW  \\\n",
       "0             0  0.0             0  0.0             1   0.0  0              0   \n",
       "1             0  0.0             0  0.0             1   0.0  0              0   \n",
       "2             0  0.0             0  0.0             0  11.0  0              0   \n",
       "3             0  0.0             0  0.0             0  26.0  0              0   \n",
       "4             0  0.0             0  0.0             0  36.0  1              0   \n",
       "\n",
       "   Referral_SVHC  Referral_SVHD  Referral_SVI  Referral_WEST  Referral_other  \n",
       "0              0              0             0              0               1  \n",
       "1              0              0             0              0               1  \n",
       "2              0              0             0              0               1  \n",
       "3              0              0             0              0               1  \n",
       "4              0              0             0              0               1  \n",
       "\n",
       "[5 rows x 33 columns]"
      ]
     },
     "execution_count": 101,
     "metadata": {},
     "output_type": "execute_result"
    }
   ],
   "source": [
    "df.head()"
   ]
  },
  {
   "cell_type": "code",
   "execution_count": 102,
   "id": "f4710be5",
   "metadata": {},
   "outputs": [
    {
     "data": {
      "text/plain": [
       "60       209\n",
       "62       208\n",
       "72       207\n",
       "59       201\n",
       "61       192\n",
       "        ... \n",
       "9          2\n",
       "65526      1\n",
       "65511      1\n",
       "455        1\n",
       "65512      1\n",
       "Name: age, Length: 100, dtype: int64"
      ]
     },
     "execution_count": 102,
     "metadata": {},
     "output_type": "execute_result"
    }
   ],
   "source": [
    "#At this point, all the columns in the data frame are of numerical data type. However, this data frame is not clean yet. Look as the column age. We can assume the patient's age is in the range of 0 to 100. How many instances in this data frame have age value outside of this range? What would be a correct data clean-up action? Apply the changes to your data frame.\n",
    "\n",
    "df['age'].value_counts()"
   ]
  },
  {
   "cell_type": "code",
   "execution_count": 103,
   "id": "70b65455",
   "metadata": {},
   "outputs": [
    {
     "data": {
      "text/plain": [
       "False    9168\n",
       "True        4\n",
       "Name: age, dtype: int64"
      ]
     },
     "execution_count": 103,
     "metadata": {},
     "output_type": "execute_result"
    }
   ],
   "source": [
    "df['age'].ge(100).value_counts()"
   ]
  },
  {
   "cell_type": "code",
   "execution_count": 106,
   "id": "99f482b4",
   "metadata": {},
   "outputs": [],
   "source": [
    "#At this point, all the columns in the data frame are of numerical data type. However, this data frame is not clean yet. Look as the column age. We can assume the patient's age is in the range of 0 to 100. How many instances in this data frame have age value outside of this range? What would be a correct data clean-up action? Apply the changes to your data frame\n",
    "\n",
    "df.drop(df[df['age'] > 100].index,inplace = True)"
   ]
  },
  {
   "cell_type": "code",
   "execution_count": 107,
   "id": "b5de8a22",
   "metadata": {},
   "outputs": [
    {
     "data": {
      "text/html": [
       "<div>\n",
       "<style scoped>\n",
       "    .dataframe tbody tr th:only-of-type {\n",
       "        vertical-align: middle;\n",
       "    }\n",
       "\n",
       "    .dataframe tbody tr th {\n",
       "        vertical-align: top;\n",
       "    }\n",
       "\n",
       "    .dataframe thead th {\n",
       "        text-align: right;\n",
       "    }\n",
       "</style>\n",
       "<table border=\"1\" class=\"dataframe\">\n",
       "  <thead>\n",
       "    <tr style=\"text-align: right;\">\n",
       "      <th></th>\n",
       "      <th>age</th>\n",
       "      <th>sex</th>\n",
       "      <th>on antithyroid medication</th>\n",
       "      <th>sick</th>\n",
       "      <th>pregnant</th>\n",
       "      <th>thyroid surgery</th>\n",
       "      <th>I131 treatment</th>\n",
       "      <th>query hypothyroid</th>\n",
       "      <th>query hyperthyroid</th>\n",
       "      <th>lithium</th>\n",
       "      <th>goitre</th>\n",
       "      <th>tumor</th>\n",
       "      <th>hypopituitary</th>\n",
       "      <th>psych</th>\n",
       "      <th>TSH measured</th>\n",
       "      <th>...</th>\n",
       "      <th>TT4 measured</th>\n",
       "      <th>TT4</th>\n",
       "      <th>T4U measured</th>\n",
       "      <th>T4U</th>\n",
       "      <th>FTI measured</th>\n",
       "      <th>FTI</th>\n",
       "      <th>TBG measured</th>\n",
       "      <th>TBG</th>\n",
       "      <th>y</th>\n",
       "      <th>Referral_STMW</th>\n",
       "      <th>Referral_SVHC</th>\n",
       "      <th>Referral_SVHD</th>\n",
       "      <th>Referral_SVI</th>\n",
       "      <th>Referral_WEST</th>\n",
       "      <th>Referral_other</th>\n",
       "    </tr>\n",
       "  </thead>\n",
       "  <tbody>\n",
       "    <tr>\n",
       "      <th>0</th>\n",
       "      <td>29</td>\n",
       "      <td>1</td>\n",
       "      <td>1</td>\n",
       "      <td>1</td>\n",
       "      <td>1</td>\n",
       "      <td>1</td>\n",
       "      <td>1</td>\n",
       "      <td>0</td>\n",
       "      <td>1</td>\n",
       "      <td>1</td>\n",
       "      <td>1</td>\n",
       "      <td>1</td>\n",
       "      <td>f</td>\n",
       "      <td>1</td>\n",
       "      <td>1</td>\n",
       "      <td>...</td>\n",
       "      <td>0</td>\n",
       "      <td>0.0</td>\n",
       "      <td>0</td>\n",
       "      <td>0.00</td>\n",
       "      <td>0</td>\n",
       "      <td>0.0</td>\n",
       "      <td>1</td>\n",
       "      <td>0.0</td>\n",
       "      <td>0</td>\n",
       "      <td>0</td>\n",
       "      <td>0</td>\n",
       "      <td>0</td>\n",
       "      <td>0</td>\n",
       "      <td>0</td>\n",
       "      <td>1</td>\n",
       "    </tr>\n",
       "    <tr>\n",
       "      <th>1</th>\n",
       "      <td>29</td>\n",
       "      <td>1</td>\n",
       "      <td>1</td>\n",
       "      <td>1</td>\n",
       "      <td>1</td>\n",
       "      <td>1</td>\n",
       "      <td>1</td>\n",
       "      <td>1</td>\n",
       "      <td>1</td>\n",
       "      <td>1</td>\n",
       "      <td>1</td>\n",
       "      <td>1</td>\n",
       "      <td>f</td>\n",
       "      <td>1</td>\n",
       "      <td>1</td>\n",
       "      <td>...</td>\n",
       "      <td>1</td>\n",
       "      <td>128.0</td>\n",
       "      <td>0</td>\n",
       "      <td>0.00</td>\n",
       "      <td>0</td>\n",
       "      <td>0.0</td>\n",
       "      <td>1</td>\n",
       "      <td>0.0</td>\n",
       "      <td>0</td>\n",
       "      <td>0</td>\n",
       "      <td>0</td>\n",
       "      <td>0</td>\n",
       "      <td>0</td>\n",
       "      <td>0</td>\n",
       "      <td>1</td>\n",
       "    </tr>\n",
       "    <tr>\n",
       "      <th>2</th>\n",
       "      <td>41</td>\n",
       "      <td>1</td>\n",
       "      <td>1</td>\n",
       "      <td>1</td>\n",
       "      <td>1</td>\n",
       "      <td>1</td>\n",
       "      <td>1</td>\n",
       "      <td>1</td>\n",
       "      <td>0</td>\n",
       "      <td>1</td>\n",
       "      <td>1</td>\n",
       "      <td>1</td>\n",
       "      <td>f</td>\n",
       "      <td>1</td>\n",
       "      <td>0</td>\n",
       "      <td>...</td>\n",
       "      <td>0</td>\n",
       "      <td>0.0</td>\n",
       "      <td>0</td>\n",
       "      <td>0.00</td>\n",
       "      <td>0</td>\n",
       "      <td>0.0</td>\n",
       "      <td>0</td>\n",
       "      <td>11.0</td>\n",
       "      <td>0</td>\n",
       "      <td>0</td>\n",
       "      <td>0</td>\n",
       "      <td>0</td>\n",
       "      <td>0</td>\n",
       "      <td>0</td>\n",
       "      <td>1</td>\n",
       "    </tr>\n",
       "    <tr>\n",
       "      <th>3</th>\n",
       "      <td>36</td>\n",
       "      <td>1</td>\n",
       "      <td>1</td>\n",
       "      <td>1</td>\n",
       "      <td>1</td>\n",
       "      <td>1</td>\n",
       "      <td>1</td>\n",
       "      <td>1</td>\n",
       "      <td>1</td>\n",
       "      <td>1</td>\n",
       "      <td>1</td>\n",
       "      <td>1</td>\n",
       "      <td>f</td>\n",
       "      <td>1</td>\n",
       "      <td>0</td>\n",
       "      <td>...</td>\n",
       "      <td>0</td>\n",
       "      <td>0.0</td>\n",
       "      <td>0</td>\n",
       "      <td>0.00</td>\n",
       "      <td>0</td>\n",
       "      <td>0.0</td>\n",
       "      <td>0</td>\n",
       "      <td>26.0</td>\n",
       "      <td>0</td>\n",
       "      <td>0</td>\n",
       "      <td>0</td>\n",
       "      <td>0</td>\n",
       "      <td>0</td>\n",
       "      <td>0</td>\n",
       "      <td>1</td>\n",
       "    </tr>\n",
       "    <tr>\n",
       "      <th>4</th>\n",
       "      <td>32</td>\n",
       "      <td>1</td>\n",
       "      <td>1</td>\n",
       "      <td>1</td>\n",
       "      <td>1</td>\n",
       "      <td>1</td>\n",
       "      <td>1</td>\n",
       "      <td>1</td>\n",
       "      <td>1</td>\n",
       "      <td>1</td>\n",
       "      <td>1</td>\n",
       "      <td>1</td>\n",
       "      <td>f</td>\n",
       "      <td>1</td>\n",
       "      <td>0</td>\n",
       "      <td>...</td>\n",
       "      <td>0</td>\n",
       "      <td>0.0</td>\n",
       "      <td>0</td>\n",
       "      <td>0.00</td>\n",
       "      <td>0</td>\n",
       "      <td>0.0</td>\n",
       "      <td>0</td>\n",
       "      <td>36.0</td>\n",
       "      <td>1</td>\n",
       "      <td>0</td>\n",
       "      <td>0</td>\n",
       "      <td>0</td>\n",
       "      <td>0</td>\n",
       "      <td>0</td>\n",
       "      <td>1</td>\n",
       "    </tr>\n",
       "    <tr>\n",
       "      <th>...</th>\n",
       "      <td>...</td>\n",
       "      <td>...</td>\n",
       "      <td>...</td>\n",
       "      <td>...</td>\n",
       "      <td>...</td>\n",
       "      <td>...</td>\n",
       "      <td>...</td>\n",
       "      <td>...</td>\n",
       "      <td>...</td>\n",
       "      <td>...</td>\n",
       "      <td>...</td>\n",
       "      <td>...</td>\n",
       "      <td>...</td>\n",
       "      <td>...</td>\n",
       "      <td>...</td>\n",
       "      <td>...</td>\n",
       "      <td>...</td>\n",
       "      <td>...</td>\n",
       "      <td>...</td>\n",
       "      <td>...</td>\n",
       "      <td>...</td>\n",
       "      <td>...</td>\n",
       "      <td>...</td>\n",
       "      <td>...</td>\n",
       "      <td>...</td>\n",
       "      <td>...</td>\n",
       "      <td>...</td>\n",
       "      <td>...</td>\n",
       "      <td>...</td>\n",
       "      <td>...</td>\n",
       "      <td>...</td>\n",
       "    </tr>\n",
       "    <tr>\n",
       "      <th>9167</th>\n",
       "      <td>56</td>\n",
       "      <td>0</td>\n",
       "      <td>1</td>\n",
       "      <td>1</td>\n",
       "      <td>1</td>\n",
       "      <td>1</td>\n",
       "      <td>1</td>\n",
       "      <td>1</td>\n",
       "      <td>0</td>\n",
       "      <td>1</td>\n",
       "      <td>1</td>\n",
       "      <td>1</td>\n",
       "      <td>f</td>\n",
       "      <td>1</td>\n",
       "      <td>0</td>\n",
       "      <td>...</td>\n",
       "      <td>1</td>\n",
       "      <td>64.0</td>\n",
       "      <td>1</td>\n",
       "      <td>0.83</td>\n",
       "      <td>1</td>\n",
       "      <td>77.0</td>\n",
       "      <td>1</td>\n",
       "      <td>0.0</td>\n",
       "      <td>0</td>\n",
       "      <td>0</td>\n",
       "      <td>0</td>\n",
       "      <td>0</td>\n",
       "      <td>1</td>\n",
       "      <td>0</td>\n",
       "      <td>0</td>\n",
       "    </tr>\n",
       "    <tr>\n",
       "      <th>9168</th>\n",
       "      <td>22</td>\n",
       "      <td>0</td>\n",
       "      <td>1</td>\n",
       "      <td>1</td>\n",
       "      <td>1</td>\n",
       "      <td>1</td>\n",
       "      <td>1</td>\n",
       "      <td>1</td>\n",
       "      <td>1</td>\n",
       "      <td>1</td>\n",
       "      <td>1</td>\n",
       "      <td>1</td>\n",
       "      <td>f</td>\n",
       "      <td>1</td>\n",
       "      <td>0</td>\n",
       "      <td>...</td>\n",
       "      <td>1</td>\n",
       "      <td>91.0</td>\n",
       "      <td>1</td>\n",
       "      <td>0.92</td>\n",
       "      <td>1</td>\n",
       "      <td>99.0</td>\n",
       "      <td>1</td>\n",
       "      <td>0.0</td>\n",
       "      <td>0</td>\n",
       "      <td>0</td>\n",
       "      <td>0</td>\n",
       "      <td>0</td>\n",
       "      <td>1</td>\n",
       "      <td>0</td>\n",
       "      <td>0</td>\n",
       "    </tr>\n",
       "    <tr>\n",
       "      <th>9169</th>\n",
       "      <td>69</td>\n",
       "      <td>0</td>\n",
       "      <td>1</td>\n",
       "      <td>1</td>\n",
       "      <td>1</td>\n",
       "      <td>1</td>\n",
       "      <td>1</td>\n",
       "      <td>1</td>\n",
       "      <td>1</td>\n",
       "      <td>1</td>\n",
       "      <td>1</td>\n",
       "      <td>1</td>\n",
       "      <td>f</td>\n",
       "      <td>1</td>\n",
       "      <td>0</td>\n",
       "      <td>...</td>\n",
       "      <td>1</td>\n",
       "      <td>113.0</td>\n",
       "      <td>1</td>\n",
       "      <td>1.27</td>\n",
       "      <td>1</td>\n",
       "      <td>89.0</td>\n",
       "      <td>1</td>\n",
       "      <td>0.0</td>\n",
       "      <td>1</td>\n",
       "      <td>0</td>\n",
       "      <td>0</td>\n",
       "      <td>0</td>\n",
       "      <td>1</td>\n",
       "      <td>0</td>\n",
       "      <td>0</td>\n",
       "    </tr>\n",
       "    <tr>\n",
       "      <th>9170</th>\n",
       "      <td>47</td>\n",
       "      <td>1</td>\n",
       "      <td>1</td>\n",
       "      <td>1</td>\n",
       "      <td>1</td>\n",
       "      <td>1</td>\n",
       "      <td>1</td>\n",
       "      <td>1</td>\n",
       "      <td>1</td>\n",
       "      <td>1</td>\n",
       "      <td>1</td>\n",
       "      <td>1</td>\n",
       "      <td>f</td>\n",
       "      <td>1</td>\n",
       "      <td>0</td>\n",
       "      <td>...</td>\n",
       "      <td>1</td>\n",
       "      <td>75.0</td>\n",
       "      <td>1</td>\n",
       "      <td>0.85</td>\n",
       "      <td>1</td>\n",
       "      <td>88.0</td>\n",
       "      <td>1</td>\n",
       "      <td>0.0</td>\n",
       "      <td>0</td>\n",
       "      <td>0</td>\n",
       "      <td>0</td>\n",
       "      <td>0</td>\n",
       "      <td>0</td>\n",
       "      <td>0</td>\n",
       "      <td>1</td>\n",
       "    </tr>\n",
       "    <tr>\n",
       "      <th>9171</th>\n",
       "      <td>31</td>\n",
       "      <td>0</td>\n",
       "      <td>1</td>\n",
       "      <td>1</td>\n",
       "      <td>1</td>\n",
       "      <td>1</td>\n",
       "      <td>1</td>\n",
       "      <td>0</td>\n",
       "      <td>1</td>\n",
       "      <td>1</td>\n",
       "      <td>1</td>\n",
       "      <td>1</td>\n",
       "      <td>f</td>\n",
       "      <td>1</td>\n",
       "      <td>0</td>\n",
       "      <td>...</td>\n",
       "      <td>1</td>\n",
       "      <td>66.0</td>\n",
       "      <td>1</td>\n",
       "      <td>1.02</td>\n",
       "      <td>1</td>\n",
       "      <td>65.0</td>\n",
       "      <td>1</td>\n",
       "      <td>0.0</td>\n",
       "      <td>0</td>\n",
       "      <td>0</td>\n",
       "      <td>0</td>\n",
       "      <td>0</td>\n",
       "      <td>0</td>\n",
       "      <td>0</td>\n",
       "      <td>1</td>\n",
       "    </tr>\n",
       "  </tbody>\n",
       "</table>\n",
       "<p>9168 rows × 33 columns</p>\n",
       "</div>"
      ],
      "text/plain": [
       "      age  sex  on antithyroid medication  sick  pregnant  thyroid surgery  \\\n",
       "0      29    1                          1     1         1                1   \n",
       "1      29    1                          1     1         1                1   \n",
       "2      41    1                          1     1         1                1   \n",
       "3      36    1                          1     1         1                1   \n",
       "4      32    1                          1     1         1                1   \n",
       "...   ...  ...                        ...   ...       ...              ...   \n",
       "9167   56    0                          1     1         1                1   \n",
       "9168   22    0                          1     1         1                1   \n",
       "9169   69    0                          1     1         1                1   \n",
       "9170   47    1                          1     1         1                1   \n",
       "9171   31    0                          1     1         1                1   \n",
       "\n",
       "      I131 treatment  query hypothyroid  query hyperthyroid  lithium  goitre  \\\n",
       "0                  1                  0                   1        1       1   \n",
       "1                  1                  1                   1        1       1   \n",
       "2                  1                  1                   0        1       1   \n",
       "3                  1                  1                   1        1       1   \n",
       "4                  1                  1                   1        1       1   \n",
       "...              ...                ...                 ...      ...     ...   \n",
       "9167               1                  1                   0        1       1   \n",
       "9168               1                  1                   1        1       1   \n",
       "9169               1                  1                   1        1       1   \n",
       "9170               1                  1                   1        1       1   \n",
       "9171               1                  0                   1        1       1   \n",
       "\n",
       "      tumor hypopituitary  psych  TSH measured  ...  TT4 measured    TT4  \\\n",
       "0         1             f      1             1  ...             0    0.0   \n",
       "1         1             f      1             1  ...             1  128.0   \n",
       "2         1             f      1             0  ...             0    0.0   \n",
       "3         1             f      1             0  ...             0    0.0   \n",
       "4         1             f      1             0  ...             0    0.0   \n",
       "...     ...           ...    ...           ...  ...           ...    ...   \n",
       "9167      1             f      1             0  ...             1   64.0   \n",
       "9168      1             f      1             0  ...             1   91.0   \n",
       "9169      1             f      1             0  ...             1  113.0   \n",
       "9170      1             f      1             0  ...             1   75.0   \n",
       "9171      1             f      1             0  ...             1   66.0   \n",
       "\n",
       "      T4U measured   T4U  FTI measured   FTI  TBG measured   TBG  y  \\\n",
       "0                0  0.00             0   0.0             1   0.0  0   \n",
       "1                0  0.00             0   0.0             1   0.0  0   \n",
       "2                0  0.00             0   0.0             0  11.0  0   \n",
       "3                0  0.00             0   0.0             0  26.0  0   \n",
       "4                0  0.00             0   0.0             0  36.0  1   \n",
       "...            ...   ...           ...   ...           ...   ... ..   \n",
       "9167             1  0.83             1  77.0             1   0.0  0   \n",
       "9168             1  0.92             1  99.0             1   0.0  0   \n",
       "9169             1  1.27             1  89.0             1   0.0  1   \n",
       "9170             1  0.85             1  88.0             1   0.0  0   \n",
       "9171             1  1.02             1  65.0             1   0.0  0   \n",
       "\n",
       "      Referral_STMW  Referral_SVHC  Referral_SVHD  Referral_SVI  \\\n",
       "0                 0              0              0             0   \n",
       "1                 0              0              0             0   \n",
       "2                 0              0              0             0   \n",
       "3                 0              0              0             0   \n",
       "4                 0              0              0             0   \n",
       "...             ...            ...            ...           ...   \n",
       "9167              0              0              0             1   \n",
       "9168              0              0              0             1   \n",
       "9169              0              0              0             1   \n",
       "9170              0              0              0             0   \n",
       "9171              0              0              0             0   \n",
       "\n",
       "      Referral_WEST  Referral_other  \n",
       "0                 0               1  \n",
       "1                 0               1  \n",
       "2                 0               1  \n",
       "3                 0               1  \n",
       "4                 0               1  \n",
       "...             ...             ...  \n",
       "9167              0               0  \n",
       "9168              0               0  \n",
       "9169              0               0  \n",
       "9170              0               1  \n",
       "9171              0               1  \n",
       "\n",
       "[9168 rows x 33 columns]"
      ]
     },
     "execution_count": 107,
     "metadata": {},
     "output_type": "execute_result"
    }
   ],
   "source": [
    "df"
   ]
  },
  {
   "cell_type": "code",
   "execution_count": 110,
   "id": "89d82e5f",
   "metadata": {},
   "outputs": [
    {
     "data": {
      "text/plain": [
       "52.1"
      ]
     },
     "execution_count": 110,
     "metadata": {},
     "output_type": "execute_result"
    }
   ],
   "source": [
    "#What is the average 'age' in this data frame? Enter the answer with two digits after the decimal point.\n",
    "round(df['age'].mean(),2)"
   ]
  },
  {
   "cell_type": "code",
   "execution_count": 116,
   "id": "a0121fa4",
   "metadata": {},
   "outputs": [
    {
     "data": {
      "text/plain": [
       "52.126528692380056"
      ]
     },
     "execution_count": 116,
     "metadata": {},
     "output_type": "execute_result"
    }
   ],
   "source": [
    "df_fem = df[(df['sex'] == 1)]\n",
    "\n",
    "df_fem['age'].mean()"
   ]
  },
  {
   "cell_type": "code",
   "execution_count": 117,
   "id": "42b1b04e",
   "metadata": {},
   "outputs": [
    {
     "data": {
      "text/plain": [
       "52.03835125448029"
      ]
     },
     "execution_count": 117,
     "metadata": {},
     "output_type": "execute_result"
    }
   ],
   "source": [
    "df_mal = df[(df['sex'] == 0)]\n",
    "\n",
    "df_mal['age'].mean()\n",
    "\n",
    "#plt.yticks([df_fem['age'].mean(),df_mal['age'].mean()])"
   ]
  },
  {
   "cell_type": "code",
   "execution_count": 137,
   "id": "d15ddf71",
   "metadata": {},
   "outputs": [
    {
     "data": {
      "text/plain": [
       "[<matplotlib.lines.Line2D at 0x7fae4a892640>]"
      ]
     },
     "execution_count": 137,
     "metadata": {},
     "output_type": "execute_result"
    },
    {
     "data": {
      "image/png": "[encoded data removed]",
      "text/plain": [
       "<Figure size 432x288 with 1 Axes>"
      ]
     },
     "metadata": {
      "needs_background": "light"
     },
     "output_type": "display_data"
    }
   ],
   "source": [
    "x = ['female','male']\n",
    "y = [df_fem['age'].mean(),df_mal['age'].mean()]\n",
    "\n",
    "plt.plot(x,y)"
   ]
  },
  {
   "cell_type": "code",
   "execution_count": 164,
   "id": "d0a70f1d",
   "metadata": {},
   "outputs": [
    {
     "data": {
      "image/png": "[encoded data removed]",
      "text/plain": [
       "<Figure size 432x288 with 1 Axes>"
      ]
     },
     "metadata": {
      "needs_background": "light"
     },
     "output_type": "display_data"
    },
    {
     "name": "stdout",
     "output_type": "stream",
     "text": [
      "52.03835125448029 18.26386118713148\n"
     ]
    }
   ],
   "source": [
    "from scipy.stats import norm\n",
    "import statistics as st\n",
    "\n",
    "x_axis = list(df_mal['age'])\n",
    "\n",
    "mean = st.mean(x_axis)\n",
    "sd = st.stdev(x_axis)\n",
    "\n",
    "plt.plot(x_axis, norm.pdf(x_axis, mean, sd))\n",
    "plt.show()\n",
    "\n",
    "\n",
    "\n",
    "print ( mean , sd)"
   ]
  },
  {
   "cell_type": "code",
   "execution_count": null,
   "id": "c89b5f85",
   "metadata": {},
   "outputs": [],
   "source": []
  }
 ],
 "metadata": {
  "kernelspec": {
   "display_name": "Python 3",
   "language": "python",
   "name": "python3"
  },
  "language_info": {
   "codemirror_mode": {
    "name": "ipython",
    "version": 3
   },
   "file_extension": ".py",
   "mimetype": "text/x-python",
   "name": "python",
   "nbconvert_exporter": "python",
   "pygments_lexer": "ipython3",
   "version": "3.8.8"
  }
 },
 "nbformat": 4,
 "nbformat_minor": 5
}
