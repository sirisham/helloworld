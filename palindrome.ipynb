{
 "cells": [
  {
   "cell_type": "code",
   "execution_count": 1,
   "metadata": {},
   "outputs": [
    {
     "name": "stdout",
     "output_type": "stream",
     "text": [
      "String 'is it sunny' is not a palindrome\n"
     ]
    }
   ],
   "source": [
    "# Palindrome \n",
    "def is_Palindrome(strtext,text):\n",
    "    if strtext == strtext[::-1]:\n",
    "        print(f\"String '{text}' is a palindrome\")\n",
    "    else:\n",
    "        print(f\"String '{text}' is not a palindrome\")\n",
    "text = \" \"\n",
    "while(text != 'exit'):\n",
    "    text = input(\"Please enter a string or 'exit' : \")\n",
    "    text = text.lower()\n",
    "    if ( text == 'exit'):\n",
    "        break\n",
    "    newtext = \"\"\n",
    "    for x in text:\n",
    "        if x.isalnum():\n",
    "            newtext += x\n",
    "    is_Palindrome(newtext,text)\n",
    "     \n"
   ]
  }
 ],
 "metadata": {
  "interpreter": {
   "hash": "71bb11fca9f6eef2431e46c4d56bebdc351fc4c97a62ad3aeabb6c3041061f1b"
  },
  "kernelspec": {
   "display_name": "Python 3.8.8 64-bit ('base': conda)",
   "language": "python",
   "name": "python3"
  },
  "language_info": {
   "codemirror_mode": {
    "name": "ipython",
    "version": 3
   },
   "file_extension": ".py",
   "mimetype": "text/x-python",
   "name": "python",
   "nbconvert_exporter": "python",
   "pygments_lexer": "ipython3",
   "version": "3.8.8"
  },
  "orig_nbformat": 4
 },
 "nbformat": 4,
 "nbformat_minor": 2
}
