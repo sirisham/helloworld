{
 "cells": [
  {
   "cell_type": "markdown",
   "id": "1711a9a2",
   "metadata": {},
   "source": [
    "Exercise 43: Faces on Money\n",
    "(31 Lines) It is common for images of a country’s previous leaders, or other individuals of his- torical significance, to appear on its money. The individuals that appear on banknotes\n",
    "in the United States are listed in Table 2.1.\n",
    "Write a program that begins by reading the denomination of a banknote from the\n",
    "user. Then your program should display the name of the individual that appears on the\n",
    "   This copy belongs to 'acha04'\n",
    "Exercise 43: Faces on Money\n",
    "19\n",
    " Table2.1 Individualsthat appear on Banknotes\n",
    "Individual\n",
    "George Washington\n",
    "Thomas Jefferson Abraham Lincoln Alexander Hamilton Andrew Jackson Ulysses S. Grant Benjamin Franklin\n",
    "Amount $1\n",
    "$2\n",
    "$5\n",
    "$10\n",
    "$20\n",
    "$50\n",
    "$100\n",
    "         banknote of the entered amount. An appropriate error message should be displayed if no such note exists."
   ]
  },
  {
   "cell_type": "code",
   "execution_count": 11,
   "id": "28f806e3",
   "metadata": {},
   "outputs": [
    {
     "name": "stdout",
     "output_type": "stream",
     "text": [
      "Please enter the denomination: 7\n",
      "No such note exists with denomination : 7\n"
     ]
    }
   ],
   "source": [
    "faces_on_money = {\n",
    "   1 : \"George Washington\"  , 2 : \"Thomas Jefferson\" , 5 : \"Abraham Lincoln\" ,10 : \"Alexander Hamilton\",20 : \"Andrew Jackson\" ,50 : \"Ulysses S. Grant\" , 100 : \"Benjamin Franklin\" \n",
    "}\n",
    "\n",
    "denomination = int(input(\"Please enter the denomination: \"))\n",
    "try:\n",
    "    induvidual = faces_on_money[denomination]\n",
    "    print(\"THe face appeared : \"+induvidual)\n",
    "\n",
    "except KeyError:\n",
    "    print(f\"No such note exists with denomination : {denomination}\")"
   ]
  },
  {
   "cell_type": "markdown",
   "id": "ce3c8d2d",
   "metadata": {},
   "source": [
    "Exercise 44: Date to Holiday Name\n",
    "Canada has three national holidays which fall on the same dates each year.\n",
    "    Holiday\n",
    "New year’s day\n",
    "Canada day Christmas day\n",
    "Date\n",
    "January 1 July 1 December 25\n",
    "    "
   ]
  },
  {
   "cell_type": "code",
   "execution_count": 20,
   "id": "61de9ed2",
   "metadata": {},
   "outputs": [
    {
     "name": "stdout",
     "output_type": "stream",
     "text": [
      "Please enter the month:hun\n",
      "Please enter the day:3\n",
      "User Input : ['hun', 3]\n",
      "It is not associated to any fixed holiday\n"
     ]
    }
   ],
   "source": [
    "holiday_list = {\n",
    "    \"New Year\" : [\"January\", 1] , \"Canada Day\" : [\"July\", 1] , \"Christmas Day\" : [\"December\", 25]\n",
    "    }\n",
    "\n",
    "month = input(\"Please enter the month:\")\n",
    "day = int(input(\"Please enter the day:\"))\n",
    "\n",
    "date = [month,day]\n",
    "print(f\"User Input : {date}\")\n",
    "\n",
    "key_value = [k for k,v in holiday_list.items() if v == date]\n",
    "\n",
    "if key_value == []:\n",
    "    print(\"It is not associated to any fixed holiday\")\n",
    "else:\n",
    "    print(f\"Its a {key_value}\")\n"
   ]
  },
  {
   "cell_type": "code",
   "execution_count": null,
   "id": "b3ea6048",
   "metadata": {},
   "outputs": [],
   "source": [
    "black = ['a','c','e','g']\n",
    "white = ['b','d','f','h']\n",
    "\n",
    "first = \"\"\n",
    "\n",
    "cell = list(user_input)\n",
    "print(cell)\n",
    "user_input = input(\"Please enter the cell:\")\n",
    "inputs = list(user_input)\n",
    "if inputs[0] in black:\n",
    "    first = \"black\"\n",
    "else:\n",
    "    first = \"white\"\n",
    "    \n",
    "print(first)"
   ]
  },
  {
   "cell_type": "code",
   "execution_count": null,
   "id": "247b2f49",
   "metadata": {},
   "outputs": [],
   "source": [
    "from numpy import random\n",
    "\n",
    "random.seed(0)\n",
    "\n",
    "random.randint()\n"
   ]
  },
  {
   "cell_type": "code",
   "execution_count": null,
   "id": "a6aa080a",
   "metadata": {},
   "outputs": [],
   "source": [
    "print(\"sirisha\")"
   ]
  },
  {
   "cell_type": "code",
   "execution_count": null,
   "id": "2ffab219",
   "metadata": {},
   "outputs": [],
   "source": []
  }
 ],
 "metadata": {
  "kernelspec": {
   "display_name": "Python 3",
   "language": "python",
   "name": "python3"
  },
  "language_info": {
   "codemirror_mode": {
    "name": "ipython",
    "version": 3
   },
   "file_extension": ".py",
   "mimetype": "text/x-python",
   "name": "python",
   "nbconvert_exporter": "python",
   "pygments_lexer": "ipython3",
   "version": "3.8.8"
  }
 },
 "nbformat": 4,
 "nbformat_minor": 5
}
