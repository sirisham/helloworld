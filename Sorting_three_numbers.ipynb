{
 "cells": [
  {
   "cell_type": "markdown",
   "source": [
    "Sort three numbers\n"
   ],
   "metadata": {}
  },
  {
   "cell_type": "code",
   "execution_count": 7,
   "source": [
    "import math\n",
    "\n",
    "n1,n2,n3 = [int(x) for x in input(\"Read three numbers from the user:\").split(',')]\n",
    "\n",
    "l = [n1,n2,n3]\n",
    "\n",
    "total = n1+n2+n3\n",
    "minimum = min(l)\n",
    "maximum = max(l)\n",
    "middle = total - minimum - maximum\n",
    "\n",
    "print(f\"order of input elements :{l}\")\n",
    "print(f'Order of the elements are {minimum,middle,maximum}')"
   ],
   "outputs": [
    {
     "output_type": "stream",
     "name": "stdout",
     "text": [
      "order of input elements :[40, 10, 20]\n",
      "Order of the elements are (10, 20, 40)\n"
     ]
    }
   ],
   "metadata": {}
  }
 ],
 "metadata": {
  "orig_nbformat": 4,
  "language_info": {
   "name": "python",
   "version": "3.8.8",
   "mimetype": "text/x-python",
   "codemirror_mode": {
    "name": "ipython",
    "version": 3
   },
   "pygments_lexer": "ipython3",
   "nbconvert_exporter": "python",
   "file_extension": ".py"
  },
  "kernelspec": {
   "name": "python3",
   "display_name": "Python 3.8.8 64-bit ('base': conda)"
  },
  "interpreter": {
   "hash": "bc63f8f2ffa350c3ac2427cbb8609b6bf013c9708f6500157e16d8b0d940a5de"
  }
 },
 "nbformat": 4,
 "nbformat_minor": 2
}