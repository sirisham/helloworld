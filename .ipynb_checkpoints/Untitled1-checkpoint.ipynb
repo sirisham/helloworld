{
 "cells": [
  {
   "cell_type": "markdown",
   "id": "87ef4280",
   "metadata": {},
   "source": [
    "Exercise 43: Faces on Money\n",
    "(31 Lines) It is common for images of a country’s previous leaders, or other individuals of his- torical significance, to appear on its money. The individuals that appear on banknotes\n",
    "in the United States are listed in Table 2.1.\n",
    "Write a program that begins by reading the denomination of a banknote from the\n",
    "user. Then your program should display the name of the individual that appears on the\n",
    "   This copy belongs to 'acha04'\n",
    "Exercise 43: Faces on Money\n",
    "19\n",
    " Table2.1 Individualsthat appear on Banknotes\n",
    "Individual\n",
    "George Washington\n",
    "Thomas Jefferson Abraham Lincoln Alexander Hamilton Andrew Jackson Ulysses S. Grant Benjamin Franklin\n",
    "Amount $1\n",
    "$2\n",
    "$5\n",
    "$10\n",
    "$20\n",
    "$50\n",
    "$100\n",
    "         banknote of the entered amount. An appropriate error message should be displayed if no such note exists."
   ]
  },
  {
   "cell_type": "code",
   "execution_count": 11,
   "id": "5d9ce3a7",
   "metadata": {},
   "outputs": [
    {
     "name": "stdout",
     "output_type": "stream",
     "text": [
      "Please enter the denomination: 7\n",
      "No such note exists with denomination : 7\n"
     ]
    }
   ],
   "source": [
    "faces_on_money = {\n",
    "   1 : \"George Washington\"  , 2 : \"Thomas Jefferson\" , 5 : \"Abraham Lincoln\" ,10 : \"Alexander Hamilton\",20 : \"Andrew Jackson\" ,50 : \"Ulysses S. Grant\" , 100 : \"Benjamin Franklin\" \n",
    "}\n",
    "\n",
    "denomination = int(input(\"Please enter the denomination: \"))\n",
    "try:\n",
    "    induvidual = faces_on_money[denomination]\n",
    "    print(\"THe face appeared : \"+induvidual)\n",
    "\n",
    "except KeyError:\n",
    "    print(f\"No such note exists with denomination : {denomination}\")"
   ]
  }
 ],
 "metadata": {
  "kernelspec": {
   "display_name": "Python 3",
   "language": "python",
   "name": "python3"
  },
  "language_info": {
   "codemirror_mode": {
    "name": "ipython",
    "version": 3
   },
   "file_extension": ".py",
   "mimetype": "text/x-python",
   "name": "python",
   "nbconvert_exporter": "python",
   "pygments_lexer": "ipython3",
   "version": "3.8.8"
  }
 },
 "nbformat": 4,
 "nbformat_minor": 5
}
