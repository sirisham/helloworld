{
  "cells": [
    {
      "cell_type": "markdown",
      "id": "painful-sampling",
      "metadata": {
        "id": "painful-sampling"
      },
      "source": [
        "**Analyze the Income Gap between Female and Male Employees**"
      ]
    },
    {
      "cell_type": "code",
      "execution_count": 3,
      "id": "quantitative-richards",
      "metadata": {
        "id": "quantitative-richards"
      },
      "outputs": [],
      "source": [
        "import pandas as pd\n",
        "import numpy as np\n",
        "import matplotlib.pyplot as plot"
      ]
    },
    {
      "cell_type": "code",
      "execution_count": 5,
      "id": "related-desert",
      "metadata": {
        "colab": {
          "base_uri": "https://localhost:8080/"
        },
        "id": "related-desert",
        "outputId": "d8c083db-ae20-4752-abc6-3c750638d465"
      },
      "outputs": [
        {
          "output_type": "stream",
          "name": "stderr",
          "text": [
            "/usr/local/lib/python3.7/dist-packages/IPython/core/interactiveshell.py:2718: DtypeWarning: Columns (0,2,8,10,21,23,24,25,26,27,28,44,56,64,83,85,87,107,109,123,125,150,157,172,174,194,210,218,219,223,246,249,262,264,276,277,278,279,280,281,282,283,284,285,286,287,288,289,290,304,306,325,326,329,341,368,371,384,385,389,390,391,393,394) have mixed types.Specify dtype option on import or set low_memory=False.\n",
            "  interactivity=interactivity, compiler=compiler, result=result)\n"
          ]
        }
      ],
      "source": [
        "empdata= pd.read_csv('/content/sample_data/multipleChoiceResponses.csv')"
      ]
    },
    {
      "cell_type": "code",
      "source": [
        "from google.colab import drive\n",
        "drive.mount('/content/drive')"
      ],
      "metadata": {
        "colab": {
          "base_uri": "https://localhost:8080/"
        },
        "id": "8QlmXFyCzSIN",
        "outputId": "520a0b07-a3a1-43f1-9ce2-f93e1bd6db19"
      },
      "id": "8QlmXFyCzSIN",
      "execution_count": 2,
      "outputs": [
        {
          "output_type": "stream",
          "name": "stdout",
          "text": [
            "Mounted at /content/drive\n"
          ]
        }
      ]
    },
    {
      "cell_type": "code",
      "execution_count": 6,
      "id": "sticky-album",
      "metadata": {
        "colab": {
          "base_uri": "https://localhost:8080/"
        },
        "id": "sticky-album",
        "outputId": "7094f324-5d04-45fd-97b1-f13a97db5ee9"
      },
      "outputs": [
        {
          "output_type": "execute_result",
          "data": {
            "text/plain": [
              "Time from Start to Finish (seconds)                                Duration (in seconds)\n",
              "Q1                                                What is your gender? - Selected Choice\n",
              "Q1_OTHER_TEXT                          What is your gender? - Prefer to self-describe...\n",
              "Q2                                                           What is your age (# years)?\n",
              "Q3                                             In which country do you currently reside?\n",
              "                                                             ...                        \n",
              "Q50_Part_5                             What barriers prevent you from making your wor...\n",
              "Q50_Part_6                             What barriers prevent you from making your wor...\n",
              "Q50_Part_7                             What barriers prevent you from making your wor...\n",
              "Q50_Part_8                             What barriers prevent you from making your wor...\n",
              "Q50_OTHER_TEXT                         What barriers prevent you from making your wor...\n",
              "Name: 0, Length: 395, dtype: object"
            ]
          },
          "metadata": {},
          "execution_count": 6
        }
      ],
      "source": [
        "empdata_surveyques=empdata.iloc[0]\n",
        "empdata_surveyques"
      ]
    },
    {
      "cell_type": "code",
      "execution_count": 7,
      "id": "political-tattoo",
      "metadata": {
        "colab": {
          "base_uri": "https://localhost:8080/"
        },
        "id": "political-tattoo",
        "outputId": "23e4d6f5-3718-430c-8be8-a20420300f43"
      },
      "outputs": [
        {
          "output_type": "execute_result",
          "data": {
            "text/plain": [
              "Time from Start to Finish (seconds)                         710\n",
              "Q1                                                       Female\n",
              "Q1_OTHER_TEXT                                                -1\n",
              "Q2                                                        45-49\n",
              "Q3                                     United States of America\n",
              "                                                 ...           \n",
              "Q50_Part_5                                                  NaN\n",
              "Q50_Part_6                                                  NaN\n",
              "Q50_Part_7                                                  NaN\n",
              "Q50_Part_8                                                  NaN\n",
              "Q50_OTHER_TEXT                                               -1\n",
              "Name: 1, Length: 395, dtype: object"
            ]
          },
          "metadata": {},
          "execution_count": 7
        }
      ],
      "source": [
        "empdata=empdata.drop(empdata.index[0])\n",
        "empdata.iloc[0]"
      ]
    },
    {
      "cell_type": "code",
      "execution_count": 8,
      "id": "mighty-resistance",
      "metadata": {
        "colab": {
          "base_uri": "https://localhost:8080/"
        },
        "id": "mighty-resistance",
        "outputId": "9c1268e8-24b5-42cf-e85f-e5930074d6ab"
      },
      "outputs": [
        {
          "output_type": "execute_result",
          "data": {
            "text/plain": [
              "array(['Female', 'Male', 'Prefer not to say', 'Prefer to self-describe'],\n",
              "      dtype=object)"
            ]
          },
          "metadata": {},
          "execution_count": 8
        }
      ],
      "source": [
        "empdata.Q1.unique()"
      ]
    },
    {
      "cell_type": "code",
      "execution_count": 9,
      "id": "statewide-coalition",
      "metadata": {
        "colab": {
          "base_uri": "https://localhost:8080/"
        },
        "id": "statewide-coalition",
        "outputId": "30fbd5df-7375-4f32-cf7b-3b3ada3c3184"
      },
      "outputs": [
        {
          "output_type": "execute_result",
          "data": {
            "text/plain": [
              "I do not wish to disclose my approximate yearly compensation    4756\n",
              "0-10,000                                                        4398\n",
              "10-20,000                                                       1937\n",
              "20-30,000                                                       1395\n",
              "30-40,000                                                       1119\n",
              "40-50,000                                                        965\n",
              "50-60,000                                                        919\n",
              "100-125,000                                                      843\n",
              "60-70,000                                                        729\n",
              "70-80,000                                                        677\n",
              "90-100,000                                                       566\n",
              "125-150,000                                                      533\n",
              "80-90,000                                                        506\n",
              "150-200,000                                                      457\n",
              "200-250,000                                                      172\n",
              "250-300,000                                                       75\n",
              "500,000+                                                          63\n",
              "300-400,000                                                       52\n",
              "400-500,000                                                       23\n",
              "Name: Q9, dtype: int64"
            ]
          },
          "metadata": {},
          "execution_count": 9
        }
      ],
      "source": [
        "empdata['Q9'].value_counts()"
      ]
    },
    {
      "cell_type": "code",
      "execution_count": 10,
      "id": "radio-option",
      "metadata": {
        "id": "radio-option"
      },
      "outputs": [],
      "source": [
        "#filtered unnecessary records from the dataset\n",
        "empdata=empdata[empdata['Q9']!='I do not wish to disclose my approximate yearly compensation']\n",
        "empdata=empdata[empdata['Q9'].notnull()]"
      ]
    },
    {
      "cell_type": "code",
      "execution_count": 11,
      "id": "figured-rugby",
      "metadata": {
        "id": "figured-rugby"
      },
      "outputs": [],
      "source": [
        "#Assigning appropriate values for a compensation column with dictionary and created new column \"Income\"\n",
        "compensation = {'0-10,000': 5000, '10-20,000': 15000, '20-30,000': 25000, '30-40,000': 35000, \n",
        "       '40-50,000': 45000, '50-60,000': 55000, '60-70,000': 65000, '70-80,000': 75000, \n",
        "       '80-90,000': 85000, '90-100,000': 95000, '100-125,000': 112500, \n",
        "       '125-150,000': 137500, '150-200,000': 175000, '200-250,000': 225000, \n",
        "       '250-300,000': 275000, '300-400,000': 350000, '400-500,000': 450000, \n",
        "       '500,000+':500000}\n",
        "\n",
        "empdata['Income'] = empdata['Q9'].apply(lambda x: compensation[x])"
      ]
    },
    {
      "cell_type": "markdown",
      "id": "positive-encyclopedia",
      "metadata": {
        "id": "positive-encyclopedia"
      },
      "source": [
        "**1. Calculate the median income of male employees and the median income of female employee in the population.**"
      ]
    },
    {
      "cell_type": "code",
      "execution_count": 12,
      "id": "upset-purse",
      "metadata": {
        "colab": {
          "base_uri": "https://localhost:8080/"
        },
        "id": "upset-purse",
        "outputId": "e8bd4dec-67ab-46fb-b9b2-6bc35bf54006"
      },
      "outputs": [
        {
          "output_type": "stream",
          "name": "stdout",
          "text": [
            "The Median Income of Female Employees: 25000.0\n"
          ]
        }
      ],
      "source": [
        "female_emp=empdata['Q1']=='Female'\n",
        "print('The Median Income of Female Employees:',empdata.loc[female_emp,'Income'].median())"
      ]
    },
    {
      "cell_type": "code",
      "execution_count": 13,
      "id": "alert-republican",
      "metadata": {
        "colab": {
          "base_uri": "https://localhost:8080/"
        },
        "id": "alert-republican",
        "outputId": "0b5f9aea-df92-4a11-a08a-1c8a9f2b381e"
      },
      "outputs": [
        {
          "output_type": "stream",
          "name": "stdout",
          "text": [
            "The Median Income of Male Employees: 35000.0\n"
          ]
        }
      ],
      "source": [
        "male_emp=empdata['Q1']=='Male'\n",
        "print('The Median Income of Male Employees:',empdata.loc[male_emp,'Income'].median())"
      ]
    },
    {
      "cell_type": "markdown",
      "id": "orange-scratch",
      "metadata": {
        "id": "orange-scratch"
      },
      "source": [
        "**2. Draw an overlaid graph to show the histograms of the incomes of female and male employees in the population. (You create one histogram for male, and another histogram for female, but the two histograms will be displayed in the same graph with different colors).**"
      ]
    },
    {
      "cell_type": "code",
      "execution_count": 30,
      "id": "standing-sphere",
      "metadata": {
        "colab": {
          "base_uri": "https://localhost:8080/",
          "height": 445
        },
        "id": "standing-sphere",
        "outputId": "9ff5e79f-cceb-4f89-a915-8e000e14add6"
      },
      "outputs": [
        {
          "output_type": "stream",
          "name": "stderr",
          "text": [
            "/usr/local/lib/python3.7/dist-packages/numpy/core/_asarray.py:83: VisibleDeprecationWarning: Creating an ndarray from ragged nested sequences (which is a list-or-tuple of lists-or-tuples-or ndarrays with different lengths or shapes) is deprecated. If you meant to do this, you must specify 'dtype=object' when creating the ndarray\n",
            "  return array(a, dtype, copy=False, order=order)\n"
          ]
        },
        {
          "output_type": "display_data",
          "data": {
            "image/png": "[encoded data removed]",
            "text/plain": [
              "<Figure size 864x432 with 1 Axes>"
            ]
          },
          "metadata": {
            "needs_background": "light"
          }
        }
      ],
      "source": [
        "plot.figure(figsize=(12,6))\n",
        "plot.hist([empdata.loc[male_emp,'Income'],empdata.loc[female_emp,'Income']], bins=25,label=['Male','Female'],color=['g','b'],stacked=True)\n",
        "\n",
        "plot.title('Overlaid Histogram to display Incomes of Male and Female employees')\n",
        "plot.legend()\n",
        "plot.show()"
      ]
    },
    {
      "cell_type": "markdown",
      "id": "reserved-wellington",
      "metadata": {
        "id": "reserved-wellington"
      },
      "source": [
        "**3. Use the random sampling, empirical distribution, sample comparison, bootstrap, hypothesis testing as well as A/B testing we discussed in the class to analyze the income gap between female and male employees.**\n",
        "\n",
        "**i) Select a sample from the population. Make sure your sample include 500 employees selected from the population, and consider how to ensure the sampling strategy is fair since the datasets include overwhelmed male employees than female employees**"
      ]
    },
    {
      "cell_type": "code",
      "execution_count": 15,
      "id": "anticipated-governor",
      "metadata": {
        "colab": {
          "base_uri": "https://localhost:8080/"
        },
        "id": "anticipated-governor",
        "outputId": "62ac5f59-6955-449c-e28c-6e5288a83633"
      },
      "outputs": [
        {
          "output_type": "execute_result",
          "data": {
            "text/plain": [
              "Male                       12866\n",
              "Female                      2380\n",
              "Prefer not to say            130\n",
              "Prefer to self-describe       53\n",
              "Name: Q1, dtype: int64"
            ]
          },
          "metadata": {},
          "execution_count": 15
        }
      ],
      "source": [
        "empdata['Q1'].value_counts()"
      ]
    },
    {
      "cell_type": "code",
      "execution_count": 16,
      "id": "impaired-atlanta",
      "metadata": {
        "colab": {
          "base_uri": "https://localhost:8080/"
        },
        "id": "impaired-atlanta",
        "outputId": "06125b8f-ee7c-43f6-a414-6a5bed5f99a9"
      },
      "outputs": [
        {
          "output_type": "execute_result",
          "data": {
            "text/plain": [
              "Male      12866\n",
              "Female     2380\n",
              "Name: Q1, dtype: int64"
            ]
          },
          "metadata": {},
          "execution_count": 16
        }
      ],
      "source": [
        "empdata_1=empdata[empdata['Q1']!='Prefer not to say']\n",
        "empdata_1=empdata_1[empdata_1['Q1']!='Prefer to self-describe']\n",
        "empdata_1['Q1'].value_counts()"
      ]
    },
    {
      "cell_type": "code",
      "execution_count": 17,
      "id": "unsigned-alloy",
      "metadata": {
        "id": "unsigned-alloy"
      },
      "outputs": [],
      "source": [
        "empdata_sample = (empdata_1.groupby('Q1', as_index=False).apply(lambda x: x.sample(n=250)).reset_index(drop=True))"
      ]
    },
    {
      "cell_type": "code",
      "execution_count": 18,
      "id": "typical-qualification",
      "metadata": {
        "colab": {
          "base_uri": "https://localhost:8080/"
        },
        "id": "typical-qualification",
        "outputId": "d1b84598-d7fc-453a-c37a-dd709720be81"
      },
      "outputs": [
        {
          "output_type": "execute_result",
          "data": {
            "text/plain": [
              "Male      250\n",
              "Female    250\n",
              "Name: Q1, dtype: int64"
            ]
          },
          "metadata": {},
          "execution_count": 18
        }
      ],
      "source": [
        "empdata_sample['Q1'].value_counts()"
      ]
    },
    {
      "cell_type": "markdown",
      "id": "decent-boards",
      "metadata": {
        "id": "decent-boards"
      },
      "source": [
        "**ii) Define test statistic, null hypothesis and alternative hypothesis (1 point).**\n",
        "\n",
        "**Test Statistics:** To simulate the Median Income compensation of a randam sample (Size n=500) of Male and Female employees drawn from the population of responses given in the survey data.\n",
        "\n",
        "**Null Hypothesis:** The Median Income compensation of Male and Female employees are equal.\n",
        "\n",
        "**Alternative Hypothesis:** The Median Income compensation of Male and Female employees are not equal (which means there is a significant statistical compensation difference between them)."
      ]
    },
    {
      "cell_type": "markdown",
      "id": "minus-messenger",
      "metadata": {
        "id": "minus-messenger"
      },
      "source": [
        "**iii) Draw the income histogram for the sample, calculate the median income of the sample, and draw a red dot and a yellow dot of the female median income and male median income of the population, respectively, in the histogram**"
      ]
    },
    {
      "cell_type": "code",
      "execution_count": 19,
      "id": "handmade-frequency",
      "metadata": {
        "colab": {
          "base_uri": "https://localhost:8080/",
          "height": 390
        },
        "id": "handmade-frequency",
        "outputId": "7ee1de8a-6762-4f14-bdfe-154c214e02c8"
      },
      "outputs": [
        {
          "output_type": "display_data",
          "data": {
            "image/png": "[encoded data removed]",
            "text/plain": [
              "<Figure size 864x432 with 1 Axes>"
            ]
          },
          "metadata": {
            "needs_background": "light"
          }
        }
      ],
      "source": [
        "plot.figure(figsize=(12,6))\n",
        "plot.hist([empdata_sample.loc[empdata_sample['Q1']=='Male','Income'],empdata_sample.loc[empdata_sample['Q1']=='Female','Income']], bins=25,label=['Male','Female'],color=['g','b'])\n",
        "plot.title('Histogram to display Income compensation of Male and Female employees in sample data')\n",
        "\n",
        "Population_Median_Male_Comp=empdata.loc[empdata['Q1']=='Male','Income'].median()\n",
        "Population_Median_Female_Comp=empdata.loc[empdata['Q1']=='Female','Income'].median()\n",
        "\n",
        "Sample_Median_Male_Comp=empdata_sample.loc[empdata_sample['Q1']=='Male','Income'].median()\n",
        "Sample_Median_Female_Comp=empdata_sample.loc[empdata_sample['Q1']=='Female','Income'].median()\n",
        "\n",
        "plot.axvline(Population_Median_Male_Comp, color = 'y', linestyle = 'dashed', linewidth = 2, label='Median for Male')\n",
        "plot.axvline(Population_Median_Female_Comp, color = 'r', linestyle = 'dashed', linewidth = 2, label='Median for Female')\n",
        "plot.legend()\n",
        "plot.show()"
      ]
    },
    {
      "cell_type": "code",
      "execution_count": 20,
      "id": "underlying-blogger",
      "metadata": {
        "colab": {
          "base_uri": "https://localhost:8080/"
        },
        "id": "underlying-blogger",
        "outputId": "703dff4d-7aca-42b8-b52c-0aef00a587fb"
      },
      "outputs": [
        {
          "output_type": "stream",
          "name": "stdout",
          "text": [
            "The Median Income of Male Employees in sample data: 35000.0\n",
            "The Median Income of Female Employees in sample data: 25000.0\n"
          ]
        }
      ],
      "source": [
        "print('The Median Income of Male Employees in sample data:',Sample_Median_Male_Comp)\n",
        "print('The Median Income of Female Employees in sample data:',Sample_Median_Female_Comp)"
      ]
    },
    {
      "cell_type": "markdown",
      "id": "mighty-overall",
      "metadata": {
        "id": "mighty-overall"
      },
      "source": [
        "**iv) Draw the histogram of the test statistic of the sample, and draw a red dot to show the corresponding test\n",
        "statistic of the population (e.g. the difference of the median incomes between female and male employees)\n",
        "in the diagram**"
      ]
    },
    {
      "cell_type": "code",
      "execution_count": 21,
      "id": "modern-placement",
      "metadata": {
        "colab": {
          "base_uri": "https://localhost:8080/",
          "height": 390
        },
        "id": "modern-placement",
        "outputId": "ba00d84b-7fbe-468f-b014-9dcea936cf37"
      },
      "outputs": [
        {
          "output_type": "display_data",
          "data": {
            "image/png": "[encoded data removed]",
            "text/plain": [
              "<Figure size 864x432 with 1 Axes>"
            ]
          },
          "metadata": {
            "needs_background": "light"
          }
        }
      ],
      "source": [
        "plot.figure(figsize=(12,6))\n",
        "plot.hist([empdata_sample.loc[empdata_sample['Q1']=='Male','Income'],empdata_sample.loc[empdata_sample['Q1']=='Female','Income']], bins=25,label=['Male','Female'],color=['g','b'])\n",
        "\n",
        "difference_income_pop=empdata.loc[empdata['Q1']=='Male','Income'].median()-empdata.loc[empdata['Q1']=='Female','Income'].median()\n",
        "\n",
        "plot.title('Histogram of Test statistics Income compensation of Male and Female employees in sample data')\n",
        "plot.axvline(difference_income_pop, color = 'r', linestyle = 'dashed', linewidth = 2, label='Difference of Income')\n",
        "plot.legend()\n",
        "plot.show()"
      ]
    },
    {
      "cell_type": "code",
      "execution_count": 22,
      "id": "handmade-option",
      "metadata": {
        "colab": {
          "base_uri": "https://localhost:8080/"
        },
        "id": "handmade-option",
        "outputId": "61607874-f62b-4f49-c6a5-e048e2c276ac"
      },
      "outputs": [
        {
          "output_type": "stream",
          "name": "stdout",
          "text": [
            "Difference of the Median incomes between female and male employees of the Population: 10000.0\n"
          ]
        }
      ],
      "source": [
        "print(\"Difference of the Median incomes between female and male employees of the Population:\",difference_income_pop)"
      ]
    },
    {
      "cell_type": "markdown",
      "id": "controversial-quantity",
      "metadata": {
        "id": "controversial-quantity"
      },
      "source": [
        "**v) Write a procedure to use bootstrap to produce at least 5000 samples.**\n",
        "\n",
        "**Steps for Bootstrapping:**\n",
        "* A sample from population with sample size 500.\n",
        "* Draw a sample from the original sample data with replacement with size 500, and replicate 5000 times, each re-sampled sample is called a Bootstrap Sample, and there will totally 5000 Bootstrap Samples.\n",
        "* Evaluate the mean/median for each Bootstrap Sample, and there will be totally 5000 estimates of re-sampled samples.\n",
        "* Construct a sampling distribution i.e. Mean/Median Difference with these 5000 Bootstrap statistics by storing it in array and use it to make further statistical inference like histograms etc."
      ]
    },
    {
      "cell_type": "code",
      "execution_count": 25,
      "id": "informative-prophet",
      "metadata": {
        "colab": {
          "base_uri": "https://localhost:8080/"
        },
        "id": "informative-prophet",
        "outputId": "c7cd791e-88de-415d-d396-474134a463e5"
      },
      "outputs": [
        {
          "output_type": "stream",
          "name": "stdout",
          "text": [
            "The Mean of original data is between 2770.4793061452383 and 9527.243006438137\n"
          ]
        }
      ],
      "source": [
        "gender_group=empdata.groupby('Q1')\n",
        "\n",
        "sample_array = []\n",
        "\n",
        "#Generate 5000 resamples randomly from Dataset without replacement of records\n",
        "emp_df_sample=empdata.sample(5000,replace=False) \n",
        "\n",
        "#selecting Gender column and Income compensation column\n",
        "emp_df_sample=emp_df_sample[['Q1','Income']]\n",
        "for i in range(500):\n",
        "    # Random samples of 5000 with replacment\n",
        "    bootstrap_sample=emp_df_sample.sample(5000,replace=True)\n",
        "    bootstrap_sample_grp=bootstrap_sample.groupby('Q1')\n",
        "    #Male Average Salary\n",
        "    bootrap_male_mean=bootstrap_sample_grp.get_group('Male')['Income'].mean() \n",
        "    #Female Average Salary\n",
        "    bootrap_female_mean=bootstrap_sample_grp.get_group('Female')['Income'].mean()\n",
        "    sample_array.append(bootrap_male_mean-bootrap_female_mean)\n",
        "# Random Bootstrap Samples from array_ls to samples\n",
        "samples=pd.DataFrame(sample_array,columns=['Bootstrap_values']) \n",
        "# 5 % data in normal distribution - first extreme\n",
        "firsttext=samples.Bootstrap_values.quantile(0.050) \n",
        "#95 % of data in normal distribution - last extreme\n",
        "lasttext=samples.Bootstrap_values.quantile(0.950) \n",
        "print(f\"The Mean of original data is between {firsttext} and {lasttext}\")"
      ]
    },
    {
      "cell_type": "markdown",
      "id": "perfect-mouse",
      "metadata": {
        "id": "perfect-mouse"
      },
      "source": [
        "**vi) Draw the histogram of the test statistic of the bootstrap samples (1 point).**"
      ]
    },
    {
      "cell_type": "code",
      "execution_count": 28,
      "id": "centered-court",
      "metadata": {
        "colab": {
          "base_uri": "https://localhost:8080/",
          "height": 500
        },
        "id": "centered-court",
        "outputId": "67cbff54-c474-4f09-a717-d655edd612d1"
      },
      "outputs": [
        {
          "output_type": "execute_result",
          "data": {
            "text/plain": [
              "<matplotlib.legend.Legend at 0x7f9b50f27c50>"
            ]
          },
          "metadata": {},
          "execution_count": 28
        },
        {
          "output_type": "display_data",
          "data": {
            "image/png": "[encoded data removed]",
            "text/plain": [
              "<Figure size 864x576 with 1 Axes>"
            ]
          },
          "metadata": {
            "needs_background": "light"
          }
        }
      ],
      "source": [
        "# Average Male of Original population\n",
        "male_average=gender_group.get_group('Male')['Income'].mean()\n",
        "\n",
        "#Average Female of original population\n",
        "female_average=gender_group.get_group('Female')['Income'].mean() \n",
        "\n",
        "# Difference of Male average and Female average incomes compensation\n",
        "Avg_diff=male_average-female_average \n",
        "\n",
        "histogram = plot.figure(figsize=(12,8))\n",
        "# Histogram to show Bootstarp samples\n",
        "plot.hist(sample_array,bins=20,alpha=0.5,color='yellow',edgecolor='black', linewidth=1.2) \n",
        "\n",
        "# Line to display the approximate data around the mean\n",
        "plot.hlines((0,0),firsttext,lasttext, colors='blue', linestyles='solid',linewidth=5,label='Approximate Data') \n",
        "#To plot Dot using scatter plot of average difference\n",
        "plot.scatter(Avg_diff,0,color='red',s=70,label='Avg Difference Data') \n",
        "plot.legend()"
      ]
    },
    {
      "cell_type": "markdown",
      "id": "sharing-relevance",
      "metadata": {
        "id": "sharing-relevance"
      },
      "source": [
        "**vii) Define confidence interval and P-value to validate the hypothesis you defined**\n",
        "\n",
        "**Confidence Interval:** The confidence interval is an estimator we use to estimate the value of population parameters.It is the range of values that's likely to include a population value with a certain degree of confidence. When we create the interval, we use a sample mean. It is often expressed a % whereby a population means lies between an upper and lower interval.\n",
        "\n",
        "**P-Value:** It is also called Observed Significance Level. The P-value of a test is the chance, based on the model in the null hypothesis, that the test statistic is equal to the value that was observed in the data or is even further in the direction of the alternative. The interval will create a range that might contain the values. When we create the interval, we use a sample mean. Confidence interval can take number of probabilities, most common being a 95 to 99% confidence level."
      ]
    },
    {
      "cell_type": "code",
      "execution_count": 29,
      "id": "biblical-rendering",
      "metadata": {
        "colab": {
          "base_uri": "https://localhost:8080/",
          "height": 609
        },
        "id": "biblical-rendering",
        "outputId": "7f809010-7fe3-414f-a0a7-a563245338b8"
      },
      "outputs": [
        {
          "output_type": "stream",
          "name": "stdout",
          "text": [
            "P value is: 0.8777555110220441\n"
          ]
        },
        {
          "output_type": "display_data",
          "data": {
            "image/png": "[encoded data removed]",
            "text/plain": [
              "<Figure size 1080x720 with 1 Axes>"
            ]
          },
          "metadata": {
            "needs_background": "light"
          }
        }
      ],
      "source": [
        "x = []\n",
        "p=empdata[['Q1','Income']]\n",
        "for temp in range(1000):\n",
        "  i_d=p.sample(len(p),replace=False)['Q1'].reset_index()['Q1']\n",
        "\n",
        "  data={'Q1data':i_d}\n",
        "  df2 = pd.DataFrame(data)\n",
        "  \n",
        "  a1=p['Q1'].reset_index()['Q1']\n",
        "  a2=p['Income'].reset_index()['Income']\n",
        "  \n",
        "  df2['Income']=a2\n",
        "  df2['gender']=a1\n",
        "  i_g=df2.groupby('Q1data')\n",
        "  i_m=i_g.get_group('Male')['Income'].median() \n",
        "  i_f=i_g.get_group('Female')['Income'].median()\n",
        "  x.append(i_m-i_f)\n",
        "grp=empdata.groupby('Q1')\n",
        "\n",
        "median_male=grp.get_group('Male')['Income'].median() \n",
        "median_female=grp.get_group('Female')['Income'].mean() \n",
        "diff=median_male-median_female \n",
        "\n",
        "histogram = plot.figure(figsize=(15,10))\n",
        "plot.hist(x,bins=20,alpha=0.5,color='yellow',edgecolor='blue', linewidth=2)\n",
        "x=np.array(x)\n",
        "P1=np.count_nonzero( x <= diff ) / i #Storing P value\n",
        "print(\"P value is:\",P1)"
      ]
    },
    {
      "cell_type": "markdown",
      "id": "dirty-parade",
      "metadata": {
        "id": "dirty-parade"
      },
      "source": [
        "**Result Interpretation:** As the P-value is less than 0.05, it is considered as very small and the result is statistically significant, which means that the tail beyond the observed statistic is small and so the observed statistic is far away from what the null hypothesis predicts. This implies that the data supports the alternative hypothesis better than null hypothesis i.e Median Income compensation of Male and Female employees are not equal, they are statistically different\n",
        "\n",
        "In-short, it can be stated that the test favors the alternative hypothesis - \"rejects the null hypothesis\""
      ]
    },
    {
      "cell_type": "code",
      "execution_count": null,
      "id": "promising-trick",
      "metadata": {
        "id": "promising-trick"
      },
      "outputs": [],
      "source": [
        ""
      ]
    }
  ],
  "metadata": {
    "kernelspec": {
      "display_name": "Python 3",
      "language": "python",
      "name": "python3"
    },
    "language_info": {
      "codemirror_mode": {
        "name": "ipython",
        "version": 3
      },
      "file_extension": ".py",
      "mimetype": "text/x-python",
      "name": "python",
      "nbconvert_exporter": "python",
      "pygments_lexer": "ipython3",
      "version": "3.8.5"
    },
    "colab": {
      "name": "11518113_assignment4.ipynb",
      "provenance": [],
      "collapsed_sections": []
    }
  },
  "nbformat": 4,
  "nbformat_minor": 5
}