{
 "cells": [
  {
   "cell_type": "code",
   "execution_count": 3,
   "metadata": {},
   "outputs": [
    {
     "name": "stdout",
     "output_type": "stream",
     "text": [
      "January 7\n",
      "February 4\n",
      "March 4\n",
      "April 1\n",
      "May 6\n",
      "June 3\n",
      "July 1\n",
      "August 5\n",
      "September 2\n",
      "October 7\n",
      "November 4\n",
      "December 2\n"
     ]
    }
   ],
   "source": [
    "import calendar\n",
    "for m in range(1,13):\n",
    "    cal = calendar.monthcalendar(2022,m)\n",
    "    weekone = cal[0]\n",
    "    weektwo = cal[1]\n",
    "    if weekone[calendar.FRIDAY] != 0:\n",
    "        meetday = weekone[calendar.FRIDAY]\n",
    "    else:\n",
    "        meetday = weektwo[calendar.FRIDAY]\n",
    "    \n",
    "    print(calendar.month_name[m] , meetday)\n",
    "\n"
   ]
  },
  {
   "cell_type": "code",
   "execution_count": 20,
   "metadata": {},
   "outputs": [
    {
     "name": "stdout",
     "output_type": "stream",
     "text": [
      "Which day of the week do you want to count?\n",
      "0:Monday\n",
      "1:Tuesday\n",
      "2:Wednesday\n",
      "3:Thursday\n",
      "4:Friday\n",
      "5:Saturday\n",
      "6:Sunday\n",
      "7:exit\n",
      "There are 5  Wednesday's in October 2030\n"
     ]
    }
   ],
   "source": [
    "import calendar\n",
    "\n",
    "def count_day(day_count,month_count,year_count):\n",
    "    weeklist = calendar.monthcalendar(year_count,month_count)\n",
    "    daycount = 0\n",
    "    for week in weeklist:\n",
    "        if week[day_count] != 0:\n",
    "            daycount+=1\n",
    "    print(f\"There are {daycount}  {week_day[day_count]}'s in {calendar.month_name[month_count]} {year_count}\") \n",
    "\n",
    "try:\n",
    "    print(\"Which day of the week do you want to count?\")\n",
    "    week_day = [\"Monday\",\"Tuesday\",\"Wednesday\",\"Thursday\",\"Friday\",\"Saturday\",\"Sunday\",\"exit\"]\n",
    "    for i,day in enumerate(week_day):\n",
    "        print(str(i) + \":\" + day)\n",
    "    day_count = int(input(\" ? \"))\n",
    "    year_count = int(input(\"Enter the year:\"))\n",
    "    month_count = int(input(\"Enter the month:\"))\n",
    "    #print(f\"The program will calculate the number of '{week_day[day_count]}' in '{calendar.month_name[month_count]}''{year_count}'\") \n",
    "    #print(f\"'{calendar.monthcalendar(2022,month_count)}'\")\n",
    "    count_day(day_count,month_count,year_count)\n",
    "except Exception as e:\n",
    "    print(e)\n"
   ]
  }
 ],
 "metadata": {
  "interpreter": {
   "hash": "71bb11fca9f6eef2431e46c4d56bebdc351fc4c97a62ad3aeabb6c3041061f1b"
  },
  "kernelspec": {
   "display_name": "Python 3.8.8 64-bit ('base': conda)",
   "language": "python",
   "name": "python3"
  },
  "language_info": {
   "codemirror_mode": {
    "name": "ipython",
    "version": 3
   },
   "file_extension": ".py",
   "mimetype": "text/x-python",
   "name": "python",
   "nbconvert_exporter": "python",
   "pygments_lexer": "ipython3",
   "version": "3.8.8"
  },
  "orig_nbformat": 4
 },
 "nbformat": 4,
 "nbformat_minor": 2
}
