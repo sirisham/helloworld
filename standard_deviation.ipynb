{
 "cells": [
  {
   "cell_type": "code",
   "execution_count": 9,
   "metadata": {},
   "outputs": [
    {
     "name": "stdout",
     "output_type": "stream",
     "text": [
      "mean of the datalist:9.0\n",
      "Variance of the datalist:4.0\n",
      "Standard Deviation of the datalist:2.0\n"
     ]
    }
   ],
   "source": [
    "# importing the modules to compute the mean ,variance and standard deviation \n",
    "import numpy as np\n",
    "from functools import reduce\n",
    "from math import sqrt\n",
    "def standard_deviation(datalist):\n",
    "    # caluculating the mean of the data set using the numpy mean method\n",
    "    mean_value = np.mean(datalist)\n",
    "    # print the mean value of the dataset\n",
    "    print(f\"mean of the datalist:{mean_value}\")\n",
    "    # creating a temporary list to hold the (x-mean) power 2 value\n",
    "    temp_list = list(map(lambda x: (x- mean_value)**2, datalist))\n",
    "    # comuting the sum of the temp list as the numerator of the variance formula\n",
    "    numerator = reduce(lambda x, y : x + y, temp_list)\n",
    "    # check the number of elements in the datalist\n",
    "    denominator = len(temp_list)\n",
    "    # compute the variance value\n",
    "    variance_value = numerator//denominator\n",
    "    print(f\"Variance of the datalist:{variance_value}\")\n",
    "    # compute the standard deviation \n",
    "    std_dev = sqrt(variance_value)\n",
    "    print(f\"Standard Deviation of the datalist:{std_dev}\")\n",
    "\n",
    "#Input data set\n",
    "datalist = [10,6,8,9,12]\n",
    "# calling the function\n",
    "standard_deviation(datalist)\n",
    "\n",
    "'''\n",
    "# constant value\n",
    "k = 5 \n",
    "#generating the new dataset after adding a constant\n",
    "temp_list_2 = list(map(lambda x: x + k, datalist))\n",
    "print(f\"New dataset after addind the constant value {k} is {temp_list_2}\")\n",
    "print(\"Desprictive statistics(Mean,Variance,Standard Deviation) of the dataset after adding the constant\")\n",
    "standard_deviation(temp_list_2)\n",
    "\n",
    "#generating the new dataset after adding a constant\n",
    "temp_list_3 = list(map(lambda x: x * k, datalist))\n",
    "print(f\"New dataset after addind the constant value {k} is {temp_list_3}\")\n",
    "print(\"Desprictive statistics(Mean,Variance,Standard Deviation) of the dataset after multiplying the constant\")\n",
    "standard_deviation(temp_list_3)\n",
    "''';"
   ]
  }
 ],
 "metadata": {
  "interpreter": {
   "hash": "bc63f8f2ffa350c3ac2427cbb8609b6bf013c9708f6500157e16d8b0d940a5de"
  },
  "kernelspec": {
   "display_name": "Python 3.8.8 64-bit ('base': conda)",
   "name": "python3"
  },
  "language_info": {
   "codemirror_mode": {
    "name": "ipython",
    "version": 3
   },
   "file_extension": ".py",
   "mimetype": "text/x-python",
   "name": "python",
   "nbconvert_exporter": "python",
   "pygments_lexer": "ipython3",
   "version": "3.8.8"
  },
  "orig_nbformat": 4
 },
 "nbformat": 4,
 "nbformat_minor": 2
}
