{
 "cells": [
  {
   "cell_type": "markdown",
   "source": [
    "Exercise 33: Day Old Bread\n",
    "(Solved—19 Lines) A bakery sells loaves of bread for $3.49 each. Day old bread is discounted by 60 percent. Write a program that begins by reading the number of loaves of day old bread being purchased from the user. Then your program should display the regular price for the bread, the discount because it is a day old, and the total price. All of the values should be displayed using two decimal places, and the decimal points in all\n",
    "of the numbers should be aligned when reasonable values are entered by the user."
   ],
   "metadata": {}
  },
  {
   "cell_type": "code",
   "execution_count": 6,
   "source": [
    "\n",
    "#CONSTANT VALUES PROVIDED\n",
    "BREAD_PRICE = 3.49\n",
    "DISCOUNT_RATE = 0.60\n",
    "\n",
    "\n",
    "#READ INPPUT FROM THE USER\n",
    "\n",
    "num_bread_bought = int(input(\"please enter the number of breads bought:\"))\n",
    "\n",
    "actual_price = num_bread_bought * BREAD_PRICE\n",
    "\n",
    "discount_applied =  actual_price * DISCOUNT_RATE\n",
    "\n",
    "total_price = actual_price - discount_applied\n",
    "\n",
    "print(f\"Actual Price for {num_bread_bought} loaves of bread is :{round(actual_price,2)}\")\n",
    "\n",
    "print(f\"Discount(60%) applied for {num_bread_bought} loaves of bread (Day old) is :{round(discount_applied,2)}\")\n",
    "\n",
    "print(f\"Total price after discount {num_bread_bought}: {round(total_price,2)} \")"
   ],
   "outputs": [
    {
     "output_type": "stream",
     "name": "stdout",
     "text": [
      "Actual Price for 10 loaves of bread is :34.9\n",
      "Discount(60%) applied for 10 loaves of bread (Day old) is :20.94\n",
      "Total price after discount 10: 13.96 \n"
     ]
    }
   ],
   "metadata": {}
  }
 ],
 "metadata": {
  "orig_nbformat": 4,
  "language_info": {
   "name": "python",
   "version": "3.8.8",
   "mimetype": "text/x-python",
   "codemirror_mode": {
    "name": "ipython",
    "version": 3
   },
   "pygments_lexer": "ipython3",
   "nbconvert_exporter": "python",
   "file_extension": ".py"
  },
  "kernelspec": {
   "name": "python3",
   "display_name": "Python 3.8.8 64-bit ('base': conda)"
  },
  "interpreter": {
   "hash": "bc63f8f2ffa350c3ac2427cbb8609b6bf013c9708f6500157e16d8b0d940a5de"
  }
 },
 "nbformat": 4,
 "nbformat_minor": 2
}